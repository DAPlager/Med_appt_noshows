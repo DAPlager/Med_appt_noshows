{
 "cells": [
  {
   "cell_type": "markdown",
   "metadata": {},
   "source": [
    "\n",
    "# Project 2: Features Contributing to No-Show Medical Appointments\n",
    "### Author: Doug Plager\n",
    "### Udacity Nanodegree: Data Analyst\n",
    "### Date: 2020_12_18\n",
    "\n",
    "## Table of Contents\n",
    "<ul>\n",
    "<li><a href=\"#intro\">Introduction and Research Questions</a></li>\n",
    "<li><a href=\"#wrangling\">Data Wrangling</a></li>\n",
    "    Gather – Assess (Structural issues, NaNs, Data types and values, Duplicates) – Clean\n",
    "<li><a href=\"#eda\">Exploratory Data Analysis</a></li>\n",
    "<li><a href=\"#conclusions\">Conclusions</a></li>\n",
    "</ul>"
   ]
  },
  {
   "cell_type": "markdown",
   "metadata": {},
   "source": [
    "<a id='intro'></a>\n",
    "## Introduction and Research Questions\n",
    "\n",
    "### Introduction\n",
    "\n",
    "The dataset to be analyzed deals with __*Medical Appointment No-Shows*__ of over 100,000 Brazilian patient appointments\n",
    "and is available from [Kaggle](https://www.kaggle.com/joniarroba/noshowappointments).  Eleven of 14 data columns include feature (independent variable) data that may shed light on potential contributors to appointment no-shows (dependent variable)."
   ]
  },
  {
   "cell_type": "markdown",
   "metadata": {},
   "source": [
    "### Research Question Development"
   ]
  },
  {
   "cell_type": "code",
   "execution_count": 1,
   "metadata": {
    "scrolled": false
   },
   "outputs": [
    {
     "data": {
      "text/html": [
       "<div>\n",
       "<style scoped>\n",
       "    .dataframe tbody tr th:only-of-type {\n",
       "        vertical-align: middle;\n",
       "    }\n",
       "\n",
       "    .dataframe tbody tr th {\n",
       "        vertical-align: top;\n",
       "    }\n",
       "\n",
       "    .dataframe thead th {\n",
       "        text-align: right;\n",
       "    }\n",
       "</style>\n",
       "<table border=\"1\" class=\"dataframe\">\n",
       "  <thead>\n",
       "    <tr style=\"text-align: right;\">\n",
       "      <th></th>\n",
       "      <th>PatientId</th>\n",
       "      <th>AppointmentID</th>\n",
       "      <th>Gender</th>\n",
       "      <th>ScheduledDay</th>\n",
       "      <th>AppointmentDay</th>\n",
       "      <th>Age</th>\n",
       "      <th>Neighbourhood</th>\n",
       "      <th>Scholarship</th>\n",
       "      <th>Hipertension</th>\n",
       "      <th>Diabetes</th>\n",
       "      <th>Alcoholism</th>\n",
       "      <th>Handcap</th>\n",
       "      <th>SMS_received</th>\n",
       "      <th>No-show</th>\n",
       "    </tr>\n",
       "  </thead>\n",
       "  <tbody>\n",
       "    <tr>\n",
       "      <th>0</th>\n",
       "      <td>2.987250e+13</td>\n",
       "      <td>5642903</td>\n",
       "      <td>F</td>\n",
       "      <td>2016-04-29T18:38:08Z</td>\n",
       "      <td>2016-04-29T00:00:00Z</td>\n",
       "      <td>62</td>\n",
       "      <td>JARDIM DA PENHA</td>\n",
       "      <td>0</td>\n",
       "      <td>1</td>\n",
       "      <td>0</td>\n",
       "      <td>0</td>\n",
       "      <td>0</td>\n",
       "      <td>0</td>\n",
       "      <td>No</td>\n",
       "    </tr>\n",
       "    <tr>\n",
       "      <th>1</th>\n",
       "      <td>5.589978e+14</td>\n",
       "      <td>5642503</td>\n",
       "      <td>M</td>\n",
       "      <td>2016-04-29T16:08:27Z</td>\n",
       "      <td>2016-04-29T00:00:00Z</td>\n",
       "      <td>56</td>\n",
       "      <td>JARDIM DA PENHA</td>\n",
       "      <td>0</td>\n",
       "      <td>0</td>\n",
       "      <td>0</td>\n",
       "      <td>0</td>\n",
       "      <td>0</td>\n",
       "      <td>0</td>\n",
       "      <td>No</td>\n",
       "    </tr>\n",
       "    <tr>\n",
       "      <th>2</th>\n",
       "      <td>4.262962e+12</td>\n",
       "      <td>5642549</td>\n",
       "      <td>F</td>\n",
       "      <td>2016-04-29T16:19:04Z</td>\n",
       "      <td>2016-04-29T00:00:00Z</td>\n",
       "      <td>62</td>\n",
       "      <td>MATA DA PRAIA</td>\n",
       "      <td>0</td>\n",
       "      <td>0</td>\n",
       "      <td>0</td>\n",
       "      <td>0</td>\n",
       "      <td>0</td>\n",
       "      <td>0</td>\n",
       "      <td>No</td>\n",
       "    </tr>\n",
       "    <tr>\n",
       "      <th>3</th>\n",
       "      <td>8.679512e+11</td>\n",
       "      <td>5642828</td>\n",
       "      <td>F</td>\n",
       "      <td>2016-04-29T17:29:31Z</td>\n",
       "      <td>2016-04-29T00:00:00Z</td>\n",
       "      <td>8</td>\n",
       "      <td>PONTAL DE CAMBURI</td>\n",
       "      <td>0</td>\n",
       "      <td>0</td>\n",
       "      <td>0</td>\n",
       "      <td>0</td>\n",
       "      <td>0</td>\n",
       "      <td>0</td>\n",
       "      <td>No</td>\n",
       "    </tr>\n",
       "    <tr>\n",
       "      <th>4</th>\n",
       "      <td>8.841186e+12</td>\n",
       "      <td>5642494</td>\n",
       "      <td>F</td>\n",
       "      <td>2016-04-29T16:07:23Z</td>\n",
       "      <td>2016-04-29T00:00:00Z</td>\n",
       "      <td>56</td>\n",
       "      <td>JARDIM DA PENHA</td>\n",
       "      <td>0</td>\n",
       "      <td>1</td>\n",
       "      <td>1</td>\n",
       "      <td>0</td>\n",
       "      <td>0</td>\n",
       "      <td>0</td>\n",
       "      <td>No</td>\n",
       "    </tr>\n",
       "    <tr>\n",
       "      <th>5</th>\n",
       "      <td>9.598513e+13</td>\n",
       "      <td>5626772</td>\n",
       "      <td>F</td>\n",
       "      <td>2016-04-27T08:36:51Z</td>\n",
       "      <td>2016-04-29T00:00:00Z</td>\n",
       "      <td>76</td>\n",
       "      <td>REPÚBLICA</td>\n",
       "      <td>0</td>\n",
       "      <td>1</td>\n",
       "      <td>0</td>\n",
       "      <td>0</td>\n",
       "      <td>0</td>\n",
       "      <td>0</td>\n",
       "      <td>No</td>\n",
       "    </tr>\n",
       "    <tr>\n",
       "      <th>6</th>\n",
       "      <td>7.336882e+14</td>\n",
       "      <td>5630279</td>\n",
       "      <td>F</td>\n",
       "      <td>2016-04-27T15:05:12Z</td>\n",
       "      <td>2016-04-29T00:00:00Z</td>\n",
       "      <td>23</td>\n",
       "      <td>GOIABEIRAS</td>\n",
       "      <td>0</td>\n",
       "      <td>0</td>\n",
       "      <td>0</td>\n",
       "      <td>0</td>\n",
       "      <td>0</td>\n",
       "      <td>0</td>\n",
       "      <td>Yes</td>\n",
       "    </tr>\n",
       "    <tr>\n",
       "      <th>7</th>\n",
       "      <td>3.449833e+12</td>\n",
       "      <td>5630575</td>\n",
       "      <td>F</td>\n",
       "      <td>2016-04-27T15:39:58Z</td>\n",
       "      <td>2016-04-29T00:00:00Z</td>\n",
       "      <td>39</td>\n",
       "      <td>GOIABEIRAS</td>\n",
       "      <td>0</td>\n",
       "      <td>0</td>\n",
       "      <td>0</td>\n",
       "      <td>0</td>\n",
       "      <td>0</td>\n",
       "      <td>0</td>\n",
       "      <td>Yes</td>\n",
       "    </tr>\n",
       "    <tr>\n",
       "      <th>8</th>\n",
       "      <td>5.639473e+13</td>\n",
       "      <td>5638447</td>\n",
       "      <td>F</td>\n",
       "      <td>2016-04-29T08:02:16Z</td>\n",
       "      <td>2016-04-29T00:00:00Z</td>\n",
       "      <td>21</td>\n",
       "      <td>ANDORINHAS</td>\n",
       "      <td>0</td>\n",
       "      <td>0</td>\n",
       "      <td>0</td>\n",
       "      <td>0</td>\n",
       "      <td>0</td>\n",
       "      <td>0</td>\n",
       "      <td>No</td>\n",
       "    </tr>\n",
       "    <tr>\n",
       "      <th>9</th>\n",
       "      <td>7.812456e+13</td>\n",
       "      <td>5629123</td>\n",
       "      <td>F</td>\n",
       "      <td>2016-04-27T12:48:25Z</td>\n",
       "      <td>2016-04-29T00:00:00Z</td>\n",
       "      <td>19</td>\n",
       "      <td>CONQUISTA</td>\n",
       "      <td>0</td>\n",
       "      <td>0</td>\n",
       "      <td>0</td>\n",
       "      <td>0</td>\n",
       "      <td>0</td>\n",
       "      <td>0</td>\n",
       "      <td>No</td>\n",
       "    </tr>\n",
       "  </tbody>\n",
       "</table>\n",
       "</div>"
      ],
      "text/plain": [
       "      PatientId  AppointmentID Gender          ScheduledDay  \\\n",
       "0  2.987250e+13        5642903      F  2016-04-29T18:38:08Z   \n",
       "1  5.589978e+14        5642503      M  2016-04-29T16:08:27Z   \n",
       "2  4.262962e+12        5642549      F  2016-04-29T16:19:04Z   \n",
       "3  8.679512e+11        5642828      F  2016-04-29T17:29:31Z   \n",
       "4  8.841186e+12        5642494      F  2016-04-29T16:07:23Z   \n",
       "5  9.598513e+13        5626772      F  2016-04-27T08:36:51Z   \n",
       "6  7.336882e+14        5630279      F  2016-04-27T15:05:12Z   \n",
       "7  3.449833e+12        5630575      F  2016-04-27T15:39:58Z   \n",
       "8  5.639473e+13        5638447      F  2016-04-29T08:02:16Z   \n",
       "9  7.812456e+13        5629123      F  2016-04-27T12:48:25Z   \n",
       "\n",
       "         AppointmentDay  Age      Neighbourhood  Scholarship  Hipertension  \\\n",
       "0  2016-04-29T00:00:00Z   62    JARDIM DA PENHA            0             1   \n",
       "1  2016-04-29T00:00:00Z   56    JARDIM DA PENHA            0             0   \n",
       "2  2016-04-29T00:00:00Z   62      MATA DA PRAIA            0             0   \n",
       "3  2016-04-29T00:00:00Z    8  PONTAL DE CAMBURI            0             0   \n",
       "4  2016-04-29T00:00:00Z   56    JARDIM DA PENHA            0             1   \n",
       "5  2016-04-29T00:00:00Z   76          REPÚBLICA            0             1   \n",
       "6  2016-04-29T00:00:00Z   23         GOIABEIRAS            0             0   \n",
       "7  2016-04-29T00:00:00Z   39         GOIABEIRAS            0             0   \n",
       "8  2016-04-29T00:00:00Z   21         ANDORINHAS            0             0   \n",
       "9  2016-04-29T00:00:00Z   19          CONQUISTA            0             0   \n",
       "\n",
       "   Diabetes  Alcoholism  Handcap  SMS_received No-show  \n",
       "0         0           0        0             0      No  \n",
       "1         0           0        0             0      No  \n",
       "2         0           0        0             0      No  \n",
       "3         0           0        0             0      No  \n",
       "4         1           0        0             0      No  \n",
       "5         0           0        0             0      No  \n",
       "6         0           0        0             0     Yes  \n",
       "7         0           0        0             0     Yes  \n",
       "8         0           0        0             0      No  \n",
       "9         0           0        0             0      No  "
      ]
     },
     "execution_count": 1,
     "metadata": {},
     "output_type": "execute_result"
    }
   ],
   "source": [
    "# Import packages to be used.\n",
    "import pandas as pd\n",
    "import numpy as np\n",
    "import matplotlib.pyplot as plt\n",
    "import seaborn as sns\n",
    "\n",
    "# 'Magic Command' to plot visualizations inline with the notebook.\n",
    "# For more, see http://ipython.readthedocs.io/en/stable/interactive/magics.html .\n",
    "%matplotlib inline\n",
    "\n",
    "# Load and view dataset for a preliminary assessment of the \n",
    "# data columns and values to aid in QUESTION development.\n",
    "df = pd.read_csv('noshowappointments-kagglev2-may-2016.csv')\n",
    "df.head(10)"
   ]
  },
  {
   "cell_type": "markdown",
   "metadata": {},
   "source": [
    "**CONCLUSION:** The DataFrame (df) generally appears as one would expect."
   ]
  },
  {
   "cell_type": "code",
   "execution_count": 2,
   "metadata": {},
   "outputs": [
    {
     "name": "stdout",
     "output_type": "stream",
     "text": [
      "<class 'pandas.core.frame.DataFrame'>\n",
      "RangeIndex: 110527 entries, 0 to 110526\n",
      "Data columns (total 14 columns):\n",
      " #   Column          Non-Null Count   Dtype  \n",
      "---  ------          --------------   -----  \n",
      " 0   PatientId       110527 non-null  float64\n",
      " 1   AppointmentID   110527 non-null  int64  \n",
      " 2   Gender          110527 non-null  object \n",
      " 3   ScheduledDay    110527 non-null  object \n",
      " 4   AppointmentDay  110527 non-null  object \n",
      " 5   Age             110527 non-null  int64  \n",
      " 6   Neighbourhood   110527 non-null  object \n",
      " 7   Scholarship     110527 non-null  int64  \n",
      " 8   Hipertension    110527 non-null  int64  \n",
      " 9   Diabetes        110527 non-null  int64  \n",
      " 10  Alcoholism      110527 non-null  int64  \n",
      " 11  Handcap         110527 non-null  int64  \n",
      " 12  SMS_received    110527 non-null  int64  \n",
      " 13  No-show         110527 non-null  object \n",
      "dtypes: float64(1), int64(8), object(5)\n",
      "memory usage: 11.8+ MB\n"
     ]
    }
   ],
   "source": [
    "# A more concise look at the data columns and the number of Non-Null values therein that are available for potential analysis.\n",
    "df.info()"
   ]
  },
  {
   "cell_type": "markdown",
   "metadata": {},
   "source": [
    "**CONCLUSIONS:**\n",
    "* None of the columns have NULLs that might need to be dropped (i.e., \"Non-Null\" counts all equal the total number of rows).\n",
    "* Column data types for 'PatientId', 'ScheduledDay', and 'AppointmentDay' seem unexpected."
   ]
  },
  {
   "cell_type": "code",
   "execution_count": 3,
   "metadata": {},
   "outputs": [
    {
     "data": {
      "text/html": [
       "<div>\n",
       "<style scoped>\n",
       "    .dataframe tbody tr th:only-of-type {\n",
       "        vertical-align: middle;\n",
       "    }\n",
       "\n",
       "    .dataframe tbody tr th {\n",
       "        vertical-align: top;\n",
       "    }\n",
       "\n",
       "    .dataframe thead th {\n",
       "        text-align: right;\n",
       "    }\n",
       "</style>\n",
       "<table border=\"1\" class=\"dataframe\">\n",
       "  <thead>\n",
       "    <tr style=\"text-align: right;\">\n",
       "      <th></th>\n",
       "      <th>PatientId</th>\n",
       "      <th>AppointmentID</th>\n",
       "      <th>Age</th>\n",
       "      <th>Scholarship</th>\n",
       "      <th>Hipertension</th>\n",
       "      <th>Diabetes</th>\n",
       "      <th>Alcoholism</th>\n",
       "      <th>Handcap</th>\n",
       "      <th>SMS_received</th>\n",
       "    </tr>\n",
       "  </thead>\n",
       "  <tbody>\n",
       "    <tr>\n",
       "      <th>count</th>\n",
       "      <td>1.105270e+05</td>\n",
       "      <td>1.105270e+05</td>\n",
       "      <td>110527.000000</td>\n",
       "      <td>110527.000000</td>\n",
       "      <td>110527.000000</td>\n",
       "      <td>110527.000000</td>\n",
       "      <td>110527.000000</td>\n",
       "      <td>110527.000000</td>\n",
       "      <td>110527.000000</td>\n",
       "    </tr>\n",
       "    <tr>\n",
       "      <th>mean</th>\n",
       "      <td>1.474963e+14</td>\n",
       "      <td>5.675305e+06</td>\n",
       "      <td>37.088874</td>\n",
       "      <td>0.098266</td>\n",
       "      <td>0.197246</td>\n",
       "      <td>0.071865</td>\n",
       "      <td>0.030400</td>\n",
       "      <td>0.022248</td>\n",
       "      <td>0.321026</td>\n",
       "    </tr>\n",
       "    <tr>\n",
       "      <th>std</th>\n",
       "      <td>2.560949e+14</td>\n",
       "      <td>7.129575e+04</td>\n",
       "      <td>23.110205</td>\n",
       "      <td>0.297675</td>\n",
       "      <td>0.397921</td>\n",
       "      <td>0.258265</td>\n",
       "      <td>0.171686</td>\n",
       "      <td>0.161543</td>\n",
       "      <td>0.466873</td>\n",
       "    </tr>\n",
       "    <tr>\n",
       "      <th>min</th>\n",
       "      <td>3.921784e+04</td>\n",
       "      <td>5.030230e+06</td>\n",
       "      <td>-1.000000</td>\n",
       "      <td>0.000000</td>\n",
       "      <td>0.000000</td>\n",
       "      <td>0.000000</td>\n",
       "      <td>0.000000</td>\n",
       "      <td>0.000000</td>\n",
       "      <td>0.000000</td>\n",
       "    </tr>\n",
       "    <tr>\n",
       "      <th>25%</th>\n",
       "      <td>4.172614e+12</td>\n",
       "      <td>5.640286e+06</td>\n",
       "      <td>18.000000</td>\n",
       "      <td>0.000000</td>\n",
       "      <td>0.000000</td>\n",
       "      <td>0.000000</td>\n",
       "      <td>0.000000</td>\n",
       "      <td>0.000000</td>\n",
       "      <td>0.000000</td>\n",
       "    </tr>\n",
       "    <tr>\n",
       "      <th>50%</th>\n",
       "      <td>3.173184e+13</td>\n",
       "      <td>5.680573e+06</td>\n",
       "      <td>37.000000</td>\n",
       "      <td>0.000000</td>\n",
       "      <td>0.000000</td>\n",
       "      <td>0.000000</td>\n",
       "      <td>0.000000</td>\n",
       "      <td>0.000000</td>\n",
       "      <td>0.000000</td>\n",
       "    </tr>\n",
       "    <tr>\n",
       "      <th>75%</th>\n",
       "      <td>9.439172e+13</td>\n",
       "      <td>5.725524e+06</td>\n",
       "      <td>55.000000</td>\n",
       "      <td>0.000000</td>\n",
       "      <td>0.000000</td>\n",
       "      <td>0.000000</td>\n",
       "      <td>0.000000</td>\n",
       "      <td>0.000000</td>\n",
       "      <td>1.000000</td>\n",
       "    </tr>\n",
       "    <tr>\n",
       "      <th>max</th>\n",
       "      <td>9.999816e+14</td>\n",
       "      <td>5.790484e+06</td>\n",
       "      <td>115.000000</td>\n",
       "      <td>1.000000</td>\n",
       "      <td>1.000000</td>\n",
       "      <td>1.000000</td>\n",
       "      <td>1.000000</td>\n",
       "      <td>4.000000</td>\n",
       "      <td>1.000000</td>\n",
       "    </tr>\n",
       "  </tbody>\n",
       "</table>\n",
       "</div>"
      ],
      "text/plain": [
       "          PatientId  AppointmentID            Age    Scholarship  \\\n",
       "count  1.105270e+05   1.105270e+05  110527.000000  110527.000000   \n",
       "mean   1.474963e+14   5.675305e+06      37.088874       0.098266   \n",
       "std    2.560949e+14   7.129575e+04      23.110205       0.297675   \n",
       "min    3.921784e+04   5.030230e+06      -1.000000       0.000000   \n",
       "25%    4.172614e+12   5.640286e+06      18.000000       0.000000   \n",
       "50%    3.173184e+13   5.680573e+06      37.000000       0.000000   \n",
       "75%    9.439172e+13   5.725524e+06      55.000000       0.000000   \n",
       "max    9.999816e+14   5.790484e+06     115.000000       1.000000   \n",
       "\n",
       "        Hipertension       Diabetes     Alcoholism        Handcap  \\\n",
       "count  110527.000000  110527.000000  110527.000000  110527.000000   \n",
       "mean        0.197246       0.071865       0.030400       0.022248   \n",
       "std         0.397921       0.258265       0.171686       0.161543   \n",
       "min         0.000000       0.000000       0.000000       0.000000   \n",
       "25%         0.000000       0.000000       0.000000       0.000000   \n",
       "50%         0.000000       0.000000       0.000000       0.000000   \n",
       "75%         0.000000       0.000000       0.000000       0.000000   \n",
       "max         1.000000       1.000000       1.000000       4.000000   \n",
       "\n",
       "        SMS_received  \n",
       "count  110527.000000  \n",
       "mean        0.321026  \n",
       "std         0.466873  \n",
       "min         0.000000  \n",
       "25%         0.000000  \n",
       "50%         0.000000  \n",
       "75%         1.000000  \n",
       "max         1.000000  "
      ]
     },
     "execution_count": 3,
     "metadata": {},
     "output_type": "execute_result"
    }
   ],
   "source": [
    "# Overall statistics for numeric columns as another preliminary assessment of the data.\n",
    "df.describe()"
   ]
  },
  {
   "cell_type": "markdown",
   "metadata": {},
   "source": [
    "**OBSERVATIONS:**\n",
    "* 'PatientId' minimum, and perhaps the maximum, seems unexpected.\n",
    "* 'Age' minimum of -1 is unexpected.\n",
    "* 'Handcap' levels appear to range from 0 to 4."
   ]
  },
  {
   "cell_type": "code",
   "execution_count": 4,
   "metadata": {},
   "outputs": [
    {
     "data": {
      "image/png": "[encoded data removed]",
      "text/plain": [
       "<Figure size 720x720 with 9 Axes>"
      ]
     },
     "metadata": {
      "needs_background": "light"
     },
     "output_type": "display_data"
    }
   ],
   "source": [
    "# An alternative preliminary view of the numeric data via Histograms.\n",
    "df.hist(figsize=(10, 10));"
   ]
  },
  {
   "cell_type": "markdown",
   "metadata": {},
   "source": [
    "**OBSERVATIONS:**\n",
    "* Again, the 'PatientId' values seem a bit odd, but patient identification number formats can vary widely."
   ]
  },
  {
   "cell_type": "markdown",
   "metadata": {},
   "source": [
    "### Potential Questions to Address:\n",
    "1. Are any features individually associated with decreased or increased relative frequency of being a \"No-Show\"?\n",
    "  \n",
    "  \n",
    "2. Are there individual features associated with high-frequency \"No-Show\" patients?\n",
    "  \n",
    "  \n",
    "3. Are there combinations of 2 or more features that are particularly associated with \"No-Show\" patients?"
   ]
  },
  {
   "cell_type": "markdown",
   "metadata": {},
   "source": [
    "<a id='wrangling'></a>\n",
    "## Data Wrangling\n",
    "\n",
    "\n",
    "### Gather Data\n",
    "Data already loaded and no additional primary data gathering performed."
   ]
  },
  {
   "cell_type": "markdown",
   "metadata": {},
   "source": [
    "### Assess and Clean Data\n",
    "\n",
    "__*Structural issues:*__ \n",
    "\n",
    "By inspection:\n",
    "* Rename 'No-show' to 'No_show' to allow `df.col_name.method()` type commands (next Code cell).\n",
    "* Other column names appear slightly inconsistent, but generally acceptable as they are.\n",
    "* As mentioned above, no other apparent DataFrame structural issues."
   ]
  },
  {
   "cell_type": "code",
   "execution_count": 5,
   "metadata": {},
   "outputs": [
    {
     "data": {
      "text/plain": [
       "No     88208\n",
       "Yes    22319\n",
       "Name: No_show, dtype: int64"
      ]
     },
     "execution_count": 5,
     "metadata": {},
     "output_type": "execute_result"
    }
   ],
   "source": [
    "# Rename the 'No-show' column and test for the change.\n",
    "# NOTE: Overall No-Show rate for this starting dataset is 22319 / (22319 + 88208) = 20.2% .\n",
    "df = df.rename(columns = {'No-show': 'No_show'})\n",
    "df.No_show.value_counts()"
   ]
  },
  {
   "cell_type": "markdown",
   "metadata": {},
   "source": [
    "__*NULLs (NaNs):*__ As mentioned above, none of the columns have NULLs that need to be dropped.\n",
    " \n",
    "__*Column Data Types:*__ Column data type changes are addressed further below."
   ]
  },
  {
   "cell_type": "markdown",
   "metadata": {},
   "source": [
    "__*Column Data Values (A through D) :*__\n",
    "\n",
    "**(A) \"Non-Categorical Numeric\" column values**"
   ]
  },
  {
   "cell_type": "code",
   "execution_count": 6,
   "metadata": {},
   "outputs": [
    {
     "data": {
      "text/plain": [
       "PatientId        3.921784e+04\n",
       "AppointmentID    5.030230e+06\n",
       "Age             -1.000000e+00\n",
       "dtype: float64"
      ]
     },
     "execution_count": 6,
     "metadata": {},
     "output_type": "execute_result"
    }
   ],
   "source": [
    "# Check for unexpected minimum values within the \"Non-Categorical Numeric\" columns.\n",
    "df[['PatientId', 'AppointmentID', 'Age']].min()"
   ]
  },
  {
   "cell_type": "markdown",
   "metadata": {},
   "source": [
    "#### Conclusions:\n",
    "As indicated in the \"Overall statistics\" Observations further above:\n",
    "* 'PatientId' minimum appears to be unexpectedly low and have multiple non-zero digits beyond the dot (.).\n",
    "* 'AppointmentID' minimum looks fine.\n",
    "* 'Age' minimum of -1 is unexpected."
   ]
  },
  {
   "cell_type": "code",
   "execution_count": 7,
   "metadata": {},
   "outputs": [
    {
     "data": {
      "text/plain": [
       "PatientId        9.999816e+14\n",
       "AppointmentID    5.790484e+06\n",
       "Age              1.150000e+02\n",
       "dtype: float64"
      ]
     },
     "execution_count": 7,
     "metadata": {},
     "output_type": "execute_result"
    }
   ],
   "source": [
    "# Check for unexpected maximum values within the \"Non-Categorical Numeric\" columns.\n",
    "df[['PatientId', 'AppointmentID', 'Age']].max()"
   ]
  },
  {
   "cell_type": "markdown",
   "metadata": {},
   "source": [
    "#### Conclusions:\n",
    "As suggested in the \"Overall statistics\" Observations and other output further above:\n",
    "* 'PatientId' maximum seems reasonable given the presence of other \"e+14\" values. However, it is unclear whether all 'PatientId' values should be composed of a specific number of digits (e.g., from 13 to 15 digits).  Thus, there may be additional erroneous 'PatientId' values, but I will leave it here at this time.\n",
    "* Other maximums look fine."
   ]
  },
  {
   "cell_type": "code",
   "execution_count": 8,
   "metadata": {},
   "outputs": [
    {
     "data": {
      "text/plain": [
       "110527"
      ]
     },
     "execution_count": 8,
     "metadata": {},
     "output_type": "execute_result"
    }
   ],
   "source": [
    "# Check for unexpected duplicate 'AppointmentID' values.\n",
    "df.AppointmentID.nunique()"
   ]
  },
  {
   "cell_type": "markdown",
   "metadata": {},
   "source": [
    "**Conclusion:** No duplicate 'AppointmentID' values as should be the case."
   ]
  },
  {
   "cell_type": "markdown",
   "metadata": {},
   "source": [
    "#### Addressing unexpected minimum 'PatientId' value:"
   ]
  },
  {
   "cell_type": "code",
   "execution_count": 9,
   "metadata": {},
   "outputs": [
    {
     "data": {
      "text/html": [
       "<div>\n",
       "<style scoped>\n",
       "    .dataframe tbody tr th:only-of-type {\n",
       "        vertical-align: middle;\n",
       "    }\n",
       "\n",
       "    .dataframe tbody tr th {\n",
       "        vertical-align: top;\n",
       "    }\n",
       "\n",
       "    .dataframe thead th {\n",
       "        text-align: right;\n",
       "    }\n",
       "</style>\n",
       "<table border=\"1\" class=\"dataframe\">\n",
       "  <thead>\n",
       "    <tr style=\"text-align: right;\">\n",
       "      <th></th>\n",
       "      <th>PatientId</th>\n",
       "      <th>AppointmentID</th>\n",
       "      <th>Gender</th>\n",
       "      <th>ScheduledDay</th>\n",
       "      <th>AppointmentDay</th>\n",
       "      <th>Age</th>\n",
       "      <th>Neighbourhood</th>\n",
       "      <th>Scholarship</th>\n",
       "      <th>Hipertension</th>\n",
       "      <th>Diabetes</th>\n",
       "      <th>Alcoholism</th>\n",
       "      <th>Handcap</th>\n",
       "      <th>SMS_received</th>\n",
       "      <th>No_show</th>\n",
       "    </tr>\n",
       "  </thead>\n",
       "  <tbody>\n",
       "    <tr>\n",
       "      <th>100517</th>\n",
       "      <td>39217.84439</td>\n",
       "      <td>5751990</td>\n",
       "      <td>F</td>\n",
       "      <td>2016-05-31T10:56:41Z</td>\n",
       "      <td>2016-06-03T00:00:00Z</td>\n",
       "      <td>44</td>\n",
       "      <td>PRAIA DO SUÁ</td>\n",
       "      <td>0</td>\n",
       "      <td>0</td>\n",
       "      <td>0</td>\n",
       "      <td>0</td>\n",
       "      <td>0</td>\n",
       "      <td>0</td>\n",
       "      <td>No</td>\n",
       "    </tr>\n",
       "  </tbody>\n",
       "</table>\n",
       "</div>"
      ],
      "text/plain": [
       "          PatientId  AppointmentID Gender          ScheduledDay  \\\n",
       "100517  39217.84439        5751990      F  2016-05-31T10:56:41Z   \n",
       "\n",
       "              AppointmentDay  Age Neighbourhood  Scholarship  Hipertension  \\\n",
       "100517  2016-06-03T00:00:00Z   44  PRAIA DO SUÁ            0             0   \n",
       "\n",
       "        Diabetes  Alcoholism  Handcap  SMS_received No_show  \n",
       "100517         0           0        0             0      No  "
      ]
     },
     "execution_count": 9,
     "metadata": {},
     "output_type": "execute_result"
    }
   ],
   "source": [
    "# Look at unexpected minimum PatientId row.\n",
    "df[df['PatientId'] == df.PatientId.min()]"
   ]
  },
  {
   "cell_type": "code",
   "execution_count": 10,
   "metadata": {},
   "outputs": [
    {
     "data": {
      "text/plain": [
       "'PRAIA DO SUÁ'"
      ]
     },
     "execution_count": 10,
     "metadata": {},
     "output_type": "execute_result"
    }
   ],
   "source": [
    "# Are all PRAIA DO SUA (NOTE: not just a standard final English \"A\") patient ids formatted similarly?\n",
    "# Pull out the correct PRAIA DO SUA Neighbourhood spelling for possible Boolean indexing.\n",
    "hood = df.iloc[100517, 6]\n",
    "hood"
   ]
  },
  {
   "cell_type": "code",
   "execution_count": 11,
   "metadata": {},
   "outputs": [
    {
     "data": {
      "text/html": [
       "<div>\n",
       "<style scoped>\n",
       "    .dataframe tbody tr th:only-of-type {\n",
       "        vertical-align: middle;\n",
       "    }\n",
       "\n",
       "    .dataframe tbody tr th {\n",
       "        vertical-align: top;\n",
       "    }\n",
       "\n",
       "    .dataframe thead th {\n",
       "        text-align: right;\n",
       "    }\n",
       "</style>\n",
       "<table border=\"1\" class=\"dataframe\">\n",
       "  <thead>\n",
       "    <tr style=\"text-align: right;\">\n",
       "      <th></th>\n",
       "      <th>PatientId</th>\n",
       "      <th>AppointmentID</th>\n",
       "      <th>Gender</th>\n",
       "      <th>ScheduledDay</th>\n",
       "      <th>AppointmentDay</th>\n",
       "      <th>Age</th>\n",
       "      <th>Neighbourhood</th>\n",
       "      <th>Scholarship</th>\n",
       "      <th>Hipertension</th>\n",
       "      <th>Diabetes</th>\n",
       "      <th>Alcoholism</th>\n",
       "      <th>Handcap</th>\n",
       "      <th>SMS_received</th>\n",
       "      <th>No_show</th>\n",
       "    </tr>\n",
       "  </thead>\n",
       "  <tbody>\n",
       "    <tr>\n",
       "      <th>126</th>\n",
       "      <td>9.447582e+14</td>\n",
       "      <td>5633576</td>\n",
       "      <td>F</td>\n",
       "      <td>2016-04-28T09:37:22Z</td>\n",
       "      <td>2016-04-29T00:00:00Z</td>\n",
       "      <td>67</td>\n",
       "      <td>PRAIA DO SUÁ</td>\n",
       "      <td>0</td>\n",
       "      <td>0</td>\n",
       "      <td>1</td>\n",
       "      <td>0</td>\n",
       "      <td>0</td>\n",
       "      <td>0</td>\n",
       "      <td>Yes</td>\n",
       "    </tr>\n",
       "    <tr>\n",
       "      <th>127</th>\n",
       "      <td>4.224166e+12</td>\n",
       "      <td>5561194</td>\n",
       "      <td>M</td>\n",
       "      <td>2016-04-08T10:14:36Z</td>\n",
       "      <td>2016-04-29T00:00:00Z</td>\n",
       "      <td>42</td>\n",
       "      <td>PRAIA DO SUÁ</td>\n",
       "      <td>0</td>\n",
       "      <td>1</td>\n",
       "      <td>1</td>\n",
       "      <td>0</td>\n",
       "      <td>0</td>\n",
       "      <td>1</td>\n",
       "      <td>No</td>\n",
       "    </tr>\n",
       "    <tr>\n",
       "      <th>128</th>\n",
       "      <td>9.488697e+14</td>\n",
       "      <td>5571842</td>\n",
       "      <td>F</td>\n",
       "      <td>2016-04-12T09:41:01Z</td>\n",
       "      <td>2016-04-29T00:00:00Z</td>\n",
       "      <td>34</td>\n",
       "      <td>PRAIA DO SUÁ</td>\n",
       "      <td>1</td>\n",
       "      <td>0</td>\n",
       "      <td>0</td>\n",
       "      <td>0</td>\n",
       "      <td>0</td>\n",
       "      <td>1</td>\n",
       "      <td>Yes</td>\n",
       "    </tr>\n",
       "    <tr>\n",
       "      <th>129</th>\n",
       "      <td>5.537367e+13</td>\n",
       "      <td>5560735</td>\n",
       "      <td>F</td>\n",
       "      <td>2016-04-08T09:28:50Z</td>\n",
       "      <td>2016-04-29T00:00:00Z</td>\n",
       "      <td>22</td>\n",
       "      <td>PRAIA DO SUÁ</td>\n",
       "      <td>0</td>\n",
       "      <td>0</td>\n",
       "      <td>0</td>\n",
       "      <td>0</td>\n",
       "      <td>0</td>\n",
       "      <td>1</td>\n",
       "      <td>Yes</td>\n",
       "    </tr>\n",
       "    <tr>\n",
       "      <th>131</th>\n",
       "      <td>4.755938e+13</td>\n",
       "      <td>5637150</td>\n",
       "      <td>M</td>\n",
       "      <td>2016-04-28T17:38:06Z</td>\n",
       "      <td>2016-04-29T00:00:00Z</td>\n",
       "      <td>29</td>\n",
       "      <td>PRAIA DO SUÁ</td>\n",
       "      <td>0</td>\n",
       "      <td>0</td>\n",
       "      <td>0</td>\n",
       "      <td>1</td>\n",
       "      <td>0</td>\n",
       "      <td>0</td>\n",
       "      <td>Yes</td>\n",
       "    </tr>\n",
       "    <tr>\n",
       "      <th>...</th>\n",
       "      <td>...</td>\n",
       "      <td>...</td>\n",
       "      <td>...</td>\n",
       "      <td>...</td>\n",
       "      <td>...</td>\n",
       "      <td>...</td>\n",
       "      <td>...</td>\n",
       "      <td>...</td>\n",
       "      <td>...</td>\n",
       "      <td>...</td>\n",
       "      <td>...</td>\n",
       "      <td>...</td>\n",
       "      <td>...</td>\n",
       "      <td>...</td>\n",
       "    </tr>\n",
       "    <tr>\n",
       "      <th>110068</th>\n",
       "      <td>4.468281e+12</td>\n",
       "      <td>5779588</td>\n",
       "      <td>F</td>\n",
       "      <td>2016-06-07T07:06:38Z</td>\n",
       "      <td>2016-06-07T00:00:00Z</td>\n",
       "      <td>47</td>\n",
       "      <td>PRAIA DO CANTO</td>\n",
       "      <td>0</td>\n",
       "      <td>0</td>\n",
       "      <td>0</td>\n",
       "      <td>0</td>\n",
       "      <td>0</td>\n",
       "      <td>0</td>\n",
       "      <td>No</td>\n",
       "    </tr>\n",
       "    <tr>\n",
       "      <th>110072</th>\n",
       "      <td>8.989439e+14</td>\n",
       "      <td>5758767</td>\n",
       "      <td>F</td>\n",
       "      <td>2016-06-01T11:08:29Z</td>\n",
       "      <td>2016-06-06T00:00:00Z</td>\n",
       "      <td>55</td>\n",
       "      <td>PRAIA DO CANTO</td>\n",
       "      <td>0</td>\n",
       "      <td>0</td>\n",
       "      <td>0</td>\n",
       "      <td>0</td>\n",
       "      <td>0</td>\n",
       "      <td>1</td>\n",
       "      <td>No</td>\n",
       "    </tr>\n",
       "    <tr>\n",
       "      <th>110084</th>\n",
       "      <td>7.667838e+14</td>\n",
       "      <td>5752589</td>\n",
       "      <td>F</td>\n",
       "      <td>2016-05-31T12:01:26Z</td>\n",
       "      <td>2016-06-02T00:00:00Z</td>\n",
       "      <td>2</td>\n",
       "      <td>PRAIA DO SUÁ</td>\n",
       "      <td>0</td>\n",
       "      <td>0</td>\n",
       "      <td>0</td>\n",
       "      <td>0</td>\n",
       "      <td>0</td>\n",
       "      <td>0</td>\n",
       "      <td>No</td>\n",
       "    </tr>\n",
       "    <tr>\n",
       "      <th>110189</th>\n",
       "      <td>1.781149e+13</td>\n",
       "      <td>5767699</td>\n",
       "      <td>F</td>\n",
       "      <td>2016-06-03T06:45:22Z</td>\n",
       "      <td>2016-06-08T00:00:00Z</td>\n",
       "      <td>51</td>\n",
       "      <td>PRAIA DO SUÁ</td>\n",
       "      <td>0</td>\n",
       "      <td>0</td>\n",
       "      <td>0</td>\n",
       "      <td>1</td>\n",
       "      <td>0</td>\n",
       "      <td>1</td>\n",
       "      <td>Yes</td>\n",
       "    </tr>\n",
       "    <tr>\n",
       "      <th>110483</th>\n",
       "      <td>1.642781e+12</td>\n",
       "      <td>5769404</td>\n",
       "      <td>F</td>\n",
       "      <td>2016-06-03T08:47:58Z</td>\n",
       "      <td>2016-06-03T00:00:00Z</td>\n",
       "      <td>60</td>\n",
       "      <td>PRAIA DO CANTO</td>\n",
       "      <td>0</td>\n",
       "      <td>1</td>\n",
       "      <td>0</td>\n",
       "      <td>0</td>\n",
       "      <td>0</td>\n",
       "      <td>0</td>\n",
       "      <td>No</td>\n",
       "    </tr>\n",
       "  </tbody>\n",
       "</table>\n",
       "<p>2323 rows × 14 columns</p>\n",
       "</div>"
      ],
      "text/plain": [
       "           PatientId  AppointmentID Gender          ScheduledDay  \\\n",
       "126     9.447582e+14        5633576      F  2016-04-28T09:37:22Z   \n",
       "127     4.224166e+12        5561194      M  2016-04-08T10:14:36Z   \n",
       "128     9.488697e+14        5571842      F  2016-04-12T09:41:01Z   \n",
       "129     5.537367e+13        5560735      F  2016-04-08T09:28:50Z   \n",
       "131     4.755938e+13        5637150      M  2016-04-28T17:38:06Z   \n",
       "...              ...            ...    ...                   ...   \n",
       "110068  4.468281e+12        5779588      F  2016-06-07T07:06:38Z   \n",
       "110072  8.989439e+14        5758767      F  2016-06-01T11:08:29Z   \n",
       "110084  7.667838e+14        5752589      F  2016-05-31T12:01:26Z   \n",
       "110189  1.781149e+13        5767699      F  2016-06-03T06:45:22Z   \n",
       "110483  1.642781e+12        5769404      F  2016-06-03T08:47:58Z   \n",
       "\n",
       "              AppointmentDay  Age   Neighbourhood  Scholarship  Hipertension  \\\n",
       "126     2016-04-29T00:00:00Z   67    PRAIA DO SUÁ            0             0   \n",
       "127     2016-04-29T00:00:00Z   42    PRAIA DO SUÁ            0             1   \n",
       "128     2016-04-29T00:00:00Z   34    PRAIA DO SUÁ            1             0   \n",
       "129     2016-04-29T00:00:00Z   22    PRAIA DO SUÁ            0             0   \n",
       "131     2016-04-29T00:00:00Z   29    PRAIA DO SUÁ            0             0   \n",
       "...                      ...  ...             ...          ...           ...   \n",
       "110068  2016-06-07T00:00:00Z   47  PRAIA DO CANTO            0             0   \n",
       "110072  2016-06-06T00:00:00Z   55  PRAIA DO CANTO            0             0   \n",
       "110084  2016-06-02T00:00:00Z    2    PRAIA DO SUÁ            0             0   \n",
       "110189  2016-06-08T00:00:00Z   51    PRAIA DO SUÁ            0             0   \n",
       "110483  2016-06-03T00:00:00Z   60  PRAIA DO CANTO            0             1   \n",
       "\n",
       "        Diabetes  Alcoholism  Handcap  SMS_received No_show  \n",
       "126            1           0        0             0     Yes  \n",
       "127            1           0        0             1      No  \n",
       "128            0           0        0             1     Yes  \n",
       "129            0           0        0             1     Yes  \n",
       "131            0           1        0             0     Yes  \n",
       "...          ...         ...      ...           ...     ...  \n",
       "110068         0           0        0             0      No  \n",
       "110072         0           0        0             1      No  \n",
       "110084         0           0        0             0      No  \n",
       "110189         0           1        0             1     Yes  \n",
       "110483         0           0        0             0      No  \n",
       "\n",
       "[2323 rows x 14 columns]"
      ]
     },
     "execution_count": 11,
     "metadata": {},
     "output_type": "execute_result"
    }
   ],
   "source": [
    "# Alternatively, use a Regular Expression to identify rows with PRAIA DO SUA-like 'Neighbourhood'.\n",
    "# REM:  ^ , starts with    . , any character    * , >=0 of the preceding (itc, any character)\n",
    "df[df.Neighbourhood.str.contains('^PRAIA DO.*')]"
   ]
  },
  {
   "cell_type": "markdown",
   "metadata": {},
   "source": [
    "**Conclusion:** The 39217.84439 PatientId is unexpected when compared to other PRAIA DO SUÁ PatientIds. \n",
    "\n",
    "**Questions:** Delete this row or attempt to correct?  Just one \"bad\" PatientId row?"
   ]
  },
  {
   "cell_type": "code",
   "execution_count": 12,
   "metadata": {},
   "outputs": [
    {
     "name": "stdout",
     "output_type": "stream",
     "text": [
      "43741.756519999995\n"
     ]
    }
   ],
   "source": [
    "# If row index=100517 is dropped, does the min() value for 'PatientId' look more like one would expect?  \n",
    "# CONCLUSION: NO!\n",
    "print(df.drop(100517, axis=0)['PatientId'].min())"
   ]
  },
  {
   "cell_type": "code",
   "execution_count": 13,
   "metadata": {},
   "outputs": [
    {
     "data": {
      "text/html": [
       "<div>\n",
       "<style scoped>\n",
       "    .dataframe tbody tr th:only-of-type {\n",
       "        vertical-align: middle;\n",
       "    }\n",
       "\n",
       "    .dataframe tbody tr th {\n",
       "        vertical-align: top;\n",
       "    }\n",
       "\n",
       "    .dataframe thead th {\n",
       "        text-align: right;\n",
       "    }\n",
       "</style>\n",
       "<table border=\"1\" class=\"dataframe\">\n",
       "  <thead>\n",
       "    <tr style=\"text-align: right;\">\n",
       "      <th></th>\n",
       "      <th>PatientId</th>\n",
       "      <th>AppointmentID</th>\n",
       "      <th>Gender</th>\n",
       "      <th>ScheduledDay</th>\n",
       "      <th>AppointmentDay</th>\n",
       "      <th>Age</th>\n",
       "      <th>Neighbourhood</th>\n",
       "      <th>Scholarship</th>\n",
       "      <th>Hipertension</th>\n",
       "      <th>Diabetes</th>\n",
       "      <th>Alcoholism</th>\n",
       "      <th>Handcap</th>\n",
       "      <th>SMS_received</th>\n",
       "      <th>No_show</th>\n",
       "    </tr>\n",
       "  </thead>\n",
       "  <tbody>\n",
       "    <tr>\n",
       "      <th>3950</th>\n",
       "      <td>93779.52927</td>\n",
       "      <td>5712759</td>\n",
       "      <td>F</td>\n",
       "      <td>2016-05-18T09:12:29Z</td>\n",
       "      <td>2016-05-18T00:00:00Z</td>\n",
       "      <td>33</td>\n",
       "      <td>CENTRO</td>\n",
       "      <td>0</td>\n",
       "      <td>0</td>\n",
       "      <td>0</td>\n",
       "      <td>0</td>\n",
       "      <td>0</td>\n",
       "      <td>0</td>\n",
       "      <td>No</td>\n",
       "    </tr>\n",
       "    <tr>\n",
       "      <th>73228</th>\n",
       "      <td>537615.2847600001</td>\n",
       "      <td>5637728</td>\n",
       "      <td>F</td>\n",
       "      <td>2016-04-29T07:19:57Z</td>\n",
       "      <td>2016-05-06T00:00:00Z</td>\n",
       "      <td>14</td>\n",
       "      <td>FORTE SÃO JOÃO</td>\n",
       "      <td>0</td>\n",
       "      <td>0</td>\n",
       "      <td>0</td>\n",
       "      <td>0</td>\n",
       "      <td>0</td>\n",
       "      <td>1</td>\n",
       "      <td>No</td>\n",
       "    </tr>\n",
       "    <tr>\n",
       "      <th>73303</th>\n",
       "      <td>141724.16655</td>\n",
       "      <td>5637648</td>\n",
       "      <td>M</td>\n",
       "      <td>2016-04-29T07:13:36Z</td>\n",
       "      <td>2016-05-02T00:00:00Z</td>\n",
       "      <td>12</td>\n",
       "      <td>FORTE SÃO JOÃO</td>\n",
       "      <td>0</td>\n",
       "      <td>0</td>\n",
       "      <td>0</td>\n",
       "      <td>0</td>\n",
       "      <td>0</td>\n",
       "      <td>0</td>\n",
       "      <td>No</td>\n",
       "    </tr>\n",
       "    <tr>\n",
       "      <th>100517</th>\n",
       "      <td>39217.84439</td>\n",
       "      <td>5751990</td>\n",
       "      <td>F</td>\n",
       "      <td>2016-05-31T10:56:41Z</td>\n",
       "      <td>2016-06-03T00:00:00Z</td>\n",
       "      <td>44</td>\n",
       "      <td>PRAIA DO SUÁ</td>\n",
       "      <td>0</td>\n",
       "      <td>0</td>\n",
       "      <td>0</td>\n",
       "      <td>0</td>\n",
       "      <td>0</td>\n",
       "      <td>0</td>\n",
       "      <td>No</td>\n",
       "    </tr>\n",
       "    <tr>\n",
       "      <th>105430</th>\n",
       "      <td>43741.756519999995</td>\n",
       "      <td>5760144</td>\n",
       "      <td>M</td>\n",
       "      <td>2016-06-01T14:22:58Z</td>\n",
       "      <td>2016-06-01T00:00:00Z</td>\n",
       "      <td>39</td>\n",
       "      <td>MARIA ORTIZ</td>\n",
       "      <td>0</td>\n",
       "      <td>0</td>\n",
       "      <td>1</td>\n",
       "      <td>0</td>\n",
       "      <td>0</td>\n",
       "      <td>0</td>\n",
       "      <td>No</td>\n",
       "    </tr>\n",
       "  </tbody>\n",
       "</table>\n",
       "</div>"
      ],
      "text/plain": [
       "                 PatientId  AppointmentID Gender          ScheduledDay  \\\n",
       "3950           93779.52927        5712759      F  2016-05-18T09:12:29Z   \n",
       "73228    537615.2847600001        5637728      F  2016-04-29T07:19:57Z   \n",
       "73303         141724.16655        5637648      M  2016-04-29T07:13:36Z   \n",
       "100517         39217.84439        5751990      F  2016-05-31T10:56:41Z   \n",
       "105430  43741.756519999995        5760144      M  2016-06-01T14:22:58Z   \n",
       "\n",
       "              AppointmentDay  Age   Neighbourhood  Scholarship  Hipertension  \\\n",
       "3950    2016-05-18T00:00:00Z   33          CENTRO            0             0   \n",
       "73228   2016-05-06T00:00:00Z   14  FORTE SÃO JOÃO            0             0   \n",
       "73303   2016-05-02T00:00:00Z   12  FORTE SÃO JOÃO            0             0   \n",
       "100517  2016-06-03T00:00:00Z   44    PRAIA DO SUÁ            0             0   \n",
       "105430  2016-06-01T00:00:00Z   39     MARIA ORTIZ            0             0   \n",
       "\n",
       "        Diabetes  Alcoholism  Handcap  SMS_received No_show  \n",
       "3950           0           0        0             0      No  \n",
       "73228          0           0        0             1      No  \n",
       "73303          0           0        0             0      No  \n",
       "100517         0           0        0             0      No  \n",
       "105430         1           0        0             0      No  "
      ]
     },
     "execution_count": 13,
     "metadata": {},
     "output_type": "execute_result"
    }
   ],
   "source": [
    "# Find PatientIds containing a 'dot' followed by two or more digits.\n",
    "# QUESTION:  Any better approach than converting 'PatientId' from  float  to  str??\n",
    "# NOTE:  str.contains('.*\".\".*') appeared to not work  and  str.contains('.*\\D..*') returned all rows because of  __.0 format.\n",
    "# Regular Expression:  . , any character    * , >= 0 of the preceding    \\D , not a digit    + , >= 1 of the preceding\n",
    "df.PatientId = df.PatientId.astype(str)\n",
    "patId_to_drop = df[df.PatientId.str.contains('.*\\D..+')]\n",
    "patId_to_drop"
   ]
  },
  {
   "cell_type": "markdown",
   "metadata": {},
   "source": [
    "**Conclusion:** Only a handful of these odd PatientIds, so I will drop these just to avoid potential problems."
   ]
  },
  {
   "cell_type": "code",
   "execution_count": 14,
   "metadata": {},
   "outputs": [
    {
     "name": "stdout",
     "output_type": "stream",
     "text": [
      "Int64Index([3950, 73228, 73303, 100517, 105430], dtype='int64')\n"
     ]
    }
   ],
   "source": [
    "# Drop the five apparently \"bad\" PatientId rows using a  .index  approach.  Then recheck .info() and the PatientId minimum.\n",
    "print(patId_to_drop.index)\n",
    "df.drop(patId_to_drop.index, axis=0, inplace=True)"
   ]
  },
  {
   "cell_type": "code",
   "execution_count": 15,
   "metadata": {},
   "outputs": [
    {
     "name": "stdout",
     "output_type": "stream",
     "text": [
      "<class 'pandas.core.frame.DataFrame'>\n",
      "Int64Index: 110522 entries, 0 to 110526\n",
      "Data columns (total 14 columns):\n",
      " #   Column          Non-Null Count   Dtype \n",
      "---  ------          --------------   ----- \n",
      " 0   PatientId       110522 non-null  object\n",
      " 1   AppointmentID   110522 non-null  int64 \n",
      " 2   Gender          110522 non-null  object\n",
      " 3   ScheduledDay    110522 non-null  object\n",
      " 4   AppointmentDay  110522 non-null  object\n",
      " 5   Age             110522 non-null  int64 \n",
      " 6   Neighbourhood   110522 non-null  object\n",
      " 7   Scholarship     110522 non-null  int64 \n",
      " 8   Hipertension    110522 non-null  int64 \n",
      " 9   Diabetes        110522 non-null  int64 \n",
      " 10  Alcoholism      110522 non-null  int64 \n",
      " 11  Handcap         110522 non-null  int64 \n",
      " 12  SMS_received    110522 non-null  int64 \n",
      " 13  No_show         110522 non-null  object\n",
      "dtypes: int64(8), object(6)\n",
      "memory usage: 12.6+ MB\n"
     ]
    }
   ],
   "source": [
    "# Check the number of rows remaining after the preceding .drop().  \n",
    "# CONCLUSION: Looks good (110527 - 110522 = 5 dropped rows).\n",
    "df.info()"
   ]
  },
  {
   "cell_type": "code",
   "execution_count": 16,
   "metadata": {},
   "outputs": [
    {
     "name": "stdout",
     "output_type": "stream",
     "text": [
      "11111462625267.0\n",
      "99999967293459.0\n"
     ]
    }
   ],
   "source": [
    "# Minimum and maximum for 'PatientId' when string/object data type.\n",
    "print(df.PatientId.min())\n",
    "print(df.PatientId.max())"
   ]
  },
  {
   "cell_type": "code",
   "execution_count": 17,
   "metadata": {},
   "outputs": [
    {
     "name": "stdout",
     "output_type": "stream",
     "text": [
      "5628261.0\n",
      "999981631772427.0\n"
     ]
    }
   ],
   "source": [
    "# Minimum and maximum for 'PatientId' when float data type.\n",
    "df.PatientId = df.PatientId.astype(float)\n",
    "print(df.PatientId.min())\n",
    "print(df.PatientId.max())"
   ]
  },
  {
   "cell_type": "markdown",
   "metadata": {},
   "source": [
    "**NOTE:** Given the 5628261 minimum value, it remains unclear what the expected 'PatientId' value format is (e.g., should it be composed of a specific number of digits). So, as mentioned above, there may be some additional erroneous 'PatientId' values, but because the PatientId values are not critical to my subsequent analyses, I will leave the PatientId values as they currently are."
   ]
  },
  {
   "cell_type": "markdown",
   "metadata": {},
   "source": [
    "#### Addressing unexpected minimum 'Age' value:"
   ]
  },
  {
   "cell_type": "code",
   "execution_count": 18,
   "metadata": {},
   "outputs": [
    {
     "data": {
      "text/html": [
       "<div>\n",
       "<style scoped>\n",
       "    .dataframe tbody tr th:only-of-type {\n",
       "        vertical-align: middle;\n",
       "    }\n",
       "\n",
       "    .dataframe tbody tr th {\n",
       "        vertical-align: top;\n",
       "    }\n",
       "\n",
       "    .dataframe thead th {\n",
       "        text-align: right;\n",
       "    }\n",
       "</style>\n",
       "<table border=\"1\" class=\"dataframe\">\n",
       "  <thead>\n",
       "    <tr style=\"text-align: right;\">\n",
       "      <th></th>\n",
       "      <th>PatientId</th>\n",
       "      <th>AppointmentID</th>\n",
       "      <th>Gender</th>\n",
       "      <th>ScheduledDay</th>\n",
       "      <th>AppointmentDay</th>\n",
       "      <th>Age</th>\n",
       "      <th>Neighbourhood</th>\n",
       "      <th>Scholarship</th>\n",
       "      <th>Hipertension</th>\n",
       "      <th>Diabetes</th>\n",
       "      <th>Alcoholism</th>\n",
       "      <th>Handcap</th>\n",
       "      <th>SMS_received</th>\n",
       "      <th>No_show</th>\n",
       "    </tr>\n",
       "  </thead>\n",
       "  <tbody>\n",
       "    <tr>\n",
       "      <th>99832</th>\n",
       "      <td>4.659432e+14</td>\n",
       "      <td>5775010</td>\n",
       "      <td>F</td>\n",
       "      <td>2016-06-06T08:58:13Z</td>\n",
       "      <td>2016-06-06T00:00:00Z</td>\n",
       "      <td>-1</td>\n",
       "      <td>ROMÃO</td>\n",
       "      <td>0</td>\n",
       "      <td>0</td>\n",
       "      <td>0</td>\n",
       "      <td>0</td>\n",
       "      <td>0</td>\n",
       "      <td>0</td>\n",
       "      <td>No</td>\n",
       "    </tr>\n",
       "  </tbody>\n",
       "</table>\n",
       "</div>"
      ],
      "text/plain": [
       "          PatientId  AppointmentID Gender          ScheduledDay  \\\n",
       "99832  4.659432e+14        5775010      F  2016-06-06T08:58:13Z   \n",
       "\n",
       "             AppointmentDay  Age Neighbourhood  Scholarship  Hipertension  \\\n",
       "99832  2016-06-06T00:00:00Z   -1         ROMÃO            0             0   \n",
       "\n",
       "       Diabetes  Alcoholism  Handcap  SMS_received No_show  \n",
       "99832         0           0        0             0      No  "
      ]
     },
     "execution_count": 18,
     "metadata": {},
     "output_type": "execute_result"
    }
   ],
   "source": [
    "# Identify any 'Age' values <0 .\n",
    "age_to_drop = df.query('Age < 0')\n",
    "age_to_drop"
   ]
  },
  {
   "cell_type": "markdown",
   "metadata": {},
   "source": [
    "**Conclusion:** Only one row with an 'Age' of -1.  So, I will check to see if this patient (via their 'PatiendId') has other records with an appropriate 'Age' value to allow me to correct the -1 value, or I will drop this row just to avoid potential problems."
   ]
  },
  {
   "cell_type": "code",
   "execution_count": 19,
   "metadata": {},
   "outputs": [
    {
     "name": "stdout",
     "output_type": "stream",
     "text": [
      "99832    4.659432e+14\n",
      "Name: PatientId, dtype: float64\n",
      "465943158731293.0\n"
     ]
    },
    {
     "data": {
      "text/html": [
       "<div>\n",
       "<style scoped>\n",
       "    .dataframe tbody tr th:only-of-type {\n",
       "        vertical-align: middle;\n",
       "    }\n",
       "\n",
       "    .dataframe tbody tr th {\n",
       "        vertical-align: top;\n",
       "    }\n",
       "\n",
       "    .dataframe thead th {\n",
       "        text-align: right;\n",
       "    }\n",
       "</style>\n",
       "<table border=\"1\" class=\"dataframe\">\n",
       "  <thead>\n",
       "    <tr style=\"text-align: right;\">\n",
       "      <th></th>\n",
       "      <th>PatientId</th>\n",
       "      <th>AppointmentID</th>\n",
       "      <th>Gender</th>\n",
       "      <th>ScheduledDay</th>\n",
       "      <th>AppointmentDay</th>\n",
       "      <th>Age</th>\n",
       "      <th>Neighbourhood</th>\n",
       "      <th>Scholarship</th>\n",
       "      <th>Hipertension</th>\n",
       "      <th>Diabetes</th>\n",
       "      <th>Alcoholism</th>\n",
       "      <th>Handcap</th>\n",
       "      <th>SMS_received</th>\n",
       "      <th>No_show</th>\n",
       "    </tr>\n",
       "  </thead>\n",
       "  <tbody>\n",
       "    <tr>\n",
       "      <th>99832</th>\n",
       "      <td>4.659432e+14</td>\n",
       "      <td>5775010</td>\n",
       "      <td>F</td>\n",
       "      <td>2016-06-06T08:58:13Z</td>\n",
       "      <td>2016-06-06T00:00:00Z</td>\n",
       "      <td>-1</td>\n",
       "      <td>ROMÃO</td>\n",
       "      <td>0</td>\n",
       "      <td>0</td>\n",
       "      <td>0</td>\n",
       "      <td>0</td>\n",
       "      <td>0</td>\n",
       "      <td>0</td>\n",
       "      <td>No</td>\n",
       "    </tr>\n",
       "  </tbody>\n",
       "</table>\n",
       "</div>"
      ],
      "text/plain": [
       "          PatientId  AppointmentID Gender          ScheduledDay  \\\n",
       "99832  4.659432e+14        5775010      F  2016-06-06T08:58:13Z   \n",
       "\n",
       "             AppointmentDay  Age Neighbourhood  Scholarship  Hipertension  \\\n",
       "99832  2016-06-06T00:00:00Z   -1         ROMÃO            0             0   \n",
       "\n",
       "       Diabetes  Alcoholism  Handcap  SMS_received No_show  \n",
       "99832         0           0        0             0      No  "
      ]
     },
     "execution_count": 19,
     "metadata": {},
     "output_type": "execute_result"
    }
   ],
   "source": [
    "# Are there other entries for the -1 'Age' patient via the specific PatientId value?  \n",
    "print(age_to_drop['PatientId'])\n",
    "print(age_to_drop.iloc[0, 0])\n",
    "df[df['PatientId'] == age_to_drop.iloc[0, 0]]"
   ]
  },
  {
   "cell_type": "markdown",
   "metadata": {},
   "source": [
    "**Conclusion:** There are no other 'PatientId' 465943158731293 rows, so instead of correcting this patient's age, I will drop this 'Age' = -1 row."
   ]
  },
  {
   "cell_type": "code",
   "execution_count": 20,
   "metadata": {},
   "outputs": [
    {
     "name": "stdout",
     "output_type": "stream",
     "text": [
      "Int64Index([99832], dtype='int64')\n"
     ]
    }
   ],
   "source": [
    "# Drop the row with 'Age' value = -1.\n",
    "print(age_to_drop.index)\n",
    "df.drop(age_to_drop.index, axis=0, inplace=True)"
   ]
  },
  {
   "cell_type": "code",
   "execution_count": 21,
   "metadata": {},
   "outputs": [
    {
     "name": "stdout",
     "output_type": "stream",
     "text": [
      "<class 'pandas.core.frame.DataFrame'>\n",
      "Int64Index: 110521 entries, 0 to 110526\n",
      "Data columns (total 14 columns):\n",
      " #   Column          Non-Null Count   Dtype  \n",
      "---  ------          --------------   -----  \n",
      " 0   PatientId       110521 non-null  float64\n",
      " 1   AppointmentID   110521 non-null  int64  \n",
      " 2   Gender          110521 non-null  object \n",
      " 3   ScheduledDay    110521 non-null  object \n",
      " 4   AppointmentDay  110521 non-null  object \n",
      " 5   Age             110521 non-null  int64  \n",
      " 6   Neighbourhood   110521 non-null  object \n",
      " 7   Scholarship     110521 non-null  int64  \n",
      " 8   Hipertension    110521 non-null  int64  \n",
      " 9   Diabetes        110521 non-null  int64  \n",
      " 10  Alcoholism      110521 non-null  int64  \n",
      " 11  Handcap         110521 non-null  int64  \n",
      " 12  SMS_received    110521 non-null  int64  \n",
      " 13  No_show         110521 non-null  object \n",
      "dtypes: float64(1), int64(8), object(5)\n",
      "memory usage: 12.6+ MB\n"
     ]
    }
   ],
   "source": [
    "# Check the number of rows remaining after the preceding drop.  \n",
    "# CONCLUSION: Looks good (110521).\n",
    "df.info()"
   ]
  },
  {
   "cell_type": "markdown",
   "metadata": {},
   "source": [
    "**(B) \"Categorical Binary\" (and 'Handcap') column values**"
   ]
  },
  {
   "cell_type": "code",
   "execution_count": 22,
   "metadata": {},
   "outputs": [
    {
     "data": {
      "text/plain": [
       "F    71836\n",
       "M    38685\n",
       "Name: Gender, dtype: int64"
      ]
     },
     "execution_count": 22,
     "metadata": {},
     "output_type": "execute_result"
    }
   ],
   "source": [
    "# Check 'Gender' column for only 'F' or 'M' values.\n",
    "df.Gender.value_counts()"
   ]
  },
  {
   "cell_type": "code",
   "execution_count": 23,
   "metadata": {},
   "outputs": [
    {
     "data": {
      "text/plain": [
       "0    99660\n",
       "1    10861\n",
       "Name: Scholarship, dtype: int64"
      ]
     },
     "execution_count": 23,
     "metadata": {},
     "output_type": "execute_result"
    }
   ],
   "source": [
    "# Check several columns for only 0 or 1 \"binary\" values (or 0 to 4 for 'Handcap' column).\n",
    "df.Scholarship.value_counts()"
   ]
  },
  {
   "cell_type": "code",
   "execution_count": 24,
   "metadata": {},
   "outputs": [
    {
     "data": {
      "text/plain": [
       "0    88720\n",
       "1    21801\n",
       "Name: Hipertension, dtype: int64"
      ]
     },
     "execution_count": 24,
     "metadata": {},
     "output_type": "execute_result"
    }
   ],
   "source": [
    "df.Hipertension.value_counts()"
   ]
  },
  {
   "cell_type": "code",
   "execution_count": 25,
   "metadata": {},
   "outputs": [
    {
     "data": {
      "text/plain": [
       "0    102579\n",
       "1      7942\n",
       "Name: Diabetes, dtype: int64"
      ]
     },
     "execution_count": 25,
     "metadata": {},
     "output_type": "execute_result"
    }
   ],
   "source": [
    "df.Diabetes.value_counts()"
   ]
  },
  {
   "cell_type": "code",
   "execution_count": 26,
   "metadata": {},
   "outputs": [
    {
     "data": {
      "text/plain": [
       "0    107161\n",
       "1      3360\n",
       "Name: Alcoholism, dtype: int64"
      ]
     },
     "execution_count": 26,
     "metadata": {},
     "output_type": "execute_result"
    }
   ],
   "source": [
    "df.Alcoholism.value_counts()"
   ]
  },
  {
   "cell_type": "code",
   "execution_count": 27,
   "metadata": {},
   "outputs": [
    {
     "data": {
      "text/plain": [
       "0    108280\n",
       "1      2042\n",
       "2       183\n",
       "3        13\n",
       "4         3\n",
       "Name: Handcap, dtype: int64"
      ]
     },
     "execution_count": 27,
     "metadata": {},
     "output_type": "execute_result"
    }
   ],
   "source": [
    "df.Handcap.value_counts()"
   ]
  },
  {
   "cell_type": "code",
   "execution_count": 28,
   "metadata": {},
   "outputs": [
    {
     "data": {
      "text/plain": [
       "0    75040\n",
       "1    35481\n",
       "Name: SMS_received, dtype: int64"
      ]
     },
     "execution_count": 28,
     "metadata": {},
     "output_type": "execute_result"
    }
   ],
   "source": [
    "df.SMS_received.value_counts()"
   ]
  },
  {
   "cell_type": "code",
   "execution_count": 29,
   "metadata": {},
   "outputs": [
    {
     "data": {
      "text/plain": [
       "No     88202\n",
       "Yes    22319\n",
       "Name: No_show, dtype: int64"
      ]
     },
     "execution_count": 29,
     "metadata": {},
     "output_type": "execute_result"
    }
   ],
   "source": [
    "df.No_show.value_counts()"
   ]
  },
  {
   "cell_type": "markdown",
   "metadata": {},
   "source": [
    "**Conclusion:** As expected, all of the preceding categorical columns were \"binary\", except for the 'Handcap' column, which had five levels."
   ]
  },
  {
   "cell_type": "markdown",
   "metadata": {},
   "source": [
    "**(C) \"Multi-Categorical\" 'Neighbourhood' column values**"
   ]
  },
  {
   "cell_type": "code",
   "execution_count": 30,
   "metadata": {},
   "outputs": [
    {
     "data": {
      "text/plain": [
       "81"
      ]
     },
     "execution_count": 30,
     "metadata": {},
     "output_type": "execute_result"
    }
   ],
   "source": [
    "# Confirm that the data does not include an excessively high number of unique 'Neighbourhood' values.\n",
    "# CONCLUSION: A reasonable number of only 81 unique values. \n",
    "df.Neighbourhood.nunique()"
   ]
  },
  {
   "cell_type": "code",
   "execution_count": 31,
   "metadata": {
    "scrolled": true
   },
   "outputs": [
    {
     "data": {
      "text/plain": [
       "JARDIM CAMBURI                 7717\n",
       "MARIA ORTIZ                    5804\n",
       "RESISTÊNCIA                    4431\n",
       "JARDIM DA PENHA                3877\n",
       "ITARARÉ                        3514\n",
       "CENTRO                         3333\n",
       "TABUAZEIRO                     3132\n",
       "SANTA MARTHA                   3131\n",
       "JESUS DE NAZARETH              2853\n",
       "BONFIM                         2773\n",
       "SANTO ANTÔNIO                  2746\n",
       "SANTO ANDRÉ                    2571\n",
       "CARATOÍRA                      2565\n",
       "JABOUR                         2509\n",
       "SÃO PEDRO                      2448\n",
       "ILHA DO PRÍNCIPE               2266\n",
       "NOVA PALESTINA                 2264\n",
       "ANDORINHAS                     2262\n",
       "DA PENHA                       2217\n",
       "ROMÃO                          2214\n",
       "GURIGICA                       2018\n",
       "SÃO JOSÉ                       1977\n",
       "BELA VISTA                     1907\n",
       "MARUÍPE                        1902\n",
       "FORTE SÃO JOÃO                 1887\n",
       "ILHA DE SANTA MARIA            1885\n",
       "SÃO CRISTÓVÃO                  1836\n",
       "REDENÇÃO                       1553\n",
       "SÃO BENEDITO                   1439\n",
       "JOANA D´ARC                    1427\n",
       "CRUZAMENTO                     1398\n",
       "CONSOLAÇÃO                     1376\n",
       "SANTA TEREZA                   1332\n",
       "PRAIA DO SUÁ                   1287\n",
       "SANTOS DUMONT                  1276\n",
       "ILHA DAS CAIEIRAS              1071\n",
       "GRANDE VITÓRIA                 1071\n",
       "INHANGUETÁ                     1057\n",
       "PRAIA DO CANTO                 1035\n",
       "BENTO FERREIRA                  858\n",
       "VILA RUBIM                      851\n",
       "CONQUISTA                       849\n",
       "DO QUADRO                       849\n",
       "REPÚBLICA                       835\n",
       "MONTE BELO                      824\n",
       "PARQUE MOSCOSO                  802\n",
       "GOIABEIRAS                      700\n",
       "JUCUTUQUARA                     694\n",
       "FONTE GRANDE                    682\n",
       "MATA DA PRAIA                   644\n",
       "DO CABRAL                       560\n",
       "SANTOS REIS                     547\n",
       "ESTRELINHA                      538\n",
       "SANTA CLARA                     506\n",
       "SOLON BORGES                    469\n",
       "PIEDADE                         452\n",
       "SANTA CECÍLIA                   448\n",
       "SANTA LÚCIA                     438\n",
       "SANTA LUÍZA                     428\n",
       "BARRO VERMELHO                  423\n",
       "DO MOSCOSO                      413\n",
       "MÁRIO CYPRESTE                  371\n",
       "BOA VISTA                       312\n",
       "COMDUSA                         310\n",
       "DE LOURDES                      305\n",
       "ARIOVALDO FAVALESSA             282\n",
       "ANTÔNIO HONÓRIO                 271\n",
       "FRADINHOS                       258\n",
       "ENSEADA DO SUÁ                  235\n",
       "SANTA HELENA                    178\n",
       "HORTO                           175\n",
       "UNIVERSITÁRIO                   152\n",
       "SEGURANÇA DO LAR                145\n",
       "NAZARETH                        135\n",
       "MORADA DE CAMBURI                96\n",
       "PONTAL DE CAMBURI                69\n",
       "ILHA DO BOI                      35\n",
       "ILHA DO FRADE                    10\n",
       "AEROPORTO                         8\n",
       "ILHAS OCEÂNICAS DE TRINDADE       2\n",
       "PARQUE INDUSTRIAL                 1\n",
       "Name: Neighbourhood, dtype: int64"
      ]
     },
     "execution_count": 31,
     "metadata": {},
     "output_type": "execute_result"
    }
   ],
   "source": [
    "# Check for unexpected 'Neighbourhood' values by looking for very low  .value_counts()  tallies.\n",
    "pd.set_option('display.max_rows', 100)\n",
    "df.Neighbourhood.value_counts()"
   ]
  },
  {
   "cell_type": "markdown",
   "metadata": {},
   "source": [
    "**Conclusion:** The three lowest 'Neighbourhood' values did not appear to result from a trivial error, e.g., just a spelling error. Thus, none of the data rows will be dropped based on an apparent trivial 'Neighbourhood' value error."
   ]
  },
  {
   "cell_type": "code",
   "execution_count": 32,
   "metadata": {},
   "outputs": [
    {
     "data": {
      "text/plain": [
       "JARDIM CAMBURI                 7717\n",
       "MARIA ORTIZ                    5804\n",
       "RESISTÊNCIA                    4431\n",
       "JARDIM DA PENHA                3877\n",
       "ITARARÉ                        3514\n",
       "                               ... \n",
       "ILHA DO BOI                      35\n",
       "ILHA DO FRADE                    10\n",
       "AEROPORTO                         8\n",
       "ILHAS OCEÂNICAS DE TRINDADE       2\n",
       "PARQUE INDUSTRIAL                 1\n",
       "Name: Neighbourhood, Length: 81, dtype: int64"
      ]
     },
     "execution_count": 32,
     "metadata": {},
     "output_type": "execute_result"
    }
   ],
   "source": [
    "# Just returning the display of output rows to a lower number.\n",
    "pd.set_option('display.max_rows', 10)\n",
    "df.Neighbourhood.value_counts()"
   ]
  },
  {
   "cell_type": "markdown",
   "metadata": {},
   "source": [
    "**(D) \"datetime\"-type column values**"
   ]
  },
  {
   "cell_type": "code",
   "execution_count": 33,
   "metadata": {},
   "outputs": [
    {
     "data": {
      "text/html": [
       "<div>\n",
       "<style scoped>\n",
       "    .dataframe tbody tr th:only-of-type {\n",
       "        vertical-align: middle;\n",
       "    }\n",
       "\n",
       "    .dataframe tbody tr th {\n",
       "        vertical-align: top;\n",
       "    }\n",
       "\n",
       "    .dataframe thead th {\n",
       "        text-align: right;\n",
       "    }\n",
       "</style>\n",
       "<table border=\"1\" class=\"dataframe\">\n",
       "  <thead>\n",
       "    <tr style=\"text-align: right;\">\n",
       "      <th></th>\n",
       "      <th>PatientId</th>\n",
       "      <th>AppointmentID</th>\n",
       "      <th>Gender</th>\n",
       "      <th>ScheduledDay</th>\n",
       "      <th>AppointmentDay</th>\n",
       "      <th>Age</th>\n",
       "      <th>Neighbourhood</th>\n",
       "      <th>Scholarship</th>\n",
       "      <th>Hipertension</th>\n",
       "      <th>Diabetes</th>\n",
       "      <th>Alcoholism</th>\n",
       "      <th>Handcap</th>\n",
       "      <th>SMS_received</th>\n",
       "      <th>No_show</th>\n",
       "    </tr>\n",
       "  </thead>\n",
       "  <tbody>\n",
       "    <tr>\n",
       "      <th>0</th>\n",
       "      <td>2.987250e+13</td>\n",
       "      <td>5642903</td>\n",
       "      <td>F</td>\n",
       "      <td>2016-04-29T18:38:08Z</td>\n",
       "      <td>2016-04-29T00:00:00Z</td>\n",
       "      <td>62</td>\n",
       "      <td>JARDIM DA PENHA</td>\n",
       "      <td>0</td>\n",
       "      <td>1</td>\n",
       "      <td>0</td>\n",
       "      <td>0</td>\n",
       "      <td>0</td>\n",
       "      <td>0</td>\n",
       "      <td>No</td>\n",
       "    </tr>\n",
       "    <tr>\n",
       "      <th>1</th>\n",
       "      <td>5.589978e+14</td>\n",
       "      <td>5642503</td>\n",
       "      <td>M</td>\n",
       "      <td>2016-04-29T16:08:27Z</td>\n",
       "      <td>2016-04-29T00:00:00Z</td>\n",
       "      <td>56</td>\n",
       "      <td>JARDIM DA PENHA</td>\n",
       "      <td>0</td>\n",
       "      <td>0</td>\n",
       "      <td>0</td>\n",
       "      <td>0</td>\n",
       "      <td>0</td>\n",
       "      <td>0</td>\n",
       "      <td>No</td>\n",
       "    </tr>\n",
       "    <tr>\n",
       "      <th>2</th>\n",
       "      <td>4.262962e+12</td>\n",
       "      <td>5642549</td>\n",
       "      <td>F</td>\n",
       "      <td>2016-04-29T16:19:04Z</td>\n",
       "      <td>2016-04-29T00:00:00Z</td>\n",
       "      <td>62</td>\n",
       "      <td>MATA DA PRAIA</td>\n",
       "      <td>0</td>\n",
       "      <td>0</td>\n",
       "      <td>0</td>\n",
       "      <td>0</td>\n",
       "      <td>0</td>\n",
       "      <td>0</td>\n",
       "      <td>No</td>\n",
       "    </tr>\n",
       "    <tr>\n",
       "      <th>3</th>\n",
       "      <td>8.679512e+11</td>\n",
       "      <td>5642828</td>\n",
       "      <td>F</td>\n",
       "      <td>2016-04-29T17:29:31Z</td>\n",
       "      <td>2016-04-29T00:00:00Z</td>\n",
       "      <td>8</td>\n",
       "      <td>PONTAL DE CAMBURI</td>\n",
       "      <td>0</td>\n",
       "      <td>0</td>\n",
       "      <td>0</td>\n",
       "      <td>0</td>\n",
       "      <td>0</td>\n",
       "      <td>0</td>\n",
       "      <td>No</td>\n",
       "    </tr>\n",
       "    <tr>\n",
       "      <th>4</th>\n",
       "      <td>8.841186e+12</td>\n",
       "      <td>5642494</td>\n",
       "      <td>F</td>\n",
       "      <td>2016-04-29T16:07:23Z</td>\n",
       "      <td>2016-04-29T00:00:00Z</td>\n",
       "      <td>56</td>\n",
       "      <td>JARDIM DA PENHA</td>\n",
       "      <td>0</td>\n",
       "      <td>1</td>\n",
       "      <td>1</td>\n",
       "      <td>0</td>\n",
       "      <td>0</td>\n",
       "      <td>0</td>\n",
       "      <td>No</td>\n",
       "    </tr>\n",
       "    <tr>\n",
       "      <th>...</th>\n",
       "      <td>...</td>\n",
       "      <td>...</td>\n",
       "      <td>...</td>\n",
       "      <td>...</td>\n",
       "      <td>...</td>\n",
       "      <td>...</td>\n",
       "      <td>...</td>\n",
       "      <td>...</td>\n",
       "      <td>...</td>\n",
       "      <td>...</td>\n",
       "      <td>...</td>\n",
       "      <td>...</td>\n",
       "      <td>...</td>\n",
       "      <td>...</td>\n",
       "    </tr>\n",
       "    <tr>\n",
       "      <th>110522</th>\n",
       "      <td>2.572134e+12</td>\n",
       "      <td>5651768</td>\n",
       "      <td>F</td>\n",
       "      <td>2016-05-03T09:15:35Z</td>\n",
       "      <td>2016-06-07T00:00:00Z</td>\n",
       "      <td>56</td>\n",
       "      <td>MARIA ORTIZ</td>\n",
       "      <td>0</td>\n",
       "      <td>0</td>\n",
       "      <td>0</td>\n",
       "      <td>0</td>\n",
       "      <td>0</td>\n",
       "      <td>1</td>\n",
       "      <td>No</td>\n",
       "    </tr>\n",
       "    <tr>\n",
       "      <th>110523</th>\n",
       "      <td>3.596266e+12</td>\n",
       "      <td>5650093</td>\n",
       "      <td>F</td>\n",
       "      <td>2016-05-03T07:27:33Z</td>\n",
       "      <td>2016-06-07T00:00:00Z</td>\n",
       "      <td>51</td>\n",
       "      <td>MARIA ORTIZ</td>\n",
       "      <td>0</td>\n",
       "      <td>0</td>\n",
       "      <td>0</td>\n",
       "      <td>0</td>\n",
       "      <td>0</td>\n",
       "      <td>1</td>\n",
       "      <td>No</td>\n",
       "    </tr>\n",
       "    <tr>\n",
       "      <th>110524</th>\n",
       "      <td>1.557663e+13</td>\n",
       "      <td>5630692</td>\n",
       "      <td>F</td>\n",
       "      <td>2016-04-27T16:03:52Z</td>\n",
       "      <td>2016-06-07T00:00:00Z</td>\n",
       "      <td>21</td>\n",
       "      <td>MARIA ORTIZ</td>\n",
       "      <td>0</td>\n",
       "      <td>0</td>\n",
       "      <td>0</td>\n",
       "      <td>0</td>\n",
       "      <td>0</td>\n",
       "      <td>1</td>\n",
       "      <td>No</td>\n",
       "    </tr>\n",
       "    <tr>\n",
       "      <th>110525</th>\n",
       "      <td>9.213493e+13</td>\n",
       "      <td>5630323</td>\n",
       "      <td>F</td>\n",
       "      <td>2016-04-27T15:09:23Z</td>\n",
       "      <td>2016-06-07T00:00:00Z</td>\n",
       "      <td>38</td>\n",
       "      <td>MARIA ORTIZ</td>\n",
       "      <td>0</td>\n",
       "      <td>0</td>\n",
       "      <td>0</td>\n",
       "      <td>0</td>\n",
       "      <td>0</td>\n",
       "      <td>1</td>\n",
       "      <td>No</td>\n",
       "    </tr>\n",
       "    <tr>\n",
       "      <th>110526</th>\n",
       "      <td>3.775115e+14</td>\n",
       "      <td>5629448</td>\n",
       "      <td>F</td>\n",
       "      <td>2016-04-27T13:30:56Z</td>\n",
       "      <td>2016-06-07T00:00:00Z</td>\n",
       "      <td>54</td>\n",
       "      <td>MARIA ORTIZ</td>\n",
       "      <td>0</td>\n",
       "      <td>0</td>\n",
       "      <td>0</td>\n",
       "      <td>0</td>\n",
       "      <td>0</td>\n",
       "      <td>1</td>\n",
       "      <td>No</td>\n",
       "    </tr>\n",
       "  </tbody>\n",
       "</table>\n",
       "<p>110521 rows × 14 columns</p>\n",
       "</div>"
      ],
      "text/plain": [
       "           PatientId  AppointmentID Gender          ScheduledDay  \\\n",
       "0       2.987250e+13        5642903      F  2016-04-29T18:38:08Z   \n",
       "1       5.589978e+14        5642503      M  2016-04-29T16:08:27Z   \n",
       "2       4.262962e+12        5642549      F  2016-04-29T16:19:04Z   \n",
       "3       8.679512e+11        5642828      F  2016-04-29T17:29:31Z   \n",
       "4       8.841186e+12        5642494      F  2016-04-29T16:07:23Z   \n",
       "...              ...            ...    ...                   ...   \n",
       "110522  2.572134e+12        5651768      F  2016-05-03T09:15:35Z   \n",
       "110523  3.596266e+12        5650093      F  2016-05-03T07:27:33Z   \n",
       "110524  1.557663e+13        5630692      F  2016-04-27T16:03:52Z   \n",
       "110525  9.213493e+13        5630323      F  2016-04-27T15:09:23Z   \n",
       "110526  3.775115e+14        5629448      F  2016-04-27T13:30:56Z   \n",
       "\n",
       "              AppointmentDay  Age      Neighbourhood  Scholarship  \\\n",
       "0       2016-04-29T00:00:00Z   62    JARDIM DA PENHA            0   \n",
       "1       2016-04-29T00:00:00Z   56    JARDIM DA PENHA            0   \n",
       "2       2016-04-29T00:00:00Z   62      MATA DA PRAIA            0   \n",
       "3       2016-04-29T00:00:00Z    8  PONTAL DE CAMBURI            0   \n",
       "4       2016-04-29T00:00:00Z   56    JARDIM DA PENHA            0   \n",
       "...                      ...  ...                ...          ...   \n",
       "110522  2016-06-07T00:00:00Z   56        MARIA ORTIZ            0   \n",
       "110523  2016-06-07T00:00:00Z   51        MARIA ORTIZ            0   \n",
       "110524  2016-06-07T00:00:00Z   21        MARIA ORTIZ            0   \n",
       "110525  2016-06-07T00:00:00Z   38        MARIA ORTIZ            0   \n",
       "110526  2016-06-07T00:00:00Z   54        MARIA ORTIZ            0   \n",
       "\n",
       "        Hipertension  Diabetes  Alcoholism  Handcap  SMS_received No_show  \n",
       "0                  1         0           0        0             0      No  \n",
       "1                  0         0           0        0             0      No  \n",
       "2                  0         0           0        0             0      No  \n",
       "3                  0         0           0        0             0      No  \n",
       "4                  1         1           0        0             0      No  \n",
       "...              ...       ...         ...      ...           ...     ...  \n",
       "110522             0         0           0        0             1      No  \n",
       "110523             0         0           0        0             1      No  \n",
       "110524             0         0           0        0             1      No  \n",
       "110525             0         0           0        0             1      No  \n",
       "110526             0         0           0        0             1      No  \n",
       "\n",
       "[110521 rows x 14 columns]"
      ]
     },
     "execution_count": 33,
     "metadata": {},
     "output_type": "execute_result"
    }
   ],
   "source": [
    "# Check if all 'ScheduledDay' values conform to a \"datetime\" type value \n",
    "# (ALTERNATIVELY, I suspect just converting data type using  pd.to_datetime(df)  would likely throw an error \n",
    "# if there were some abnormality??).\n",
    "df[df.ScheduledDay.str.match('20\\d\\d-[01]\\d-[0123]\\dT[012]\\d:[0-5]\\d:[0-5]\\dZ')]"
   ]
  },
  {
   "cell_type": "markdown",
   "metadata": {},
   "source": [
    "**Conclusion:** All 'ScheduledDay' values conform to a datetime-type value."
   ]
  },
  {
   "cell_type": "code",
   "execution_count": 34,
   "metadata": {},
   "outputs": [
    {
     "data": {
      "text/html": [
       "<div>\n",
       "<style scoped>\n",
       "    .dataframe tbody tr th:only-of-type {\n",
       "        vertical-align: middle;\n",
       "    }\n",
       "\n",
       "    .dataframe tbody tr th {\n",
       "        vertical-align: top;\n",
       "    }\n",
       "\n",
       "    .dataframe thead th {\n",
       "        text-align: right;\n",
       "    }\n",
       "</style>\n",
       "<table border=\"1\" class=\"dataframe\">\n",
       "  <thead>\n",
       "    <tr style=\"text-align: right;\">\n",
       "      <th></th>\n",
       "      <th>PatientId</th>\n",
       "      <th>AppointmentID</th>\n",
       "      <th>Gender</th>\n",
       "      <th>ScheduledDay</th>\n",
       "      <th>AppointmentDay</th>\n",
       "      <th>Age</th>\n",
       "      <th>Neighbourhood</th>\n",
       "      <th>Scholarship</th>\n",
       "      <th>Hipertension</th>\n",
       "      <th>Diabetes</th>\n",
       "      <th>Alcoholism</th>\n",
       "      <th>Handcap</th>\n",
       "      <th>SMS_received</th>\n",
       "      <th>No_show</th>\n",
       "    </tr>\n",
       "  </thead>\n",
       "  <tbody>\n",
       "    <tr>\n",
       "      <th>0</th>\n",
       "      <td>2.987250e+13</td>\n",
       "      <td>5642903</td>\n",
       "      <td>F</td>\n",
       "      <td>2016-04-29T18:38:08Z</td>\n",
       "      <td>2016-04-29T00:00:00Z</td>\n",
       "      <td>62</td>\n",
       "      <td>JARDIM DA PENHA</td>\n",
       "      <td>0</td>\n",
       "      <td>1</td>\n",
       "      <td>0</td>\n",
       "      <td>0</td>\n",
       "      <td>0</td>\n",
       "      <td>0</td>\n",
       "      <td>No</td>\n",
       "    </tr>\n",
       "    <tr>\n",
       "      <th>1</th>\n",
       "      <td>5.589978e+14</td>\n",
       "      <td>5642503</td>\n",
       "      <td>M</td>\n",
       "      <td>2016-04-29T16:08:27Z</td>\n",
       "      <td>2016-04-29T00:00:00Z</td>\n",
       "      <td>56</td>\n",
       "      <td>JARDIM DA PENHA</td>\n",
       "      <td>0</td>\n",
       "      <td>0</td>\n",
       "      <td>0</td>\n",
       "      <td>0</td>\n",
       "      <td>0</td>\n",
       "      <td>0</td>\n",
       "      <td>No</td>\n",
       "    </tr>\n",
       "    <tr>\n",
       "      <th>2</th>\n",
       "      <td>4.262962e+12</td>\n",
       "      <td>5642549</td>\n",
       "      <td>F</td>\n",
       "      <td>2016-04-29T16:19:04Z</td>\n",
       "      <td>2016-04-29T00:00:00Z</td>\n",
       "      <td>62</td>\n",
       "      <td>MATA DA PRAIA</td>\n",
       "      <td>0</td>\n",
       "      <td>0</td>\n",
       "      <td>0</td>\n",
       "      <td>0</td>\n",
       "      <td>0</td>\n",
       "      <td>0</td>\n",
       "      <td>No</td>\n",
       "    </tr>\n",
       "    <tr>\n",
       "      <th>3</th>\n",
       "      <td>8.679512e+11</td>\n",
       "      <td>5642828</td>\n",
       "      <td>F</td>\n",
       "      <td>2016-04-29T17:29:31Z</td>\n",
       "      <td>2016-04-29T00:00:00Z</td>\n",
       "      <td>8</td>\n",
       "      <td>PONTAL DE CAMBURI</td>\n",
       "      <td>0</td>\n",
       "      <td>0</td>\n",
       "      <td>0</td>\n",
       "      <td>0</td>\n",
       "      <td>0</td>\n",
       "      <td>0</td>\n",
       "      <td>No</td>\n",
       "    </tr>\n",
       "    <tr>\n",
       "      <th>4</th>\n",
       "      <td>8.841186e+12</td>\n",
       "      <td>5642494</td>\n",
       "      <td>F</td>\n",
       "      <td>2016-04-29T16:07:23Z</td>\n",
       "      <td>2016-04-29T00:00:00Z</td>\n",
       "      <td>56</td>\n",
       "      <td>JARDIM DA PENHA</td>\n",
       "      <td>0</td>\n",
       "      <td>1</td>\n",
       "      <td>1</td>\n",
       "      <td>0</td>\n",
       "      <td>0</td>\n",
       "      <td>0</td>\n",
       "      <td>No</td>\n",
       "    </tr>\n",
       "    <tr>\n",
       "      <th>...</th>\n",
       "      <td>...</td>\n",
       "      <td>...</td>\n",
       "      <td>...</td>\n",
       "      <td>...</td>\n",
       "      <td>...</td>\n",
       "      <td>...</td>\n",
       "      <td>...</td>\n",
       "      <td>...</td>\n",
       "      <td>...</td>\n",
       "      <td>...</td>\n",
       "      <td>...</td>\n",
       "      <td>...</td>\n",
       "      <td>...</td>\n",
       "      <td>...</td>\n",
       "    </tr>\n",
       "    <tr>\n",
       "      <th>110522</th>\n",
       "      <td>2.572134e+12</td>\n",
       "      <td>5651768</td>\n",
       "      <td>F</td>\n",
       "      <td>2016-05-03T09:15:35Z</td>\n",
       "      <td>2016-06-07T00:00:00Z</td>\n",
       "      <td>56</td>\n",
       "      <td>MARIA ORTIZ</td>\n",
       "      <td>0</td>\n",
       "      <td>0</td>\n",
       "      <td>0</td>\n",
       "      <td>0</td>\n",
       "      <td>0</td>\n",
       "      <td>1</td>\n",
       "      <td>No</td>\n",
       "    </tr>\n",
       "    <tr>\n",
       "      <th>110523</th>\n",
       "      <td>3.596266e+12</td>\n",
       "      <td>5650093</td>\n",
       "      <td>F</td>\n",
       "      <td>2016-05-03T07:27:33Z</td>\n",
       "      <td>2016-06-07T00:00:00Z</td>\n",
       "      <td>51</td>\n",
       "      <td>MARIA ORTIZ</td>\n",
       "      <td>0</td>\n",
       "      <td>0</td>\n",
       "      <td>0</td>\n",
       "      <td>0</td>\n",
       "      <td>0</td>\n",
       "      <td>1</td>\n",
       "      <td>No</td>\n",
       "    </tr>\n",
       "    <tr>\n",
       "      <th>110524</th>\n",
       "      <td>1.557663e+13</td>\n",
       "      <td>5630692</td>\n",
       "      <td>F</td>\n",
       "      <td>2016-04-27T16:03:52Z</td>\n",
       "      <td>2016-06-07T00:00:00Z</td>\n",
       "      <td>21</td>\n",
       "      <td>MARIA ORTIZ</td>\n",
       "      <td>0</td>\n",
       "      <td>0</td>\n",
       "      <td>0</td>\n",
       "      <td>0</td>\n",
       "      <td>0</td>\n",
       "      <td>1</td>\n",
       "      <td>No</td>\n",
       "    </tr>\n",
       "    <tr>\n",
       "      <th>110525</th>\n",
       "      <td>9.213493e+13</td>\n",
       "      <td>5630323</td>\n",
       "      <td>F</td>\n",
       "      <td>2016-04-27T15:09:23Z</td>\n",
       "      <td>2016-06-07T00:00:00Z</td>\n",
       "      <td>38</td>\n",
       "      <td>MARIA ORTIZ</td>\n",
       "      <td>0</td>\n",
       "      <td>0</td>\n",
       "      <td>0</td>\n",
       "      <td>0</td>\n",
       "      <td>0</td>\n",
       "      <td>1</td>\n",
       "      <td>No</td>\n",
       "    </tr>\n",
       "    <tr>\n",
       "      <th>110526</th>\n",
       "      <td>3.775115e+14</td>\n",
       "      <td>5629448</td>\n",
       "      <td>F</td>\n",
       "      <td>2016-04-27T13:30:56Z</td>\n",
       "      <td>2016-06-07T00:00:00Z</td>\n",
       "      <td>54</td>\n",
       "      <td>MARIA ORTIZ</td>\n",
       "      <td>0</td>\n",
       "      <td>0</td>\n",
       "      <td>0</td>\n",
       "      <td>0</td>\n",
       "      <td>0</td>\n",
       "      <td>1</td>\n",
       "      <td>No</td>\n",
       "    </tr>\n",
       "  </tbody>\n",
       "</table>\n",
       "<p>110521 rows × 14 columns</p>\n",
       "</div>"
      ],
      "text/plain": [
       "           PatientId  AppointmentID Gender          ScheduledDay  \\\n",
       "0       2.987250e+13        5642903      F  2016-04-29T18:38:08Z   \n",
       "1       5.589978e+14        5642503      M  2016-04-29T16:08:27Z   \n",
       "2       4.262962e+12        5642549      F  2016-04-29T16:19:04Z   \n",
       "3       8.679512e+11        5642828      F  2016-04-29T17:29:31Z   \n",
       "4       8.841186e+12        5642494      F  2016-04-29T16:07:23Z   \n",
       "...              ...            ...    ...                   ...   \n",
       "110522  2.572134e+12        5651768      F  2016-05-03T09:15:35Z   \n",
       "110523  3.596266e+12        5650093      F  2016-05-03T07:27:33Z   \n",
       "110524  1.557663e+13        5630692      F  2016-04-27T16:03:52Z   \n",
       "110525  9.213493e+13        5630323      F  2016-04-27T15:09:23Z   \n",
       "110526  3.775115e+14        5629448      F  2016-04-27T13:30:56Z   \n",
       "\n",
       "              AppointmentDay  Age      Neighbourhood  Scholarship  \\\n",
       "0       2016-04-29T00:00:00Z   62    JARDIM DA PENHA            0   \n",
       "1       2016-04-29T00:00:00Z   56    JARDIM DA PENHA            0   \n",
       "2       2016-04-29T00:00:00Z   62      MATA DA PRAIA            0   \n",
       "3       2016-04-29T00:00:00Z    8  PONTAL DE CAMBURI            0   \n",
       "4       2016-04-29T00:00:00Z   56    JARDIM DA PENHA            0   \n",
       "...                      ...  ...                ...          ...   \n",
       "110522  2016-06-07T00:00:00Z   56        MARIA ORTIZ            0   \n",
       "110523  2016-06-07T00:00:00Z   51        MARIA ORTIZ            0   \n",
       "110524  2016-06-07T00:00:00Z   21        MARIA ORTIZ            0   \n",
       "110525  2016-06-07T00:00:00Z   38        MARIA ORTIZ            0   \n",
       "110526  2016-06-07T00:00:00Z   54        MARIA ORTIZ            0   \n",
       "\n",
       "        Hipertension  Diabetes  Alcoholism  Handcap  SMS_received No_show  \n",
       "0                  1         0           0        0             0      No  \n",
       "1                  0         0           0        0             0      No  \n",
       "2                  0         0           0        0             0      No  \n",
       "3                  0         0           0        0             0      No  \n",
       "4                  1         1           0        0             0      No  \n",
       "...              ...       ...         ...      ...           ...     ...  \n",
       "110522             0         0           0        0             1      No  \n",
       "110523             0         0           0        0             1      No  \n",
       "110524             0         0           0        0             1      No  \n",
       "110525             0         0           0        0             1      No  \n",
       "110526             0         0           0        0             1      No  \n",
       "\n",
       "[110521 rows x 14 columns]"
      ]
     },
     "execution_count": 34,
     "metadata": {},
     "output_type": "execute_result"
    }
   ],
   "source": [
    "# Check if all 'AppointmentDay' values conform to a \"datetime\" type value.\n",
    "df[df.AppointmentDay.str.match('20\\d\\d-[01]\\d-[0123]\\dT[012]\\d:[0-5]\\d:[0-5]\\dZ')]"
   ]
  },
  {
   "cell_type": "markdown",
   "metadata": {},
   "source": [
    "**Conclusion:** All 'AppointmentDay' values conform to a datetime-type value."
   ]
  },
  {
   "cell_type": "markdown",
   "metadata": {},
   "source": [
    "__*Column Data Types:*__ Revisited."
   ]
  },
  {
   "cell_type": "code",
   "execution_count": 35,
   "metadata": {},
   "outputs": [
    {
     "name": "stdout",
     "output_type": "stream",
     "text": [
      "<class 'pandas.core.frame.DataFrame'>\n",
      "Int64Index: 110521 entries, 0 to 110526\n",
      "Data columns (total 14 columns):\n",
      " #   Column          Non-Null Count   Dtype  \n",
      "---  ------          --------------   -----  \n",
      " 0   PatientId       110521 non-null  float64\n",
      " 1   AppointmentID   110521 non-null  int64  \n",
      " 2   Gender          110521 non-null  object \n",
      " 3   ScheduledDay    110521 non-null  object \n",
      " 4   AppointmentDay  110521 non-null  object \n",
      " 5   Age             110521 non-null  int64  \n",
      " 6   Neighbourhood   110521 non-null  object \n",
      " 7   Scholarship     110521 non-null  int64  \n",
      " 8   Hipertension    110521 non-null  int64  \n",
      " 9   Diabetes        110521 non-null  int64  \n",
      " 10  Alcoholism      110521 non-null  int64  \n",
      " 11  Handcap         110521 non-null  int64  \n",
      " 12  SMS_received    110521 non-null  int64  \n",
      " 13  No_show         110521 non-null  object \n",
      "dtypes: float64(1), int64(8), object(5)\n",
      "memory usage: 12.6+ MB\n"
     ]
    }
   ],
   "source": [
    "# Recheck column data types.\n",
    "df.info()"
   ]
  },
  {
   "cell_type": "markdown",
   "metadata": {},
   "source": [
    "#### Change to Final Preferred Column Data Types:"
   ]
  },
  {
   "cell_type": "code",
   "execution_count": 36,
   "metadata": {},
   "outputs": [
    {
     "name": "stdout",
     "output_type": "stream",
     "text": [
      "<class 'pandas.core.frame.DataFrame'>\n",
      "Int64Index: 110521 entries, 0 to 110526\n",
      "Data columns (total 14 columns):\n",
      " #   Column          Non-Null Count   Dtype              \n",
      "---  ------          --------------   -----              \n",
      " 0   PatientId       110521 non-null  int64              \n",
      " 1   AppointmentID   110521 non-null  int64              \n",
      " 2   Gender          110521 non-null  object             \n",
      " 3   ScheduledDay    110521 non-null  datetime64[ns, UTC]\n",
      " 4   AppointmentDay  110521 non-null  datetime64[ns, UTC]\n",
      " 5   Age             110521 non-null  int64              \n",
      " 6   Neighbourhood   110521 non-null  object             \n",
      " 7   Scholarship     110521 non-null  int64              \n",
      " 8   Hipertension    110521 non-null  int64              \n",
      " 9   Diabetes        110521 non-null  int64              \n",
      " 10  Alcoholism      110521 non-null  int64              \n",
      " 11  Handcap         110521 non-null  int64              \n",
      " 12  SMS_received    110521 non-null  int64              \n",
      " 13  No_show         110521 non-null  object             \n",
      "dtypes: datetime64[ns, UTC](2), int64(9), object(3)\n",
      "memory usage: 12.6+ MB\n"
     ]
    }
   ],
   "source": [
    "# Changing 'PatientId' from float64 to int64 and 'ScheduledDay' and 'AppointmentDay' from object/str to datetime64.\n",
    "df.PatientId = df.PatientId.astype('int64')\n",
    "df.ScheduledDay = pd.to_datetime(df.ScheduledDay)\n",
    "df.AppointmentDay = pd.to_datetime(df.AppointmentDay)\n",
    "df.info()"
   ]
  },
  {
   "cell_type": "code",
   "execution_count": 37,
   "metadata": {},
   "outputs": [
    {
     "data": {
      "text/plain": [
       "ScheduledDay     2015-11-10 07:13:56+00:00\n",
       "AppointmentDay   2016-04-29 00:00:00+00:00\n",
       "dtype: datetime64[ns, UTC]"
      ]
     },
     "execution_count": 37,
     "metadata": {},
     "output_type": "execute_result"
    }
   ],
   "source": [
    "# Check for the earliest and latest dates in 'ScheduledDay' and 'AppointmentDay' columns.\n",
    "df[['ScheduledDay', 'AppointmentDay']].min()"
   ]
  },
  {
   "cell_type": "code",
   "execution_count": 38,
   "metadata": {},
   "outputs": [
    {
     "data": {
      "text/plain": [
       "ScheduledDay     2016-06-08 20:07:23+00:00\n",
       "AppointmentDay   2016-06-08 00:00:00+00:00\n",
       "dtype: datetime64[ns, UTC]"
      ]
     },
     "execution_count": 38,
     "metadata": {},
     "output_type": "execute_result"
    }
   ],
   "source": [
    "df[['ScheduledDay', 'AppointmentDay']].max()"
   ]
  },
  {
   "cell_type": "markdown",
   "metadata": {},
   "source": [
    "**Conclusion:** Nothing particularly unexpected for the preceding minimum and maximum dates."
   ]
  },
  {
   "cell_type": "markdown",
   "metadata": {},
   "source": [
    "__*Duplicates:*__\n",
    "\n",
    "**Identify and Remove Any Duplicate Rows:**"
   ]
  },
  {
   "cell_type": "code",
   "execution_count": 39,
   "metadata": {},
   "outputs": [
    {
     "data": {
      "text/plain": [
       "0"
      ]
     },
     "execution_count": 39,
     "metadata": {},
     "output_type": "execute_result"
    }
   ],
   "source": [
    "# Obtain the number of duplicated rows.\n",
    "df.duplicated().sum()"
   ]
  },
  {
   "cell_type": "markdown",
   "metadata": {},
   "source": [
    "**Conclusion:** There are no duplicated rows that need to be dropped."
   ]
  },
  {
   "cell_type": "markdown",
   "metadata": {},
   "source": [
    "### Derived Columns Added to the DataFrame"
   ]
  },
  {
   "cell_type": "markdown",
   "metadata": {},
   "source": [
    "#### Duration between Scheduled and Appointment Date"
   ]
  },
  {
   "cell_type": "code",
   "execution_count": 40,
   "metadata": {},
   "outputs": [
    {
     "name": "stdout",
     "output_type": "stream",
     "text": [
      "<class 'pandas.core.series.Series'>\n"
     ]
    },
    {
     "data": {
      "text/plain": [
       "0    -1 days +05:21:52\n",
       "1    -1 days +07:51:33\n",
       "2    -1 days +07:40:56\n",
       "3    -1 days +06:30:29\n",
       "4    -1 days +07:52:37\n",
       "            ...       \n",
       "15     2 days 15:12:33\n",
       "16     0 days 15:08:13\n",
       "17     0 days 14:31:03\n",
       "18     2 days 13:05:42\n",
       "19   -1 days +13:16:46\n",
       "Length: 20, dtype: timedelta64[ns]"
      ]
     },
     "execution_count": 40,
     "metadata": {},
     "output_type": "execute_result"
    }
   ],
   "source": [
    "# Generate and eventually add a new column 'DaysBetween' for the number of days between 'ScheduledDay' and 'AppointmentDay'.\n",
    "days_between = df.AppointmentDay - df.ScheduledDay\n",
    "print(type(days_between))\n",
    "days_between.head(20)"
   ]
  },
  {
   "cell_type": "markdown",
   "metadata": {},
   "source": [
    "**QUESTION:** Where are the \"-1 days\" coming from and how do they compare to \"0 days\"?"
   ]
  },
  {
   "cell_type": "code",
   "execution_count": 41,
   "metadata": {},
   "outputs": [
    {
     "data": {
      "text/html": [
       "<div>\n",
       "<style scoped>\n",
       "    .dataframe tbody tr th:only-of-type {\n",
       "        vertical-align: middle;\n",
       "    }\n",
       "\n",
       "    .dataframe tbody tr th {\n",
       "        vertical-align: top;\n",
       "    }\n",
       "\n",
       "    .dataframe thead th {\n",
       "        text-align: right;\n",
       "    }\n",
       "</style>\n",
       "<table border=\"1\" class=\"dataframe\">\n",
       "  <thead>\n",
       "    <tr style=\"text-align: right;\">\n",
       "      <th></th>\n",
       "      <th>PatientId</th>\n",
       "      <th>AppointmentID</th>\n",
       "      <th>Gender</th>\n",
       "      <th>ScheduledDay</th>\n",
       "      <th>AppointmentDay</th>\n",
       "      <th>Age</th>\n",
       "      <th>Neighbourhood</th>\n",
       "      <th>Scholarship</th>\n",
       "      <th>Hipertension</th>\n",
       "      <th>Diabetes</th>\n",
       "      <th>Alcoholism</th>\n",
       "      <th>Handcap</th>\n",
       "      <th>SMS_received</th>\n",
       "      <th>No_show</th>\n",
       "    </tr>\n",
       "  </thead>\n",
       "  <tbody>\n",
       "    <tr>\n",
       "      <th>0</th>\n",
       "      <td>29872499824296</td>\n",
       "      <td>5642903</td>\n",
       "      <td>F</td>\n",
       "      <td>2016-04-29 18:38:08+00:00</td>\n",
       "      <td>2016-04-29 00:00:00+00:00</td>\n",
       "      <td>62</td>\n",
       "      <td>JARDIM DA PENHA</td>\n",
       "      <td>0</td>\n",
       "      <td>1</td>\n",
       "      <td>0</td>\n",
       "      <td>0</td>\n",
       "      <td>0</td>\n",
       "      <td>0</td>\n",
       "      <td>No</td>\n",
       "    </tr>\n",
       "    <tr>\n",
       "      <th>1</th>\n",
       "      <td>558997776694438</td>\n",
       "      <td>5642503</td>\n",
       "      <td>M</td>\n",
       "      <td>2016-04-29 16:08:27+00:00</td>\n",
       "      <td>2016-04-29 00:00:00+00:00</td>\n",
       "      <td>56</td>\n",
       "      <td>JARDIM DA PENHA</td>\n",
       "      <td>0</td>\n",
       "      <td>0</td>\n",
       "      <td>0</td>\n",
       "      <td>0</td>\n",
       "      <td>0</td>\n",
       "      <td>0</td>\n",
       "      <td>No</td>\n",
       "    </tr>\n",
       "    <tr>\n",
       "      <th>2</th>\n",
       "      <td>4262962299951</td>\n",
       "      <td>5642549</td>\n",
       "      <td>F</td>\n",
       "      <td>2016-04-29 16:19:04+00:00</td>\n",
       "      <td>2016-04-29 00:00:00+00:00</td>\n",
       "      <td>62</td>\n",
       "      <td>MATA DA PRAIA</td>\n",
       "      <td>0</td>\n",
       "      <td>0</td>\n",
       "      <td>0</td>\n",
       "      <td>0</td>\n",
       "      <td>0</td>\n",
       "      <td>0</td>\n",
       "      <td>No</td>\n",
       "    </tr>\n",
       "    <tr>\n",
       "      <th>3</th>\n",
       "      <td>867951213174</td>\n",
       "      <td>5642828</td>\n",
       "      <td>F</td>\n",
       "      <td>2016-04-29 17:29:31+00:00</td>\n",
       "      <td>2016-04-29 00:00:00+00:00</td>\n",
       "      <td>8</td>\n",
       "      <td>PONTAL DE CAMBURI</td>\n",
       "      <td>0</td>\n",
       "      <td>0</td>\n",
       "      <td>0</td>\n",
       "      <td>0</td>\n",
       "      <td>0</td>\n",
       "      <td>0</td>\n",
       "      <td>No</td>\n",
       "    </tr>\n",
       "    <tr>\n",
       "      <th>4</th>\n",
       "      <td>8841186448183</td>\n",
       "      <td>5642494</td>\n",
       "      <td>F</td>\n",
       "      <td>2016-04-29 16:07:23+00:00</td>\n",
       "      <td>2016-04-29 00:00:00+00:00</td>\n",
       "      <td>56</td>\n",
       "      <td>JARDIM DA PENHA</td>\n",
       "      <td>0</td>\n",
       "      <td>1</td>\n",
       "      <td>1</td>\n",
       "      <td>0</td>\n",
       "      <td>0</td>\n",
       "      <td>0</td>\n",
       "      <td>No</td>\n",
       "    </tr>\n",
       "    <tr>\n",
       "      <th>...</th>\n",
       "      <td>...</td>\n",
       "      <td>...</td>\n",
       "      <td>...</td>\n",
       "      <td>...</td>\n",
       "      <td>...</td>\n",
       "      <td>...</td>\n",
       "      <td>...</td>\n",
       "      <td>...</td>\n",
       "      <td>...</td>\n",
       "      <td>...</td>\n",
       "      <td>...</td>\n",
       "      <td>...</td>\n",
       "      <td>...</td>\n",
       "      <td>...</td>\n",
       "    </tr>\n",
       "    <tr>\n",
       "      <th>15</th>\n",
       "      <td>99948393975</td>\n",
       "      <td>5620206</td>\n",
       "      <td>F</td>\n",
       "      <td>2016-04-26 08:47:27+00:00</td>\n",
       "      <td>2016-04-29 00:00:00+00:00</td>\n",
       "      <td>15</td>\n",
       "      <td>NOVA PALESTINA</td>\n",
       "      <td>0</td>\n",
       "      <td>0</td>\n",
       "      <td>0</td>\n",
       "      <td>0</td>\n",
       "      <td>0</td>\n",
       "      <td>1</td>\n",
       "      <td>No</td>\n",
       "    </tr>\n",
       "    <tr>\n",
       "      <th>16</th>\n",
       "      <td>84574392942817</td>\n",
       "      <td>5633121</td>\n",
       "      <td>M</td>\n",
       "      <td>2016-04-28 08:51:47+00:00</td>\n",
       "      <td>2016-04-29 00:00:00+00:00</td>\n",
       "      <td>50</td>\n",
       "      <td>NOVA PALESTINA</td>\n",
       "      <td>0</td>\n",
       "      <td>0</td>\n",
       "      <td>0</td>\n",
       "      <td>0</td>\n",
       "      <td>0</td>\n",
       "      <td>0</td>\n",
       "      <td>No</td>\n",
       "    </tr>\n",
       "    <tr>\n",
       "      <th>17</th>\n",
       "      <td>14794966191172</td>\n",
       "      <td>5633460</td>\n",
       "      <td>F</td>\n",
       "      <td>2016-04-28 09:28:57+00:00</td>\n",
       "      <td>2016-04-29 00:00:00+00:00</td>\n",
       "      <td>40</td>\n",
       "      <td>CONQUISTA</td>\n",
       "      <td>1</td>\n",
       "      <td>0</td>\n",
       "      <td>0</td>\n",
       "      <td>0</td>\n",
       "      <td>0</td>\n",
       "      <td>0</td>\n",
       "      <td>Yes</td>\n",
       "    </tr>\n",
       "    <tr>\n",
       "      <th>18</th>\n",
       "      <td>17135378245248</td>\n",
       "      <td>5621836</td>\n",
       "      <td>F</td>\n",
       "      <td>2016-04-26 10:54:18+00:00</td>\n",
       "      <td>2016-04-29 00:00:00+00:00</td>\n",
       "      <td>30</td>\n",
       "      <td>NOVA PALESTINA</td>\n",
       "      <td>1</td>\n",
       "      <td>0</td>\n",
       "      <td>0</td>\n",
       "      <td>0</td>\n",
       "      <td>0</td>\n",
       "      <td>1</td>\n",
       "      <td>No</td>\n",
       "    </tr>\n",
       "    <tr>\n",
       "      <th>19</th>\n",
       "      <td>7223289184215</td>\n",
       "      <td>5640433</td>\n",
       "      <td>F</td>\n",
       "      <td>2016-04-29 10:43:14+00:00</td>\n",
       "      <td>2016-04-29 00:00:00+00:00</td>\n",
       "      <td>46</td>\n",
       "      <td>DA PENHA</td>\n",
       "      <td>0</td>\n",
       "      <td>0</td>\n",
       "      <td>0</td>\n",
       "      <td>0</td>\n",
       "      <td>0</td>\n",
       "      <td>0</td>\n",
       "      <td>No</td>\n",
       "    </tr>\n",
       "  </tbody>\n",
       "</table>\n",
       "<p>20 rows × 14 columns</p>\n",
       "</div>"
      ],
      "text/plain": [
       "          PatientId  AppointmentID Gender              ScheduledDay  \\\n",
       "0    29872499824296        5642903      F 2016-04-29 18:38:08+00:00   \n",
       "1   558997776694438        5642503      M 2016-04-29 16:08:27+00:00   \n",
       "2     4262962299951        5642549      F 2016-04-29 16:19:04+00:00   \n",
       "3      867951213174        5642828      F 2016-04-29 17:29:31+00:00   \n",
       "4     8841186448183        5642494      F 2016-04-29 16:07:23+00:00   \n",
       "..              ...            ...    ...                       ...   \n",
       "15      99948393975        5620206      F 2016-04-26 08:47:27+00:00   \n",
       "16   84574392942817        5633121      M 2016-04-28 08:51:47+00:00   \n",
       "17   14794966191172        5633460      F 2016-04-28 09:28:57+00:00   \n",
       "18   17135378245248        5621836      F 2016-04-26 10:54:18+00:00   \n",
       "19    7223289184215        5640433      F 2016-04-29 10:43:14+00:00   \n",
       "\n",
       "              AppointmentDay  Age      Neighbourhood  Scholarship  \\\n",
       "0  2016-04-29 00:00:00+00:00   62    JARDIM DA PENHA            0   \n",
       "1  2016-04-29 00:00:00+00:00   56    JARDIM DA PENHA            0   \n",
       "2  2016-04-29 00:00:00+00:00   62      MATA DA PRAIA            0   \n",
       "3  2016-04-29 00:00:00+00:00    8  PONTAL DE CAMBURI            0   \n",
       "4  2016-04-29 00:00:00+00:00   56    JARDIM DA PENHA            0   \n",
       "..                       ...  ...                ...          ...   \n",
       "15 2016-04-29 00:00:00+00:00   15     NOVA PALESTINA            0   \n",
       "16 2016-04-29 00:00:00+00:00   50     NOVA PALESTINA            0   \n",
       "17 2016-04-29 00:00:00+00:00   40          CONQUISTA            1   \n",
       "18 2016-04-29 00:00:00+00:00   30     NOVA PALESTINA            1   \n",
       "19 2016-04-29 00:00:00+00:00   46           DA PENHA            0   \n",
       "\n",
       "    Hipertension  Diabetes  Alcoholism  Handcap  SMS_received No_show  \n",
       "0              1         0           0        0             0      No  \n",
       "1              0         0           0        0             0      No  \n",
       "2              0         0           0        0             0      No  \n",
       "3              0         0           0        0             0      No  \n",
       "4              1         1           0        0             0      No  \n",
       "..           ...       ...         ...      ...           ...     ...  \n",
       "15             0         0           0        0             1      No  \n",
       "16             0         0           0        0             0      No  \n",
       "17             0         0           0        0             0     Yes  \n",
       "18             0         0           0        0             1      No  \n",
       "19             0         0           0        0             0      No  \n",
       "\n",
       "[20 rows x 14 columns]"
      ]
     },
     "execution_count": 41,
     "metadata": {},
     "output_type": "execute_result"
    }
   ],
   "source": [
    "# Take a closer look at the \"-1 days\" and \"0 days\" rows.\n",
    "df.head(20)"
   ]
  },
  {
   "cell_type": "markdown",
   "metadata": {},
   "source": [
    "**NOTE:** The \"-1 days\" appear to be **same-date appointments** and appear to arise because of the apparently universal use of a 00:00:00 time component for 'AppointmentDay' values. Ideally, one might want to exclude \"immediate\" (walk-in/emergency) appointments and first-day-of-life newborn \"appointments\", but not necessarily same-date appointments that were formally scheduled earlier in the day. However, this distinction appears difficult to assess.\n",
    "\n",
    "**NOTE:** The \"0 days\" appear to be those appointments scheduled and attended within a 24-hour period, but on consecutive dates.\n",
    "\n",
    "**CONCLUSION:** Because this analysis is focused on identifying features contributing to medical appointment no-shows, \"immediate\" same-date medical visits should be excluded and excluding all same-date appointments would likely provide a more meaningful \"cleaned\" dataset."
   ]
  },
  {
   "cell_type": "code",
   "execution_count": 42,
   "metadata": {},
   "outputs": [
    {
     "data": {
      "text/plain": [
       "0         -1\n",
       "1         -1\n",
       "2         -1\n",
       "3         -1\n",
       "4         -1\n",
       "          ..\n",
       "110522    34\n",
       "110523    34\n",
       "110524    40\n",
       "110525    40\n",
       "110526    40\n",
       "Length: 110521, dtype: int64"
      ]
     },
     "execution_count": 42,
     "metadata": {},
     "output_type": "execute_result"
    }
   ],
   "source": [
    "# Check for the number of -1 days and 0 days.  First, pull out the numeric \"days\" component.\n",
    "num_of_days = days_between.dt.days\n",
    "num_of_days"
   ]
  },
  {
   "cell_type": "code",
   "execution_count": 43,
   "metadata": {},
   "outputs": [
    {
     "data": {
      "text/plain": [
       "0        -1\n",
       "1        -1\n",
       "2        -1\n",
       "3        -1\n",
       "4        -1\n",
       "         ..\n",
       "110511   -1\n",
       "110512   -1\n",
       "110513   -1\n",
       "110514   -1\n",
       "110517   -1\n",
       "Length: 38560, dtype: int64"
      ]
     },
     "execution_count": 43,
     "metadata": {},
     "output_type": "execute_result"
    }
   ],
   "source": [
    "# Identify the rows with \"-1 days\" (same date) between 'ScheduledDay' and 'AppointmentDay'.\n",
    "num_of_days[num_of_days == -1]"
   ]
  },
  {
   "cell_type": "markdown",
   "metadata": {},
   "source": [
    "**Conclusion:** 38560 of \n",
    "the rows are for same-date appointments, and later these will be excluded in some way."
   ]
  },
  {
   "cell_type": "code",
   "execution_count": 44,
   "metadata": {},
   "outputs": [
    {
     "data": {
      "text/plain": [
       "12        0\n",
       "13        0\n",
       "14        0\n",
       "16        0\n",
       "17        0\n",
       "         ..\n",
       "110240    0\n",
       "110289    0\n",
       "110292    0\n",
       "110429    0\n",
       "110516    0\n",
       "Length: 5213, dtype: int64"
      ]
     },
     "execution_count": 44,
     "metadata": {},
     "output_type": "execute_result"
    }
   ],
   "source": [
    "# Just for comparison, identify the rows with \"0 days\" (< 24 hours on consecutive dates) between\n",
    "# 'ScheduledDay' and 'AppointmentDay'.\n",
    "num_of_days[num_of_days == 0]"
   ]
  },
  {
   "cell_type": "markdown",
   "metadata": {},
   "source": [
    "**Conclusion:** Substantially fewer rows with consecutive date 'ScheduledDay' and 'AppointmentDay'."
   ]
  },
  {
   "cell_type": "code",
   "execution_count": 45,
   "metadata": {},
   "outputs": [
    {
     "name": "stdout",
     "output_type": "stream",
     "text": [
      "<class 'pandas.core.series.Series'>\n"
     ]
    },
    {
     "data": {
      "text/plain": [
       "0         0 days\n",
       "1         0 days\n",
       "2         0 days\n",
       "3         0 days\n",
       "4         0 days\n",
       "           ...  \n",
       "110522   35 days\n",
       "110523   35 days\n",
       "110524   41 days\n",
       "110525   41 days\n",
       "110526   41 days\n",
       "Length: 110521, dtype: timedelta64[ns]"
      ]
     },
     "execution_count": 45,
     "metadata": {},
     "output_type": "execute_result"
    }
   ],
   "source": [
    "# An alternative approach to provide a \"more intuitive\" number of days between 'ScheduledDay' and 'AppointmentDay' dates;\n",
    "# i.e., the previous \"-1 days\" (same date) and \"0 days\" (< 24 hours on consecutive dates) are now \"0 days\" and \"1 days\", \n",
    "# and so on, respectively.\n",
    "days_between = df.AppointmentDay.dt.date - df.ScheduledDay.dt.date\n",
    "print(type(days_between))\n",
    "days_between"
   ]
  },
  {
   "cell_type": "markdown",
   "metadata": {},
   "source": [
    "**NOTE:** Now, the \"0 days\" rows are the ones that will be excluded in some way, later."
   ]
  },
  {
   "cell_type": "code",
   "execution_count": 46,
   "metadata": {},
   "outputs": [
    {
     "data": {
      "text/plain": [
       "0          0\n",
       "1          0\n",
       "2          0\n",
       "3          0\n",
       "4          0\n",
       "          ..\n",
       "110522    35\n",
       "110523    35\n",
       "110524    41\n",
       "110525    41\n",
       "110526    41\n",
       "Length: 110521, dtype: int64"
      ]
     },
     "execution_count": 46,
     "metadata": {},
     "output_type": "execute_result"
    }
   ],
   "source": [
    "# Convert the timedelta data type to numeric-only integer data type.\n",
    "days_between = days_between.dt.days\n",
    "days_between"
   ]
  },
  {
   "cell_type": "code",
   "execution_count": 47,
   "metadata": {},
   "outputs": [
    {
     "name": "stdout",
     "output_type": "stream",
     "text": [
      "(110521, 15)\n"
     ]
    },
    {
     "data": {
      "text/html": [
       "<div>\n",
       "<style scoped>\n",
       "    .dataframe tbody tr th:only-of-type {\n",
       "        vertical-align: middle;\n",
       "    }\n",
       "\n",
       "    .dataframe tbody tr th {\n",
       "        vertical-align: top;\n",
       "    }\n",
       "\n",
       "    .dataframe thead th {\n",
       "        text-align: right;\n",
       "    }\n",
       "</style>\n",
       "<table border=\"1\" class=\"dataframe\">\n",
       "  <thead>\n",
       "    <tr style=\"text-align: right;\">\n",
       "      <th></th>\n",
       "      <th>PatientId</th>\n",
       "      <th>AppointmentID</th>\n",
       "      <th>Gender</th>\n",
       "      <th>ScheduledDay</th>\n",
       "      <th>AppointmentDay</th>\n",
       "      <th>DaysBetween</th>\n",
       "      <th>Age</th>\n",
       "      <th>Neighbourhood</th>\n",
       "      <th>Scholarship</th>\n",
       "      <th>Hipertension</th>\n",
       "      <th>Diabetes</th>\n",
       "      <th>Alcoholism</th>\n",
       "      <th>Handcap</th>\n",
       "      <th>SMS_received</th>\n",
       "      <th>No_show</th>\n",
       "    </tr>\n",
       "  </thead>\n",
       "  <tbody>\n",
       "    <tr>\n",
       "      <th>0</th>\n",
       "      <td>29872499824296</td>\n",
       "      <td>5642903</td>\n",
       "      <td>F</td>\n",
       "      <td>2016-04-29 18:38:08+00:00</td>\n",
       "      <td>2016-04-29 00:00:00+00:00</td>\n",
       "      <td>0</td>\n",
       "      <td>62</td>\n",
       "      <td>JARDIM DA PENHA</td>\n",
       "      <td>0</td>\n",
       "      <td>1</td>\n",
       "      <td>0</td>\n",
       "      <td>0</td>\n",
       "      <td>0</td>\n",
       "      <td>0</td>\n",
       "      <td>No</td>\n",
       "    </tr>\n",
       "    <tr>\n",
       "      <th>1</th>\n",
       "      <td>558997776694438</td>\n",
       "      <td>5642503</td>\n",
       "      <td>M</td>\n",
       "      <td>2016-04-29 16:08:27+00:00</td>\n",
       "      <td>2016-04-29 00:00:00+00:00</td>\n",
       "      <td>0</td>\n",
       "      <td>56</td>\n",
       "      <td>JARDIM DA PENHA</td>\n",
       "      <td>0</td>\n",
       "      <td>0</td>\n",
       "      <td>0</td>\n",
       "      <td>0</td>\n",
       "      <td>0</td>\n",
       "      <td>0</td>\n",
       "      <td>No</td>\n",
       "    </tr>\n",
       "    <tr>\n",
       "      <th>2</th>\n",
       "      <td>4262962299951</td>\n",
       "      <td>5642549</td>\n",
       "      <td>F</td>\n",
       "      <td>2016-04-29 16:19:04+00:00</td>\n",
       "      <td>2016-04-29 00:00:00+00:00</td>\n",
       "      <td>0</td>\n",
       "      <td>62</td>\n",
       "      <td>MATA DA PRAIA</td>\n",
       "      <td>0</td>\n",
       "      <td>0</td>\n",
       "      <td>0</td>\n",
       "      <td>0</td>\n",
       "      <td>0</td>\n",
       "      <td>0</td>\n",
       "      <td>No</td>\n",
       "    </tr>\n",
       "    <tr>\n",
       "      <th>3</th>\n",
       "      <td>867951213174</td>\n",
       "      <td>5642828</td>\n",
       "      <td>F</td>\n",
       "      <td>2016-04-29 17:29:31+00:00</td>\n",
       "      <td>2016-04-29 00:00:00+00:00</td>\n",
       "      <td>0</td>\n",
       "      <td>8</td>\n",
       "      <td>PONTAL DE CAMBURI</td>\n",
       "      <td>0</td>\n",
       "      <td>0</td>\n",
       "      <td>0</td>\n",
       "      <td>0</td>\n",
       "      <td>0</td>\n",
       "      <td>0</td>\n",
       "      <td>No</td>\n",
       "    </tr>\n",
       "    <tr>\n",
       "      <th>4</th>\n",
       "      <td>8841186448183</td>\n",
       "      <td>5642494</td>\n",
       "      <td>F</td>\n",
       "      <td>2016-04-29 16:07:23+00:00</td>\n",
       "      <td>2016-04-29 00:00:00+00:00</td>\n",
       "      <td>0</td>\n",
       "      <td>56</td>\n",
       "      <td>JARDIM DA PENHA</td>\n",
       "      <td>0</td>\n",
       "      <td>1</td>\n",
       "      <td>1</td>\n",
       "      <td>0</td>\n",
       "      <td>0</td>\n",
       "      <td>0</td>\n",
       "      <td>No</td>\n",
       "    </tr>\n",
       "    <tr>\n",
       "      <th>...</th>\n",
       "      <td>...</td>\n",
       "      <td>...</td>\n",
       "      <td>...</td>\n",
       "      <td>...</td>\n",
       "      <td>...</td>\n",
       "      <td>...</td>\n",
       "      <td>...</td>\n",
       "      <td>...</td>\n",
       "      <td>...</td>\n",
       "      <td>...</td>\n",
       "      <td>...</td>\n",
       "      <td>...</td>\n",
       "      <td>...</td>\n",
       "      <td>...</td>\n",
       "      <td>...</td>\n",
       "    </tr>\n",
       "    <tr>\n",
       "      <th>110522</th>\n",
       "      <td>2572134369293</td>\n",
       "      <td>5651768</td>\n",
       "      <td>F</td>\n",
       "      <td>2016-05-03 09:15:35+00:00</td>\n",
       "      <td>2016-06-07 00:00:00+00:00</td>\n",
       "      <td>35</td>\n",
       "      <td>56</td>\n",
       "      <td>MARIA ORTIZ</td>\n",
       "      <td>0</td>\n",
       "      <td>0</td>\n",
       "      <td>0</td>\n",
       "      <td>0</td>\n",
       "      <td>0</td>\n",
       "      <td>1</td>\n",
       "      <td>No</td>\n",
       "    </tr>\n",
       "    <tr>\n",
       "      <th>110523</th>\n",
       "      <td>3596266328735</td>\n",
       "      <td>5650093</td>\n",
       "      <td>F</td>\n",
       "      <td>2016-05-03 07:27:33+00:00</td>\n",
       "      <td>2016-06-07 00:00:00+00:00</td>\n",
       "      <td>35</td>\n",
       "      <td>51</td>\n",
       "      <td>MARIA ORTIZ</td>\n",
       "      <td>0</td>\n",
       "      <td>0</td>\n",
       "      <td>0</td>\n",
       "      <td>0</td>\n",
       "      <td>0</td>\n",
       "      <td>1</td>\n",
       "      <td>No</td>\n",
       "    </tr>\n",
       "    <tr>\n",
       "      <th>110524</th>\n",
       "      <td>15576631729893</td>\n",
       "      <td>5630692</td>\n",
       "      <td>F</td>\n",
       "      <td>2016-04-27 16:03:52+00:00</td>\n",
       "      <td>2016-06-07 00:00:00+00:00</td>\n",
       "      <td>41</td>\n",
       "      <td>21</td>\n",
       "      <td>MARIA ORTIZ</td>\n",
       "      <td>0</td>\n",
       "      <td>0</td>\n",
       "      <td>0</td>\n",
       "      <td>0</td>\n",
       "      <td>0</td>\n",
       "      <td>1</td>\n",
       "      <td>No</td>\n",
       "    </tr>\n",
       "    <tr>\n",
       "      <th>110525</th>\n",
       "      <td>92134931435557</td>\n",
       "      <td>5630323</td>\n",
       "      <td>F</td>\n",
       "      <td>2016-04-27 15:09:23+00:00</td>\n",
       "      <td>2016-06-07 00:00:00+00:00</td>\n",
       "      <td>41</td>\n",
       "      <td>38</td>\n",
       "      <td>MARIA ORTIZ</td>\n",
       "      <td>0</td>\n",
       "      <td>0</td>\n",
       "      <td>0</td>\n",
       "      <td>0</td>\n",
       "      <td>0</td>\n",
       "      <td>1</td>\n",
       "      <td>No</td>\n",
       "    </tr>\n",
       "    <tr>\n",
       "      <th>110526</th>\n",
       "      <td>377511518121127</td>\n",
       "      <td>5629448</td>\n",
       "      <td>F</td>\n",
       "      <td>2016-04-27 13:30:56+00:00</td>\n",
       "      <td>2016-06-07 00:00:00+00:00</td>\n",
       "      <td>41</td>\n",
       "      <td>54</td>\n",
       "      <td>MARIA ORTIZ</td>\n",
       "      <td>0</td>\n",
       "      <td>0</td>\n",
       "      <td>0</td>\n",
       "      <td>0</td>\n",
       "      <td>0</td>\n",
       "      <td>1</td>\n",
       "      <td>No</td>\n",
       "    </tr>\n",
       "  </tbody>\n",
       "</table>\n",
       "<p>110521 rows × 15 columns</p>\n",
       "</div>"
      ],
      "text/plain": [
       "              PatientId  AppointmentID Gender              ScheduledDay  \\\n",
       "0        29872499824296        5642903      F 2016-04-29 18:38:08+00:00   \n",
       "1       558997776694438        5642503      M 2016-04-29 16:08:27+00:00   \n",
       "2         4262962299951        5642549      F 2016-04-29 16:19:04+00:00   \n",
       "3          867951213174        5642828      F 2016-04-29 17:29:31+00:00   \n",
       "4         8841186448183        5642494      F 2016-04-29 16:07:23+00:00   \n",
       "...                 ...            ...    ...                       ...   \n",
       "110522    2572134369293        5651768      F 2016-05-03 09:15:35+00:00   \n",
       "110523    3596266328735        5650093      F 2016-05-03 07:27:33+00:00   \n",
       "110524   15576631729893        5630692      F 2016-04-27 16:03:52+00:00   \n",
       "110525   92134931435557        5630323      F 2016-04-27 15:09:23+00:00   \n",
       "110526  377511518121127        5629448      F 2016-04-27 13:30:56+00:00   \n",
       "\n",
       "                  AppointmentDay  DaysBetween  Age      Neighbourhood  \\\n",
       "0      2016-04-29 00:00:00+00:00            0   62    JARDIM DA PENHA   \n",
       "1      2016-04-29 00:00:00+00:00            0   56    JARDIM DA PENHA   \n",
       "2      2016-04-29 00:00:00+00:00            0   62      MATA DA PRAIA   \n",
       "3      2016-04-29 00:00:00+00:00            0    8  PONTAL DE CAMBURI   \n",
       "4      2016-04-29 00:00:00+00:00            0   56    JARDIM DA PENHA   \n",
       "...                          ...          ...  ...                ...   \n",
       "110522 2016-06-07 00:00:00+00:00           35   56        MARIA ORTIZ   \n",
       "110523 2016-06-07 00:00:00+00:00           35   51        MARIA ORTIZ   \n",
       "110524 2016-06-07 00:00:00+00:00           41   21        MARIA ORTIZ   \n",
       "110525 2016-06-07 00:00:00+00:00           41   38        MARIA ORTIZ   \n",
       "110526 2016-06-07 00:00:00+00:00           41   54        MARIA ORTIZ   \n",
       "\n",
       "        Scholarship  Hipertension  Diabetes  Alcoholism  Handcap  \\\n",
       "0                 0             1         0           0        0   \n",
       "1                 0             0         0           0        0   \n",
       "2                 0             0         0           0        0   \n",
       "3                 0             0         0           0        0   \n",
       "4                 0             1         1           0        0   \n",
       "...             ...           ...       ...         ...      ...   \n",
       "110522            0             0         0           0        0   \n",
       "110523            0             0         0           0        0   \n",
       "110524            0             0         0           0        0   \n",
       "110525            0             0         0           0        0   \n",
       "110526            0             0         0           0        0   \n",
       "\n",
       "        SMS_received No_show  \n",
       "0                  0      No  \n",
       "1                  0      No  \n",
       "2                  0      No  \n",
       "3                  0      No  \n",
       "4                  0      No  \n",
       "...              ...     ...  \n",
       "110522             1      No  \n",
       "110523             1      No  \n",
       "110524             1      No  \n",
       "110525             1      No  \n",
       "110526             1      No  \n",
       "\n",
       "[110521 rows x 15 columns]"
      ]
     },
     "execution_count": 47,
     "metadata": {},
     "output_type": "execute_result"
    }
   ],
   "source": [
    "# Insert this 'DaysBetween' column in the index 5 column position.\n",
    "df.insert(5, 'DaysBetween', days_between)\n",
    "print(df.shape)\n",
    "df"
   ]
  },
  {
   "cell_type": "markdown",
   "metadata": {},
   "source": [
    "**Conclusion:** The DataFrame with the added 'DaysBetween' column looks correct (however, see further below with respect to a few negative 'DaysBetween' values)."
   ]
  },
  {
   "cell_type": "code",
   "execution_count": 48,
   "metadata": {},
   "outputs": [
    {
     "data": {
      "text/plain": [
       "No     36768\n",
       "Yes     1792\n",
       "Name: No_show, dtype: int64"
      ]
     },
     "execution_count": 48,
     "metadata": {},
     "output_type": "execute_result"
    }
   ],
   "source": [
    "# Because the above indicates that the rows with 'DaysBetween' = 0 correspond to same-date\n",
    "# appointments, I would expect there to be very few, if any, No-Shows among these rows\n",
    "# (although there could be some for appointments that were actually scheduled  \n",
    "# earlier for a later time on the same date).\n",
    "df.query('DaysBetween == 0')['No_show'].value_counts()"
   ]
  },
  {
   "cell_type": "markdown",
   "metadata": {},
   "source": [
    "**Conclusion:** As expected, there was a substantially lower percentage, 1792/(1792 + 36768) = 4.6%, of No-Shows in the 'DaysBetween' = 0 group compared to that for the entire dataset, 22319/(22319 + 88208) = 20.2%, and this strengthens the argument to exclude the 'DaysBetween' = 0 data."
   ]
  },
  {
   "cell_type": "markdown",
   "metadata": {},
   "source": [
    "#### Convert 'DaysBetween' numeric data into categoric groups (inclusive: 0 to 7; 8 to 14; 15 to 28; 29 to 200 days)"
   ]
  },
  {
   "cell_type": "code",
   "execution_count": 49,
   "metadata": {},
   "outputs": [
    {
     "name": "stdout",
     "output_type": "stream",
     "text": [
      "<class 'pandas.core.series.Series'>\n"
     ]
    },
    {
     "data": {
      "text/plain": [
       "0             days0_7\n",
       "1             days0_7\n",
       "2             days0_7\n",
       "3             days0_7\n",
       "4             days0_7\n",
       "             ...     \n",
       "110522    days29_over\n",
       "110523    days29_over\n",
       "110524    days29_over\n",
       "110525    days29_over\n",
       "110526    days29_over\n",
       "Name: DaysBetween, Length: 110521, dtype: category\n",
       "Categories (4, object): ['days0_7' < 'days8_14' < 'days15_28' < 'days29_over']"
      ]
     },
     "execution_count": 49,
     "metadata": {},
     "output_type": "execute_result"
    }
   ],
   "source": [
    "# Group patients by 'DaysBetween' \n",
    "DaysBetweenGroup = pd.cut(df.DaysBetween, [0, 7, 14, 28, 200], include_lowest=True, labels=['days0_7', 'days8_14', 'days15_28', 'days29_over'])\n",
    "print(type(DaysBetweenGroup))\n",
    "DaysBetweenGroup"
   ]
  },
  {
   "cell_type": "code",
   "execution_count": 50,
   "metadata": {},
   "outputs": [
    {
     "name": "stdout",
     "output_type": "stream",
     "text": [
      "(110521, 16)\n"
     ]
    },
    {
     "data": {
      "text/html": [
       "<div>\n",
       "<style scoped>\n",
       "    .dataframe tbody tr th:only-of-type {\n",
       "        vertical-align: middle;\n",
       "    }\n",
       "\n",
       "    .dataframe tbody tr th {\n",
       "        vertical-align: top;\n",
       "    }\n",
       "\n",
       "    .dataframe thead th {\n",
       "        text-align: right;\n",
       "    }\n",
       "</style>\n",
       "<table border=\"1\" class=\"dataframe\">\n",
       "  <thead>\n",
       "    <tr style=\"text-align: right;\">\n",
       "      <th></th>\n",
       "      <th>PatientId</th>\n",
       "      <th>AppointmentID</th>\n",
       "      <th>Gender</th>\n",
       "      <th>ScheduledDay</th>\n",
       "      <th>AppointmentDay</th>\n",
       "      <th>DaysBetween</th>\n",
       "      <th>DaysBetweenGroup</th>\n",
       "      <th>Age</th>\n",
       "      <th>Neighbourhood</th>\n",
       "      <th>Scholarship</th>\n",
       "      <th>Hipertension</th>\n",
       "      <th>Diabetes</th>\n",
       "      <th>Alcoholism</th>\n",
       "      <th>Handcap</th>\n",
       "      <th>SMS_received</th>\n",
       "      <th>No_show</th>\n",
       "    </tr>\n",
       "  </thead>\n",
       "  <tbody>\n",
       "    <tr>\n",
       "      <th>0</th>\n",
       "      <td>29872499824296</td>\n",
       "      <td>5642903</td>\n",
       "      <td>F</td>\n",
       "      <td>2016-04-29 18:38:08+00:00</td>\n",
       "      <td>2016-04-29 00:00:00+00:00</td>\n",
       "      <td>0</td>\n",
       "      <td>days0_7</td>\n",
       "      <td>62</td>\n",
       "      <td>JARDIM DA PENHA</td>\n",
       "      <td>0</td>\n",
       "      <td>1</td>\n",
       "      <td>0</td>\n",
       "      <td>0</td>\n",
       "      <td>0</td>\n",
       "      <td>0</td>\n",
       "      <td>No</td>\n",
       "    </tr>\n",
       "    <tr>\n",
       "      <th>1</th>\n",
       "      <td>558997776694438</td>\n",
       "      <td>5642503</td>\n",
       "      <td>M</td>\n",
       "      <td>2016-04-29 16:08:27+00:00</td>\n",
       "      <td>2016-04-29 00:00:00+00:00</td>\n",
       "      <td>0</td>\n",
       "      <td>days0_7</td>\n",
       "      <td>56</td>\n",
       "      <td>JARDIM DA PENHA</td>\n",
       "      <td>0</td>\n",
       "      <td>0</td>\n",
       "      <td>0</td>\n",
       "      <td>0</td>\n",
       "      <td>0</td>\n",
       "      <td>0</td>\n",
       "      <td>No</td>\n",
       "    </tr>\n",
       "    <tr>\n",
       "      <th>2</th>\n",
       "      <td>4262962299951</td>\n",
       "      <td>5642549</td>\n",
       "      <td>F</td>\n",
       "      <td>2016-04-29 16:19:04+00:00</td>\n",
       "      <td>2016-04-29 00:00:00+00:00</td>\n",
       "      <td>0</td>\n",
       "      <td>days0_7</td>\n",
       "      <td>62</td>\n",
       "      <td>MATA DA PRAIA</td>\n",
       "      <td>0</td>\n",
       "      <td>0</td>\n",
       "      <td>0</td>\n",
       "      <td>0</td>\n",
       "      <td>0</td>\n",
       "      <td>0</td>\n",
       "      <td>No</td>\n",
       "    </tr>\n",
       "    <tr>\n",
       "      <th>3</th>\n",
       "      <td>867951213174</td>\n",
       "      <td>5642828</td>\n",
       "      <td>F</td>\n",
       "      <td>2016-04-29 17:29:31+00:00</td>\n",
       "      <td>2016-04-29 00:00:00+00:00</td>\n",
       "      <td>0</td>\n",
       "      <td>days0_7</td>\n",
       "      <td>8</td>\n",
       "      <td>PONTAL DE CAMBURI</td>\n",
       "      <td>0</td>\n",
       "      <td>0</td>\n",
       "      <td>0</td>\n",
       "      <td>0</td>\n",
       "      <td>0</td>\n",
       "      <td>0</td>\n",
       "      <td>No</td>\n",
       "    </tr>\n",
       "    <tr>\n",
       "      <th>4</th>\n",
       "      <td>8841186448183</td>\n",
       "      <td>5642494</td>\n",
       "      <td>F</td>\n",
       "      <td>2016-04-29 16:07:23+00:00</td>\n",
       "      <td>2016-04-29 00:00:00+00:00</td>\n",
       "      <td>0</td>\n",
       "      <td>days0_7</td>\n",
       "      <td>56</td>\n",
       "      <td>JARDIM DA PENHA</td>\n",
       "      <td>0</td>\n",
       "      <td>1</td>\n",
       "      <td>1</td>\n",
       "      <td>0</td>\n",
       "      <td>0</td>\n",
       "      <td>0</td>\n",
       "      <td>No</td>\n",
       "    </tr>\n",
       "    <tr>\n",
       "      <th>...</th>\n",
       "      <td>...</td>\n",
       "      <td>...</td>\n",
       "      <td>...</td>\n",
       "      <td>...</td>\n",
       "      <td>...</td>\n",
       "      <td>...</td>\n",
       "      <td>...</td>\n",
       "      <td>...</td>\n",
       "      <td>...</td>\n",
       "      <td>...</td>\n",
       "      <td>...</td>\n",
       "      <td>...</td>\n",
       "      <td>...</td>\n",
       "      <td>...</td>\n",
       "      <td>...</td>\n",
       "      <td>...</td>\n",
       "    </tr>\n",
       "    <tr>\n",
       "      <th>110522</th>\n",
       "      <td>2572134369293</td>\n",
       "      <td>5651768</td>\n",
       "      <td>F</td>\n",
       "      <td>2016-05-03 09:15:35+00:00</td>\n",
       "      <td>2016-06-07 00:00:00+00:00</td>\n",
       "      <td>35</td>\n",
       "      <td>days29_over</td>\n",
       "      <td>56</td>\n",
       "      <td>MARIA ORTIZ</td>\n",
       "      <td>0</td>\n",
       "      <td>0</td>\n",
       "      <td>0</td>\n",
       "      <td>0</td>\n",
       "      <td>0</td>\n",
       "      <td>1</td>\n",
       "      <td>No</td>\n",
       "    </tr>\n",
       "    <tr>\n",
       "      <th>110523</th>\n",
       "      <td>3596266328735</td>\n",
       "      <td>5650093</td>\n",
       "      <td>F</td>\n",
       "      <td>2016-05-03 07:27:33+00:00</td>\n",
       "      <td>2016-06-07 00:00:00+00:00</td>\n",
       "      <td>35</td>\n",
       "      <td>days29_over</td>\n",
       "      <td>51</td>\n",
       "      <td>MARIA ORTIZ</td>\n",
       "      <td>0</td>\n",
       "      <td>0</td>\n",
       "      <td>0</td>\n",
       "      <td>0</td>\n",
       "      <td>0</td>\n",
       "      <td>1</td>\n",
       "      <td>No</td>\n",
       "    </tr>\n",
       "    <tr>\n",
       "      <th>110524</th>\n",
       "      <td>15576631729893</td>\n",
       "      <td>5630692</td>\n",
       "      <td>F</td>\n",
       "      <td>2016-04-27 16:03:52+00:00</td>\n",
       "      <td>2016-06-07 00:00:00+00:00</td>\n",
       "      <td>41</td>\n",
       "      <td>days29_over</td>\n",
       "      <td>21</td>\n",
       "      <td>MARIA ORTIZ</td>\n",
       "      <td>0</td>\n",
       "      <td>0</td>\n",
       "      <td>0</td>\n",
       "      <td>0</td>\n",
       "      <td>0</td>\n",
       "      <td>1</td>\n",
       "      <td>No</td>\n",
       "    </tr>\n",
       "    <tr>\n",
       "      <th>110525</th>\n",
       "      <td>92134931435557</td>\n",
       "      <td>5630323</td>\n",
       "      <td>F</td>\n",
       "      <td>2016-04-27 15:09:23+00:00</td>\n",
       "      <td>2016-06-07 00:00:00+00:00</td>\n",
       "      <td>41</td>\n",
       "      <td>days29_over</td>\n",
       "      <td>38</td>\n",
       "      <td>MARIA ORTIZ</td>\n",
       "      <td>0</td>\n",
       "      <td>0</td>\n",
       "      <td>0</td>\n",
       "      <td>0</td>\n",
       "      <td>0</td>\n",
       "      <td>1</td>\n",
       "      <td>No</td>\n",
       "    </tr>\n",
       "    <tr>\n",
       "      <th>110526</th>\n",
       "      <td>377511518121127</td>\n",
       "      <td>5629448</td>\n",
       "      <td>F</td>\n",
       "      <td>2016-04-27 13:30:56+00:00</td>\n",
       "      <td>2016-06-07 00:00:00+00:00</td>\n",
       "      <td>41</td>\n",
       "      <td>days29_over</td>\n",
       "      <td>54</td>\n",
       "      <td>MARIA ORTIZ</td>\n",
       "      <td>0</td>\n",
       "      <td>0</td>\n",
       "      <td>0</td>\n",
       "      <td>0</td>\n",
       "      <td>0</td>\n",
       "      <td>1</td>\n",
       "      <td>No</td>\n",
       "    </tr>\n",
       "  </tbody>\n",
       "</table>\n",
       "<p>110521 rows × 16 columns</p>\n",
       "</div>"
      ],
      "text/plain": [
       "              PatientId  AppointmentID Gender              ScheduledDay  \\\n",
       "0        29872499824296        5642903      F 2016-04-29 18:38:08+00:00   \n",
       "1       558997776694438        5642503      M 2016-04-29 16:08:27+00:00   \n",
       "2         4262962299951        5642549      F 2016-04-29 16:19:04+00:00   \n",
       "3          867951213174        5642828      F 2016-04-29 17:29:31+00:00   \n",
       "4         8841186448183        5642494      F 2016-04-29 16:07:23+00:00   \n",
       "...                 ...            ...    ...                       ...   \n",
       "110522    2572134369293        5651768      F 2016-05-03 09:15:35+00:00   \n",
       "110523    3596266328735        5650093      F 2016-05-03 07:27:33+00:00   \n",
       "110524   15576631729893        5630692      F 2016-04-27 16:03:52+00:00   \n",
       "110525   92134931435557        5630323      F 2016-04-27 15:09:23+00:00   \n",
       "110526  377511518121127        5629448      F 2016-04-27 13:30:56+00:00   \n",
       "\n",
       "                  AppointmentDay  DaysBetween DaysBetweenGroup  Age  \\\n",
       "0      2016-04-29 00:00:00+00:00            0          days0_7   62   \n",
       "1      2016-04-29 00:00:00+00:00            0          days0_7   56   \n",
       "2      2016-04-29 00:00:00+00:00            0          days0_7   62   \n",
       "3      2016-04-29 00:00:00+00:00            0          days0_7    8   \n",
       "4      2016-04-29 00:00:00+00:00            0          days0_7   56   \n",
       "...                          ...          ...              ...  ...   \n",
       "110522 2016-06-07 00:00:00+00:00           35      days29_over   56   \n",
       "110523 2016-06-07 00:00:00+00:00           35      days29_over   51   \n",
       "110524 2016-06-07 00:00:00+00:00           41      days29_over   21   \n",
       "110525 2016-06-07 00:00:00+00:00           41      days29_over   38   \n",
       "110526 2016-06-07 00:00:00+00:00           41      days29_over   54   \n",
       "\n",
       "            Neighbourhood  Scholarship  Hipertension  Diabetes  Alcoholism  \\\n",
       "0         JARDIM DA PENHA            0             1         0           0   \n",
       "1         JARDIM DA PENHA            0             0         0           0   \n",
       "2           MATA DA PRAIA            0             0         0           0   \n",
       "3       PONTAL DE CAMBURI            0             0         0           0   \n",
       "4         JARDIM DA PENHA            0             1         1           0   \n",
       "...                   ...          ...           ...       ...         ...   \n",
       "110522        MARIA ORTIZ            0             0         0           0   \n",
       "110523        MARIA ORTIZ            0             0         0           0   \n",
       "110524        MARIA ORTIZ            0             0         0           0   \n",
       "110525        MARIA ORTIZ            0             0         0           0   \n",
       "110526        MARIA ORTIZ            0             0         0           0   \n",
       "\n",
       "        Handcap  SMS_received No_show  \n",
       "0             0             0      No  \n",
       "1             0             0      No  \n",
       "2             0             0      No  \n",
       "3             0             0      No  \n",
       "4             0             0      No  \n",
       "...         ...           ...     ...  \n",
       "110522        0             1      No  \n",
       "110523        0             1      No  \n",
       "110524        0             1      No  \n",
       "110525        0             1      No  \n",
       "110526        0             1      No  \n",
       "\n",
       "[110521 rows x 16 columns]"
      ]
     },
     "execution_count": 50,
     "metadata": {},
     "output_type": "execute_result"
    }
   ],
   "source": [
    "# Insert the 'DaysBetweenGroup' column into the DataFrame. \n",
    "df.insert(6, 'DaysBetweenGroup', DaysBetweenGroup)\n",
    "print(df.shape)\n",
    "df"
   ]
  },
  {
   "cell_type": "markdown",
   "metadata": {},
   "source": [
    "**Conclusion:** The DataFrame with the added 'DaysBetweenGroup' column looks correct (but, again, see further below with respect to a few negative 'DaysBetween' values)."
   ]
  },
  {
   "cell_type": "markdown",
   "metadata": {},
   "source": [
    "#### Convert 'Age' numeric data into categoric groups (inclusive: 0 to 18; 19 to 39; 40 to 60; 60 to 120)"
   ]
  },
  {
   "cell_type": "code",
   "execution_count": 51,
   "metadata": {},
   "outputs": [
    {
     "data": {
      "text/html": [
       "<div>\n",
       "<style scoped>\n",
       "    .dataframe tbody tr th:only-of-type {\n",
       "        vertical-align: middle;\n",
       "    }\n",
       "\n",
       "    .dataframe tbody tr th {\n",
       "        vertical-align: top;\n",
       "    }\n",
       "\n",
       "    .dataframe thead th {\n",
       "        text-align: right;\n",
       "    }\n",
       "</style>\n",
       "<table border=\"1\" class=\"dataframe\">\n",
       "  <thead>\n",
       "    <tr style=\"text-align: right;\">\n",
       "      <th></th>\n",
       "      <th>PatientId</th>\n",
       "      <th>AppointmentID</th>\n",
       "      <th>Gender</th>\n",
       "      <th>ScheduledDay</th>\n",
       "      <th>AppointmentDay</th>\n",
       "      <th>DaysBetween</th>\n",
       "      <th>DaysBetweenGroup</th>\n",
       "      <th>Age</th>\n",
       "      <th>Neighbourhood</th>\n",
       "      <th>Scholarship</th>\n",
       "      <th>Hipertension</th>\n",
       "      <th>Diabetes</th>\n",
       "      <th>Alcoholism</th>\n",
       "      <th>Handcap</th>\n",
       "      <th>SMS_received</th>\n",
       "      <th>No_show</th>\n",
       "    </tr>\n",
       "  </thead>\n",
       "  <tbody>\n",
       "    <tr>\n",
       "      <th>59</th>\n",
       "      <td>71844284745331</td>\n",
       "      <td>5638545</td>\n",
       "      <td>F</td>\n",
       "      <td>2016-04-29 08:08:43+00:00</td>\n",
       "      <td>2016-04-29 00:00:00+00:00</td>\n",
       "      <td>0</td>\n",
       "      <td>days0_7</td>\n",
       "      <td>0</td>\n",
       "      <td>CONQUISTA</td>\n",
       "      <td>0</td>\n",
       "      <td>0</td>\n",
       "      <td>0</td>\n",
       "      <td>0</td>\n",
       "      <td>0</td>\n",
       "      <td>0</td>\n",
       "      <td>No</td>\n",
       "    </tr>\n",
       "    <tr>\n",
       "      <th>63</th>\n",
       "      <td>236623344873175</td>\n",
       "      <td>5628286</td>\n",
       "      <td>M</td>\n",
       "      <td>2016-04-27 10:46:12+00:00</td>\n",
       "      <td>2016-04-29 00:00:00+00:00</td>\n",
       "      <td>2</td>\n",
       "      <td>days0_7</td>\n",
       "      <td>0</td>\n",
       "      <td>SÃO BENEDITO</td>\n",
       "      <td>0</td>\n",
       "      <td>0</td>\n",
       "      <td>0</td>\n",
       "      <td>0</td>\n",
       "      <td>0</td>\n",
       "      <td>0</td>\n",
       "      <td>No</td>\n",
       "    </tr>\n",
       "    <tr>\n",
       "      <th>64</th>\n",
       "      <td>188517384712787</td>\n",
       "      <td>5616082</td>\n",
       "      <td>M</td>\n",
       "      <td>2016-04-25 13:28:21+00:00</td>\n",
       "      <td>2016-04-29 00:00:00+00:00</td>\n",
       "      <td>4</td>\n",
       "      <td>days0_7</td>\n",
       "      <td>0</td>\n",
       "      <td>ILHA DAS CAIEIRAS</td>\n",
       "      <td>0</td>\n",
       "      <td>0</td>\n",
       "      <td>0</td>\n",
       "      <td>0</td>\n",
       "      <td>0</td>\n",
       "      <td>1</td>\n",
       "      <td>No</td>\n",
       "    </tr>\n",
       "    <tr>\n",
       "      <th>65</th>\n",
       "      <td>271881817799985</td>\n",
       "      <td>5628321</td>\n",
       "      <td>M</td>\n",
       "      <td>2016-04-27 10:48:50+00:00</td>\n",
       "      <td>2016-04-29 00:00:00+00:00</td>\n",
       "      <td>2</td>\n",
       "      <td>days0_7</td>\n",
       "      <td>0</td>\n",
       "      <td>CONQUISTA</td>\n",
       "      <td>0</td>\n",
       "      <td>0</td>\n",
       "      <td>0</td>\n",
       "      <td>0</td>\n",
       "      <td>0</td>\n",
       "      <td>0</td>\n",
       "      <td>No</td>\n",
       "    </tr>\n",
       "    <tr>\n",
       "      <th>67</th>\n",
       "      <td>86471282513499</td>\n",
       "      <td>5639264</td>\n",
       "      <td>F</td>\n",
       "      <td>2016-04-29 08:53:02+00:00</td>\n",
       "      <td>2016-04-29 00:00:00+00:00</td>\n",
       "      <td>0</td>\n",
       "      <td>days0_7</td>\n",
       "      <td>0</td>\n",
       "      <td>NOVA PALESTINA</td>\n",
       "      <td>0</td>\n",
       "      <td>0</td>\n",
       "      <td>0</td>\n",
       "      <td>0</td>\n",
       "      <td>0</td>\n",
       "      <td>0</td>\n",
       "      <td>No</td>\n",
       "    </tr>\n",
       "    <tr>\n",
       "      <th>...</th>\n",
       "      <td>...</td>\n",
       "      <td>...</td>\n",
       "      <td>...</td>\n",
       "      <td>...</td>\n",
       "      <td>...</td>\n",
       "      <td>...</td>\n",
       "      <td>...</td>\n",
       "      <td>...</td>\n",
       "      <td>...</td>\n",
       "      <td>...</td>\n",
       "      <td>...</td>\n",
       "      <td>...</td>\n",
       "      <td>...</td>\n",
       "      <td>...</td>\n",
       "      <td>...</td>\n",
       "      <td>...</td>\n",
       "    </tr>\n",
       "    <tr>\n",
       "      <th>110345</th>\n",
       "      <td>147395196662956</td>\n",
       "      <td>5702537</td>\n",
       "      <td>F</td>\n",
       "      <td>2016-05-16 12:30:58+00:00</td>\n",
       "      <td>2016-06-01 00:00:00+00:00</td>\n",
       "      <td>16</td>\n",
       "      <td>days15_28</td>\n",
       "      <td>0</td>\n",
       "      <td>RESISTÊNCIA</td>\n",
       "      <td>0</td>\n",
       "      <td>0</td>\n",
       "      <td>0</td>\n",
       "      <td>0</td>\n",
       "      <td>0</td>\n",
       "      <td>0</td>\n",
       "      <td>No</td>\n",
       "    </tr>\n",
       "    <tr>\n",
       "      <th>110346</th>\n",
       "      <td>5577525313231</td>\n",
       "      <td>5777724</td>\n",
       "      <td>M</td>\n",
       "      <td>2016-06-06 14:22:34+00:00</td>\n",
       "      <td>2016-06-08 00:00:00+00:00</td>\n",
       "      <td>2</td>\n",
       "      <td>days0_7</td>\n",
       "      <td>0</td>\n",
       "      <td>RESISTÊNCIA</td>\n",
       "      <td>0</td>\n",
       "      <td>0</td>\n",
       "      <td>0</td>\n",
       "      <td>0</td>\n",
       "      <td>0</td>\n",
       "      <td>0</td>\n",
       "      <td>No</td>\n",
       "    </tr>\n",
       "    <tr>\n",
       "      <th>110454</th>\n",
       "      <td>614245995575</td>\n",
       "      <td>5772400</td>\n",
       "      <td>F</td>\n",
       "      <td>2016-06-03 15:18:44+00:00</td>\n",
       "      <td>2016-06-03 00:00:00+00:00</td>\n",
       "      <td>0</td>\n",
       "      <td>days0_7</td>\n",
       "      <td>0</td>\n",
       "      <td>RESISTÊNCIA</td>\n",
       "      <td>0</td>\n",
       "      <td>0</td>\n",
       "      <td>0</td>\n",
       "      <td>0</td>\n",
       "      <td>0</td>\n",
       "      <td>0</td>\n",
       "      <td>No</td>\n",
       "    </tr>\n",
       "    <tr>\n",
       "      <th>110460</th>\n",
       "      <td>43218463343323</td>\n",
       "      <td>5769545</td>\n",
       "      <td>F</td>\n",
       "      <td>2016-06-03 08:56:51+00:00</td>\n",
       "      <td>2016-06-03 00:00:00+00:00</td>\n",
       "      <td>0</td>\n",
       "      <td>days0_7</td>\n",
       "      <td>0</td>\n",
       "      <td>RESISTÊNCIA</td>\n",
       "      <td>0</td>\n",
       "      <td>0</td>\n",
       "      <td>0</td>\n",
       "      <td>0</td>\n",
       "      <td>0</td>\n",
       "      <td>0</td>\n",
       "      <td>No</td>\n",
       "    </tr>\n",
       "    <tr>\n",
       "      <th>110507</th>\n",
       "      <td>476946211846992</td>\n",
       "      <td>5786918</td>\n",
       "      <td>F</td>\n",
       "      <td>2016-06-08 09:04:18+00:00</td>\n",
       "      <td>2016-06-08 00:00:00+00:00</td>\n",
       "      <td>0</td>\n",
       "      <td>days0_7</td>\n",
       "      <td>0</td>\n",
       "      <td>MARIA ORTIZ</td>\n",
       "      <td>0</td>\n",
       "      <td>0</td>\n",
       "      <td>0</td>\n",
       "      <td>0</td>\n",
       "      <td>0</td>\n",
       "      <td>0</td>\n",
       "      <td>No</td>\n",
       "    </tr>\n",
       "  </tbody>\n",
       "</table>\n",
       "<p>3539 rows × 16 columns</p>\n",
       "</div>"
      ],
      "text/plain": [
       "              PatientId  AppointmentID Gender              ScheduledDay  \\\n",
       "59       71844284745331        5638545      F 2016-04-29 08:08:43+00:00   \n",
       "63      236623344873175        5628286      M 2016-04-27 10:46:12+00:00   \n",
       "64      188517384712787        5616082      M 2016-04-25 13:28:21+00:00   \n",
       "65      271881817799985        5628321      M 2016-04-27 10:48:50+00:00   \n",
       "67       86471282513499        5639264      F 2016-04-29 08:53:02+00:00   \n",
       "...                 ...            ...    ...                       ...   \n",
       "110345  147395196662956        5702537      F 2016-05-16 12:30:58+00:00   \n",
       "110346    5577525313231        5777724      M 2016-06-06 14:22:34+00:00   \n",
       "110454     614245995575        5772400      F 2016-06-03 15:18:44+00:00   \n",
       "110460   43218463343323        5769545      F 2016-06-03 08:56:51+00:00   \n",
       "110507  476946211846992        5786918      F 2016-06-08 09:04:18+00:00   \n",
       "\n",
       "                  AppointmentDay  DaysBetween DaysBetweenGroup  Age  \\\n",
       "59     2016-04-29 00:00:00+00:00            0          days0_7    0   \n",
       "63     2016-04-29 00:00:00+00:00            2          days0_7    0   \n",
       "64     2016-04-29 00:00:00+00:00            4          days0_7    0   \n",
       "65     2016-04-29 00:00:00+00:00            2          days0_7    0   \n",
       "67     2016-04-29 00:00:00+00:00            0          days0_7    0   \n",
       "...                          ...          ...              ...  ...   \n",
       "110345 2016-06-01 00:00:00+00:00           16        days15_28    0   \n",
       "110346 2016-06-08 00:00:00+00:00            2          days0_7    0   \n",
       "110454 2016-06-03 00:00:00+00:00            0          days0_7    0   \n",
       "110460 2016-06-03 00:00:00+00:00            0          days0_7    0   \n",
       "110507 2016-06-08 00:00:00+00:00            0          days0_7    0   \n",
       "\n",
       "            Neighbourhood  Scholarship  Hipertension  Diabetes  Alcoholism  \\\n",
       "59              CONQUISTA            0             0         0           0   \n",
       "63           SÃO BENEDITO            0             0         0           0   \n",
       "64      ILHA DAS CAIEIRAS            0             0         0           0   \n",
       "65              CONQUISTA            0             0         0           0   \n",
       "67         NOVA PALESTINA            0             0         0           0   \n",
       "...                   ...          ...           ...       ...         ...   \n",
       "110345        RESISTÊNCIA            0             0         0           0   \n",
       "110346        RESISTÊNCIA            0             0         0           0   \n",
       "110454        RESISTÊNCIA            0             0         0           0   \n",
       "110460        RESISTÊNCIA            0             0         0           0   \n",
       "110507        MARIA ORTIZ            0             0         0           0   \n",
       "\n",
       "        Handcap  SMS_received No_show  \n",
       "59            0             0      No  \n",
       "63            0             0      No  \n",
       "64            0             1      No  \n",
       "65            0             0      No  \n",
       "67            0             0      No  \n",
       "...         ...           ...     ...  \n",
       "110345        0             0      No  \n",
       "110346        0             0      No  \n",
       "110454        0             0      No  \n",
       "110460        0             0      No  \n",
       "110507        0             0      No  \n",
       "\n",
       "[3539 rows x 16 columns]"
      ]
     },
     "execution_count": 51,
     "metadata": {},
     "output_type": "execute_result"
    }
   ],
   "source": [
    "# Confirm that there are 'Age' = 0 entries (since previous 'Age' minimum was -1).\n",
    "df[df['Age'] == 0]"
   ]
  },
  {
   "cell_type": "code",
   "execution_count": 52,
   "metadata": {},
   "outputs": [
    {
     "data": {
      "text/plain": [
       "No     2900\n",
       "Yes     639\n",
       "Name: No_show, dtype: int64"
      ]
     },
     "execution_count": 52,
     "metadata": {},
     "output_type": "execute_result"
    }
   ],
   "source": [
    "# Check the No-Show rate of 'Age' = 0 patients.\n",
    "df[df['Age'] == 0]['No_show'].value_counts()"
   ]
  },
  {
   "cell_type": "markdown",
   "metadata": {},
   "source": [
    "**Conclusion:** There are, indeed, age = 0 patients, and the No-Show rate for all age = 0 patients is 639/(639 + 2900) = 18.0%"
   ]
  },
  {
   "cell_type": "code",
   "execution_count": 53,
   "metadata": {},
   "outputs": [
    {
     "data": {
      "text/plain": [
       "No     1357\n",
       "Yes      51\n",
       "Name: No_show, dtype: int64"
      ]
     },
     "execution_count": 53,
     "metadata": {},
     "output_type": "execute_result"
    }
   ],
   "source": [
    "# Compare to No-Show rate of 'Age' = 0 and 'DaysBetween' = 0 (same-date) patients.\n",
    "df.query('Age == 0 & DaysBetween == 0')['No_show'].value_counts()"
   ]
  },
  {
   "cell_type": "markdown",
   "metadata": {},
   "source": [
    "**Conclusion:** \n",
    "* The No-Show rate for age = 0, same-date patients is 51/(51 + 1357) = 3.6%.\n",
    "* The No-Show rate for age = 0, not-same-date patients is (639 - 51) / ((2900 + 639) - (1357 + 51)) = 27.6%.\n",
    "* These No-Show rates, again, strengthen the argument to exclude the same-date ('DaysBetween' = 0) data."
   ]
  },
  {
   "cell_type": "code",
   "execution_count": 54,
   "metadata": {},
   "outputs": [
    {
     "name": "stdout",
     "output_type": "stream",
     "text": [
      "<class 'pandas.core.series.Series'>\n"
     ]
    },
    {
     "data": {
      "text/plain": [
       "0         age61_above\n",
       "1            age40_60\n",
       "2         age61_above\n",
       "3             age0_18\n",
       "4            age40_60\n",
       "             ...     \n",
       "110522       age40_60\n",
       "110523       age40_60\n",
       "110524       age19_39\n",
       "110525       age19_39\n",
       "110526       age40_60\n",
       "Name: Age, Length: 110521, dtype: category\n",
       "Categories (4, object): ['age0_18' < 'age19_39' < 'age40_60' < 'age61_above']"
      ]
     },
     "execution_count": 54,
     "metadata": {},
     "output_type": "execute_result"
    }
   ],
   "source": [
    "# Group patients by 'Age'. \n",
    "AgeGroup = pd.cut(df.Age, [0, 18, 39, 60, 120], include_lowest=True, labels=['age0_18', 'age19_39', 'age40_60', 'age61_above'])\n",
    "print(type(AgeGroup))\n",
    "AgeGroup"
   ]
  },
  {
   "cell_type": "code",
   "execution_count": 55,
   "metadata": {},
   "outputs": [
    {
     "name": "stdout",
     "output_type": "stream",
     "text": [
      "(110521, 17)\n"
     ]
    },
    {
     "data": {
      "text/html": [
       "<div>\n",
       "<style scoped>\n",
       "    .dataframe tbody tr th:only-of-type {\n",
       "        vertical-align: middle;\n",
       "    }\n",
       "\n",
       "    .dataframe tbody tr th {\n",
       "        vertical-align: top;\n",
       "    }\n",
       "\n",
       "    .dataframe thead th {\n",
       "        text-align: right;\n",
       "    }\n",
       "</style>\n",
       "<table border=\"1\" class=\"dataframe\">\n",
       "  <thead>\n",
       "    <tr style=\"text-align: right;\">\n",
       "      <th></th>\n",
       "      <th>PatientId</th>\n",
       "      <th>AppointmentID</th>\n",
       "      <th>Gender</th>\n",
       "      <th>ScheduledDay</th>\n",
       "      <th>AppointmentDay</th>\n",
       "      <th>DaysBetween</th>\n",
       "      <th>DaysBetweenGroup</th>\n",
       "      <th>Age</th>\n",
       "      <th>AgeGroup</th>\n",
       "      <th>Neighbourhood</th>\n",
       "      <th>Scholarship</th>\n",
       "      <th>Hipertension</th>\n",
       "      <th>Diabetes</th>\n",
       "      <th>Alcoholism</th>\n",
       "      <th>Handcap</th>\n",
       "      <th>SMS_received</th>\n",
       "      <th>No_show</th>\n",
       "    </tr>\n",
       "  </thead>\n",
       "  <tbody>\n",
       "    <tr>\n",
       "      <th>0</th>\n",
       "      <td>29872499824296</td>\n",
       "      <td>5642903</td>\n",
       "      <td>F</td>\n",
       "      <td>2016-04-29 18:38:08+00:00</td>\n",
       "      <td>2016-04-29 00:00:00+00:00</td>\n",
       "      <td>0</td>\n",
       "      <td>days0_7</td>\n",
       "      <td>62</td>\n",
       "      <td>age61_above</td>\n",
       "      <td>JARDIM DA PENHA</td>\n",
       "      <td>0</td>\n",
       "      <td>1</td>\n",
       "      <td>0</td>\n",
       "      <td>0</td>\n",
       "      <td>0</td>\n",
       "      <td>0</td>\n",
       "      <td>No</td>\n",
       "    </tr>\n",
       "    <tr>\n",
       "      <th>1</th>\n",
       "      <td>558997776694438</td>\n",
       "      <td>5642503</td>\n",
       "      <td>M</td>\n",
       "      <td>2016-04-29 16:08:27+00:00</td>\n",
       "      <td>2016-04-29 00:00:00+00:00</td>\n",
       "      <td>0</td>\n",
       "      <td>days0_7</td>\n",
       "      <td>56</td>\n",
       "      <td>age40_60</td>\n",
       "      <td>JARDIM DA PENHA</td>\n",
       "      <td>0</td>\n",
       "      <td>0</td>\n",
       "      <td>0</td>\n",
       "      <td>0</td>\n",
       "      <td>0</td>\n",
       "      <td>0</td>\n",
       "      <td>No</td>\n",
       "    </tr>\n",
       "    <tr>\n",
       "      <th>2</th>\n",
       "      <td>4262962299951</td>\n",
       "      <td>5642549</td>\n",
       "      <td>F</td>\n",
       "      <td>2016-04-29 16:19:04+00:00</td>\n",
       "      <td>2016-04-29 00:00:00+00:00</td>\n",
       "      <td>0</td>\n",
       "      <td>days0_7</td>\n",
       "      <td>62</td>\n",
       "      <td>age61_above</td>\n",
       "      <td>MATA DA PRAIA</td>\n",
       "      <td>0</td>\n",
       "      <td>0</td>\n",
       "      <td>0</td>\n",
       "      <td>0</td>\n",
       "      <td>0</td>\n",
       "      <td>0</td>\n",
       "      <td>No</td>\n",
       "    </tr>\n",
       "    <tr>\n",
       "      <th>3</th>\n",
       "      <td>867951213174</td>\n",
       "      <td>5642828</td>\n",
       "      <td>F</td>\n",
       "      <td>2016-04-29 17:29:31+00:00</td>\n",
       "      <td>2016-04-29 00:00:00+00:00</td>\n",
       "      <td>0</td>\n",
       "      <td>days0_7</td>\n",
       "      <td>8</td>\n",
       "      <td>age0_18</td>\n",
       "      <td>PONTAL DE CAMBURI</td>\n",
       "      <td>0</td>\n",
       "      <td>0</td>\n",
       "      <td>0</td>\n",
       "      <td>0</td>\n",
       "      <td>0</td>\n",
       "      <td>0</td>\n",
       "      <td>No</td>\n",
       "    </tr>\n",
       "    <tr>\n",
       "      <th>4</th>\n",
       "      <td>8841186448183</td>\n",
       "      <td>5642494</td>\n",
       "      <td>F</td>\n",
       "      <td>2016-04-29 16:07:23+00:00</td>\n",
       "      <td>2016-04-29 00:00:00+00:00</td>\n",
       "      <td>0</td>\n",
       "      <td>days0_7</td>\n",
       "      <td>56</td>\n",
       "      <td>age40_60</td>\n",
       "      <td>JARDIM DA PENHA</td>\n",
       "      <td>0</td>\n",
       "      <td>1</td>\n",
       "      <td>1</td>\n",
       "      <td>0</td>\n",
       "      <td>0</td>\n",
       "      <td>0</td>\n",
       "      <td>No</td>\n",
       "    </tr>\n",
       "    <tr>\n",
       "      <th>...</th>\n",
       "      <td>...</td>\n",
       "      <td>...</td>\n",
       "      <td>...</td>\n",
       "      <td>...</td>\n",
       "      <td>...</td>\n",
       "      <td>...</td>\n",
       "      <td>...</td>\n",
       "      <td>...</td>\n",
       "      <td>...</td>\n",
       "      <td>...</td>\n",
       "      <td>...</td>\n",
       "      <td>...</td>\n",
       "      <td>...</td>\n",
       "      <td>...</td>\n",
       "      <td>...</td>\n",
       "      <td>...</td>\n",
       "      <td>...</td>\n",
       "    </tr>\n",
       "    <tr>\n",
       "      <th>110522</th>\n",
       "      <td>2572134369293</td>\n",
       "      <td>5651768</td>\n",
       "      <td>F</td>\n",
       "      <td>2016-05-03 09:15:35+00:00</td>\n",
       "      <td>2016-06-07 00:00:00+00:00</td>\n",
       "      <td>35</td>\n",
       "      <td>days29_over</td>\n",
       "      <td>56</td>\n",
       "      <td>age40_60</td>\n",
       "      <td>MARIA ORTIZ</td>\n",
       "      <td>0</td>\n",
       "      <td>0</td>\n",
       "      <td>0</td>\n",
       "      <td>0</td>\n",
       "      <td>0</td>\n",
       "      <td>1</td>\n",
       "      <td>No</td>\n",
       "    </tr>\n",
       "    <tr>\n",
       "      <th>110523</th>\n",
       "      <td>3596266328735</td>\n",
       "      <td>5650093</td>\n",
       "      <td>F</td>\n",
       "      <td>2016-05-03 07:27:33+00:00</td>\n",
       "      <td>2016-06-07 00:00:00+00:00</td>\n",
       "      <td>35</td>\n",
       "      <td>days29_over</td>\n",
       "      <td>51</td>\n",
       "      <td>age40_60</td>\n",
       "      <td>MARIA ORTIZ</td>\n",
       "      <td>0</td>\n",
       "      <td>0</td>\n",
       "      <td>0</td>\n",
       "      <td>0</td>\n",
       "      <td>0</td>\n",
       "      <td>1</td>\n",
       "      <td>No</td>\n",
       "    </tr>\n",
       "    <tr>\n",
       "      <th>110524</th>\n",
       "      <td>15576631729893</td>\n",
       "      <td>5630692</td>\n",
       "      <td>F</td>\n",
       "      <td>2016-04-27 16:03:52+00:00</td>\n",
       "      <td>2016-06-07 00:00:00+00:00</td>\n",
       "      <td>41</td>\n",
       "      <td>days29_over</td>\n",
       "      <td>21</td>\n",
       "      <td>age19_39</td>\n",
       "      <td>MARIA ORTIZ</td>\n",
       "      <td>0</td>\n",
       "      <td>0</td>\n",
       "      <td>0</td>\n",
       "      <td>0</td>\n",
       "      <td>0</td>\n",
       "      <td>1</td>\n",
       "      <td>No</td>\n",
       "    </tr>\n",
       "    <tr>\n",
       "      <th>110525</th>\n",
       "      <td>92134931435557</td>\n",
       "      <td>5630323</td>\n",
       "      <td>F</td>\n",
       "      <td>2016-04-27 15:09:23+00:00</td>\n",
       "      <td>2016-06-07 00:00:00+00:00</td>\n",
       "      <td>41</td>\n",
       "      <td>days29_over</td>\n",
       "      <td>38</td>\n",
       "      <td>age19_39</td>\n",
       "      <td>MARIA ORTIZ</td>\n",
       "      <td>0</td>\n",
       "      <td>0</td>\n",
       "      <td>0</td>\n",
       "      <td>0</td>\n",
       "      <td>0</td>\n",
       "      <td>1</td>\n",
       "      <td>No</td>\n",
       "    </tr>\n",
       "    <tr>\n",
       "      <th>110526</th>\n",
       "      <td>377511518121127</td>\n",
       "      <td>5629448</td>\n",
       "      <td>F</td>\n",
       "      <td>2016-04-27 13:30:56+00:00</td>\n",
       "      <td>2016-06-07 00:00:00+00:00</td>\n",
       "      <td>41</td>\n",
       "      <td>days29_over</td>\n",
       "      <td>54</td>\n",
       "      <td>age40_60</td>\n",
       "      <td>MARIA ORTIZ</td>\n",
       "      <td>0</td>\n",
       "      <td>0</td>\n",
       "      <td>0</td>\n",
       "      <td>0</td>\n",
       "      <td>0</td>\n",
       "      <td>1</td>\n",
       "      <td>No</td>\n",
       "    </tr>\n",
       "  </tbody>\n",
       "</table>\n",
       "<p>110521 rows × 17 columns</p>\n",
       "</div>"
      ],
      "text/plain": [
       "              PatientId  AppointmentID Gender              ScheduledDay  \\\n",
       "0        29872499824296        5642903      F 2016-04-29 18:38:08+00:00   \n",
       "1       558997776694438        5642503      M 2016-04-29 16:08:27+00:00   \n",
       "2         4262962299951        5642549      F 2016-04-29 16:19:04+00:00   \n",
       "3          867951213174        5642828      F 2016-04-29 17:29:31+00:00   \n",
       "4         8841186448183        5642494      F 2016-04-29 16:07:23+00:00   \n",
       "...                 ...            ...    ...                       ...   \n",
       "110522    2572134369293        5651768      F 2016-05-03 09:15:35+00:00   \n",
       "110523    3596266328735        5650093      F 2016-05-03 07:27:33+00:00   \n",
       "110524   15576631729893        5630692      F 2016-04-27 16:03:52+00:00   \n",
       "110525   92134931435557        5630323      F 2016-04-27 15:09:23+00:00   \n",
       "110526  377511518121127        5629448      F 2016-04-27 13:30:56+00:00   \n",
       "\n",
       "                  AppointmentDay  DaysBetween DaysBetweenGroup  Age  \\\n",
       "0      2016-04-29 00:00:00+00:00            0          days0_7   62   \n",
       "1      2016-04-29 00:00:00+00:00            0          days0_7   56   \n",
       "2      2016-04-29 00:00:00+00:00            0          days0_7   62   \n",
       "3      2016-04-29 00:00:00+00:00            0          days0_7    8   \n",
       "4      2016-04-29 00:00:00+00:00            0          days0_7   56   \n",
       "...                          ...          ...              ...  ...   \n",
       "110522 2016-06-07 00:00:00+00:00           35      days29_over   56   \n",
       "110523 2016-06-07 00:00:00+00:00           35      days29_over   51   \n",
       "110524 2016-06-07 00:00:00+00:00           41      days29_over   21   \n",
       "110525 2016-06-07 00:00:00+00:00           41      days29_over   38   \n",
       "110526 2016-06-07 00:00:00+00:00           41      days29_over   54   \n",
       "\n",
       "           AgeGroup      Neighbourhood  Scholarship  Hipertension  Diabetes  \\\n",
       "0       age61_above    JARDIM DA PENHA            0             1         0   \n",
       "1          age40_60    JARDIM DA PENHA            0             0         0   \n",
       "2       age61_above      MATA DA PRAIA            0             0         0   \n",
       "3           age0_18  PONTAL DE CAMBURI            0             0         0   \n",
       "4          age40_60    JARDIM DA PENHA            0             1         1   \n",
       "...             ...                ...          ...           ...       ...   \n",
       "110522     age40_60        MARIA ORTIZ            0             0         0   \n",
       "110523     age40_60        MARIA ORTIZ            0             0         0   \n",
       "110524     age19_39        MARIA ORTIZ            0             0         0   \n",
       "110525     age19_39        MARIA ORTIZ            0             0         0   \n",
       "110526     age40_60        MARIA ORTIZ            0             0         0   \n",
       "\n",
       "        Alcoholism  Handcap  SMS_received No_show  \n",
       "0                0        0             0      No  \n",
       "1                0        0             0      No  \n",
       "2                0        0             0      No  \n",
       "3                0        0             0      No  \n",
       "4                0        0             0      No  \n",
       "...            ...      ...           ...     ...  \n",
       "110522           0        0             1      No  \n",
       "110523           0        0             1      No  \n",
       "110524           0        0             1      No  \n",
       "110525           0        0             1      No  \n",
       "110526           0        0             1      No  \n",
       "\n",
       "[110521 rows x 17 columns]"
      ]
     },
     "execution_count": 55,
     "metadata": {},
     "output_type": "execute_result"
    }
   ],
   "source": [
    "# Insert the 'AgeGroup' column into the DataFrame. \n",
    "df.insert(8, 'AgeGroup', AgeGroup)\n",
    "print(df.shape)\n",
    "df"
   ]
  },
  {
   "cell_type": "markdown",
   "metadata": {},
   "source": [
    "**Conclusion:** The DataFrame with the added 'AgeGroup' column looks correct."
   ]
  },
  {
   "cell_type": "code",
   "execution_count": 56,
   "metadata": {},
   "outputs": [
    {
     "name": "stdout",
     "output_type": "stream",
     "text": [
      "<class 'pandas.core.frame.DataFrame'>\n",
      "Int64Index: 110521 entries, 0 to 110526\n",
      "Data columns (total 17 columns):\n",
      " #   Column            Non-Null Count   Dtype              \n",
      "---  ------            --------------   -----              \n",
      " 0   PatientId         110521 non-null  int64              \n",
      " 1   AppointmentID     110521 non-null  int64              \n",
      " 2   Gender            110521 non-null  object             \n",
      " 3   ScheduledDay      110521 non-null  datetime64[ns, UTC]\n",
      " 4   AppointmentDay    110521 non-null  datetime64[ns, UTC]\n",
      " 5   DaysBetween       110521 non-null  int64              \n",
      " 6   DaysBetweenGroup  110516 non-null  category           \n",
      " 7   Age               110521 non-null  int64              \n",
      " 8   AgeGroup          110521 non-null  category           \n",
      " 9   Neighbourhood     110521 non-null  object             \n",
      " 10  Scholarship       110521 non-null  int64              \n",
      " 11  Hipertension      110521 non-null  int64              \n",
      " 12  Diabetes          110521 non-null  int64              \n",
      " 13  Alcoholism        110521 non-null  int64              \n",
      " 14  Handcap           110521 non-null  int64              \n",
      " 15  SMS_received      110521 non-null  int64              \n",
      " 16  No_show           110521 non-null  object             \n",
      "dtypes: category(2), datetime64[ns, UTC](2), int64(10), object(3)\n",
      "memory usage: 13.7+ MB\n"
     ]
    }
   ],
   "source": [
    "# Recheck current DataFrame.\n",
    "df.info()"
   ]
  },
  {
   "cell_type": "markdown",
   "metadata": {},
   "source": [
    "**Conclusion:** Looks like a handful of NULLs have been introduced in the 'DaysBetweenGroup' column."
   ]
  },
  {
   "cell_type": "code",
   "execution_count": 57,
   "metadata": {},
   "outputs": [
    {
     "data": {
      "text/html": [
       "<div>\n",
       "<style scoped>\n",
       "    .dataframe tbody tr th:only-of-type {\n",
       "        vertical-align: middle;\n",
       "    }\n",
       "\n",
       "    .dataframe tbody tr th {\n",
       "        vertical-align: top;\n",
       "    }\n",
       "\n",
       "    .dataframe thead th {\n",
       "        text-align: right;\n",
       "    }\n",
       "</style>\n",
       "<table border=\"1\" class=\"dataframe\">\n",
       "  <thead>\n",
       "    <tr style=\"text-align: right;\">\n",
       "      <th></th>\n",
       "      <th>PatientId</th>\n",
       "      <th>AppointmentID</th>\n",
       "      <th>Gender</th>\n",
       "      <th>ScheduledDay</th>\n",
       "      <th>AppointmentDay</th>\n",
       "      <th>DaysBetween</th>\n",
       "      <th>DaysBetweenGroup</th>\n",
       "      <th>Age</th>\n",
       "      <th>AgeGroup</th>\n",
       "      <th>Neighbourhood</th>\n",
       "      <th>Scholarship</th>\n",
       "      <th>Hipertension</th>\n",
       "      <th>Diabetes</th>\n",
       "      <th>Alcoholism</th>\n",
       "      <th>Handcap</th>\n",
       "      <th>SMS_received</th>\n",
       "      <th>No_show</th>\n",
       "    </tr>\n",
       "  </thead>\n",
       "  <tbody>\n",
       "    <tr>\n",
       "      <th>27033</th>\n",
       "      <td>7839272661752</td>\n",
       "      <td>5679978</td>\n",
       "      <td>M</td>\n",
       "      <td>2016-05-10 10:51:53+00:00</td>\n",
       "      <td>2016-05-09 00:00:00+00:00</td>\n",
       "      <td>-1</td>\n",
       "      <td>NaN</td>\n",
       "      <td>38</td>\n",
       "      <td>age19_39</td>\n",
       "      <td>RESISTÊNCIA</td>\n",
       "      <td>0</td>\n",
       "      <td>0</td>\n",
       "      <td>0</td>\n",
       "      <td>0</td>\n",
       "      <td>1</td>\n",
       "      <td>0</td>\n",
       "      <td>Yes</td>\n",
       "    </tr>\n",
       "    <tr>\n",
       "      <th>55226</th>\n",
       "      <td>7896293967868</td>\n",
       "      <td>5715660</td>\n",
       "      <td>F</td>\n",
       "      <td>2016-05-18 14:50:41+00:00</td>\n",
       "      <td>2016-05-17 00:00:00+00:00</td>\n",
       "      <td>-1</td>\n",
       "      <td>NaN</td>\n",
       "      <td>19</td>\n",
       "      <td>age19_39</td>\n",
       "      <td>SANTO ANTÔNIO</td>\n",
       "      <td>0</td>\n",
       "      <td>0</td>\n",
       "      <td>0</td>\n",
       "      <td>0</td>\n",
       "      <td>1</td>\n",
       "      <td>0</td>\n",
       "      <td>Yes</td>\n",
       "    </tr>\n",
       "    <tr>\n",
       "      <th>64175</th>\n",
       "      <td>24252258389979</td>\n",
       "      <td>5664962</td>\n",
       "      <td>F</td>\n",
       "      <td>2016-05-05 13:43:58+00:00</td>\n",
       "      <td>2016-05-04 00:00:00+00:00</td>\n",
       "      <td>-1</td>\n",
       "      <td>NaN</td>\n",
       "      <td>22</td>\n",
       "      <td>age19_39</td>\n",
       "      <td>CONSOLAÇÃO</td>\n",
       "      <td>0</td>\n",
       "      <td>0</td>\n",
       "      <td>0</td>\n",
       "      <td>0</td>\n",
       "      <td>0</td>\n",
       "      <td>0</td>\n",
       "      <td>Yes</td>\n",
       "    </tr>\n",
       "    <tr>\n",
       "      <th>71533</th>\n",
       "      <td>998231581612122</td>\n",
       "      <td>5686628</td>\n",
       "      <td>F</td>\n",
       "      <td>2016-05-11 13:49:20+00:00</td>\n",
       "      <td>2016-05-05 00:00:00+00:00</td>\n",
       "      <td>-6</td>\n",
       "      <td>NaN</td>\n",
       "      <td>81</td>\n",
       "      <td>age61_above</td>\n",
       "      <td>SANTO ANTÔNIO</td>\n",
       "      <td>0</td>\n",
       "      <td>0</td>\n",
       "      <td>0</td>\n",
       "      <td>0</td>\n",
       "      <td>0</td>\n",
       "      <td>0</td>\n",
       "      <td>Yes</td>\n",
       "    </tr>\n",
       "    <tr>\n",
       "      <th>72362</th>\n",
       "      <td>3787481966821</td>\n",
       "      <td>5655637</td>\n",
       "      <td>M</td>\n",
       "      <td>2016-05-04 06:50:57+00:00</td>\n",
       "      <td>2016-05-03 00:00:00+00:00</td>\n",
       "      <td>-1</td>\n",
       "      <td>NaN</td>\n",
       "      <td>7</td>\n",
       "      <td>age0_18</td>\n",
       "      <td>TABUAZEIRO</td>\n",
       "      <td>0</td>\n",
       "      <td>0</td>\n",
       "      <td>0</td>\n",
       "      <td>0</td>\n",
       "      <td>0</td>\n",
       "      <td>0</td>\n",
       "      <td>Yes</td>\n",
       "    </tr>\n",
       "  </tbody>\n",
       "</table>\n",
       "</div>"
      ],
      "text/plain": [
       "             PatientId  AppointmentID Gender              ScheduledDay  \\\n",
       "27033    7839272661752        5679978      M 2016-05-10 10:51:53+00:00   \n",
       "55226    7896293967868        5715660      F 2016-05-18 14:50:41+00:00   \n",
       "64175   24252258389979        5664962      F 2016-05-05 13:43:58+00:00   \n",
       "71533  998231581612122        5686628      F 2016-05-11 13:49:20+00:00   \n",
       "72362    3787481966821        5655637      M 2016-05-04 06:50:57+00:00   \n",
       "\n",
       "                 AppointmentDay  DaysBetween DaysBetweenGroup  Age  \\\n",
       "27033 2016-05-09 00:00:00+00:00           -1              NaN   38   \n",
       "55226 2016-05-17 00:00:00+00:00           -1              NaN   19   \n",
       "64175 2016-05-04 00:00:00+00:00           -1              NaN   22   \n",
       "71533 2016-05-05 00:00:00+00:00           -6              NaN   81   \n",
       "72362 2016-05-03 00:00:00+00:00           -1              NaN    7   \n",
       "\n",
       "          AgeGroup  Neighbourhood  Scholarship  Hipertension  Diabetes  \\\n",
       "27033     age19_39    RESISTÊNCIA            0             0         0   \n",
       "55226     age19_39  SANTO ANTÔNIO            0             0         0   \n",
       "64175     age19_39     CONSOLAÇÃO            0             0         0   \n",
       "71533  age61_above  SANTO ANTÔNIO            0             0         0   \n",
       "72362      age0_18     TABUAZEIRO            0             0         0   \n",
       "\n",
       "       Alcoholism  Handcap  SMS_received No_show  \n",
       "27033           0        1             0     Yes  \n",
       "55226           0        1             0     Yes  \n",
       "64175           0        0             0     Yes  \n",
       "71533           0        0             0     Yes  \n",
       "72362           0        0             0     Yes  "
      ]
     },
     "execution_count": 57,
     "metadata": {},
     "output_type": "execute_result"
    }
   ],
   "source": [
    "# Check the rows having a NULL (NaN) in their 'DaysBetweenGroup' column.\n",
    "dbg_to_drop = df[df.DaysBetweenGroup.isnull()]\n",
    "dbg_to_drop"
   ]
  },
  {
   "cell_type": "markdown",
   "metadata": {},
   "source": [
    "**Conclusion:** As expected, five rows were identified (110521 - 110516 = 5) as having a NaN in the 'DaysBetweenGroup' column.  This occurred because of an unexpected negative 'DaysBetween' value due to an 'AppointmentDay' date preceding its respective 'ScheduledDay'.  Notably, all five of these rows had a 'No_show' value of 'Yes'.  These five rows will be dropped because of their apparently invalid 'DaysBetween' values with respect to their 'No_show' values."
   ]
  },
  {
   "cell_type": "code",
   "execution_count": 58,
   "metadata": {},
   "outputs": [
    {
     "name": "stdout",
     "output_type": "stream",
     "text": [
      "<class 'pandas.core.frame.DataFrame'>\n",
      "Int64Index: 110516 entries, 0 to 110526\n",
      "Data columns (total 17 columns):\n",
      " #   Column            Non-Null Count   Dtype              \n",
      "---  ------            --------------   -----              \n",
      " 0   PatientId         110516 non-null  int64              \n",
      " 1   AppointmentID     110516 non-null  int64              \n",
      " 2   Gender            110516 non-null  object             \n",
      " 3   ScheduledDay      110516 non-null  datetime64[ns, UTC]\n",
      " 4   AppointmentDay    110516 non-null  datetime64[ns, UTC]\n",
      " 5   DaysBetween       110516 non-null  int64              \n",
      " 6   DaysBetweenGroup  110516 non-null  category           \n",
      " 7   Age               110516 non-null  int64              \n",
      " 8   AgeGroup          110516 non-null  category           \n",
      " 9   Neighbourhood     110516 non-null  object             \n",
      " 10  Scholarship       110516 non-null  int64              \n",
      " 11  Hipertension      110516 non-null  int64              \n",
      " 12  Diabetes          110516 non-null  int64              \n",
      " 13  Alcoholism        110516 non-null  int64              \n",
      " 14  Handcap           110516 non-null  int64              \n",
      " 15  SMS_received      110516 non-null  int64              \n",
      " 16  No_show           110516 non-null  object             \n",
      "dtypes: category(2), datetime64[ns, UTC](2), int64(10), object(3)\n",
      "memory usage: 13.7+ MB\n"
     ]
    }
   ],
   "source": [
    "# Drop the five 'DaysBetweenGroup' rows containing a NULL (NaN).  Alternatively, could use .dropna() function.\n",
    "df.drop(dbg_to_drop.index, axis=0, inplace=True)\n",
    "df.info()"
   ]
  },
  {
   "cell_type": "markdown",
   "metadata": {},
   "source": [
    "**Conclusion:** The DataFrame no longer has any NULLs and should be in a useable \"cleaned\" state.\n",
    "#### NOTE: \"Same-Date\" ('DaysBetween' = 0) and \"Not-Same-Date\" ('DaysBetween' > 0) appointment data are still together at this point."
   ]
  },
  {
   "cell_type": "markdown",
   "metadata": {},
   "source": [
    "### Removal of \"Same-Date\" Appointments for Final \"Cleaned\" Dataset"
   ]
  },
  {
   "cell_type": "code",
   "execution_count": 59,
   "metadata": {},
   "outputs": [
    {
     "name": "stdout",
     "output_type": "stream",
     "text": [
      "0         False\n",
      "1         False\n",
      "2         False\n",
      "3         False\n",
      "4         False\n",
      "          ...  \n",
      "110522     True\n",
      "110523     True\n",
      "110524     True\n",
      "110525     True\n",
      "110526     True\n",
      "Name: DaysBetween, Length: 110516, dtype: bool\n"
     ]
    },
    {
     "data": {
      "text/html": [
       "<div>\n",
       "<style scoped>\n",
       "    .dataframe tbody tr th:only-of-type {\n",
       "        vertical-align: middle;\n",
       "    }\n",
       "\n",
       "    .dataframe tbody tr th {\n",
       "        vertical-align: top;\n",
       "    }\n",
       "\n",
       "    .dataframe thead th {\n",
       "        text-align: right;\n",
       "    }\n",
       "</style>\n",
       "<table border=\"1\" class=\"dataframe\">\n",
       "  <thead>\n",
       "    <tr style=\"text-align: right;\">\n",
       "      <th></th>\n",
       "      <th>PatientId</th>\n",
       "      <th>AppointmentID</th>\n",
       "      <th>Gender</th>\n",
       "      <th>ScheduledDay</th>\n",
       "      <th>AppointmentDay</th>\n",
       "      <th>DaysBetween</th>\n",
       "      <th>DaysBetweenGroup</th>\n",
       "      <th>Age</th>\n",
       "      <th>AgeGroup</th>\n",
       "      <th>Neighbourhood</th>\n",
       "      <th>Scholarship</th>\n",
       "      <th>Hipertension</th>\n",
       "      <th>Diabetes</th>\n",
       "      <th>Alcoholism</th>\n",
       "      <th>Handcap</th>\n",
       "      <th>SMS_received</th>\n",
       "      <th>No_show</th>\n",
       "    </tr>\n",
       "  </thead>\n",
       "  <tbody>\n",
       "    <tr>\n",
       "      <th>5</th>\n",
       "      <td>95985133231274</td>\n",
       "      <td>5626772</td>\n",
       "      <td>F</td>\n",
       "      <td>2016-04-27 08:36:51+00:00</td>\n",
       "      <td>2016-04-29 00:00:00+00:00</td>\n",
       "      <td>2</td>\n",
       "      <td>days0_7</td>\n",
       "      <td>76</td>\n",
       "      <td>age61_above</td>\n",
       "      <td>REPÚBLICA</td>\n",
       "      <td>0</td>\n",
       "      <td>1</td>\n",
       "      <td>0</td>\n",
       "      <td>0</td>\n",
       "      <td>0</td>\n",
       "      <td>0</td>\n",
       "      <td>No</td>\n",
       "    </tr>\n",
       "    <tr>\n",
       "      <th>6</th>\n",
       "      <td>733688164476661</td>\n",
       "      <td>5630279</td>\n",
       "      <td>F</td>\n",
       "      <td>2016-04-27 15:05:12+00:00</td>\n",
       "      <td>2016-04-29 00:00:00+00:00</td>\n",
       "      <td>2</td>\n",
       "      <td>days0_7</td>\n",
       "      <td>23</td>\n",
       "      <td>age19_39</td>\n",
       "      <td>GOIABEIRAS</td>\n",
       "      <td>0</td>\n",
       "      <td>0</td>\n",
       "      <td>0</td>\n",
       "      <td>0</td>\n",
       "      <td>0</td>\n",
       "      <td>0</td>\n",
       "      <td>Yes</td>\n",
       "    </tr>\n",
       "    <tr>\n",
       "      <th>7</th>\n",
       "      <td>3449833394123</td>\n",
       "      <td>5630575</td>\n",
       "      <td>F</td>\n",
       "      <td>2016-04-27 15:39:58+00:00</td>\n",
       "      <td>2016-04-29 00:00:00+00:00</td>\n",
       "      <td>2</td>\n",
       "      <td>days0_7</td>\n",
       "      <td>39</td>\n",
       "      <td>age19_39</td>\n",
       "      <td>GOIABEIRAS</td>\n",
       "      <td>0</td>\n",
       "      <td>0</td>\n",
       "      <td>0</td>\n",
       "      <td>0</td>\n",
       "      <td>0</td>\n",
       "      <td>0</td>\n",
       "      <td>Yes</td>\n",
       "    </tr>\n",
       "    <tr>\n",
       "      <th>9</th>\n",
       "      <td>78124564369297</td>\n",
       "      <td>5629123</td>\n",
       "      <td>F</td>\n",
       "      <td>2016-04-27 12:48:25+00:00</td>\n",
       "      <td>2016-04-29 00:00:00+00:00</td>\n",
       "      <td>2</td>\n",
       "      <td>days0_7</td>\n",
       "      <td>19</td>\n",
       "      <td>age19_39</td>\n",
       "      <td>CONQUISTA</td>\n",
       "      <td>0</td>\n",
       "      <td>0</td>\n",
       "      <td>0</td>\n",
       "      <td>0</td>\n",
       "      <td>0</td>\n",
       "      <td>0</td>\n",
       "      <td>No</td>\n",
       "    </tr>\n",
       "    <tr>\n",
       "      <th>10</th>\n",
       "      <td>734536231958495</td>\n",
       "      <td>5630213</td>\n",
       "      <td>F</td>\n",
       "      <td>2016-04-27 14:58:11+00:00</td>\n",
       "      <td>2016-04-29 00:00:00+00:00</td>\n",
       "      <td>2</td>\n",
       "      <td>days0_7</td>\n",
       "      <td>30</td>\n",
       "      <td>age19_39</td>\n",
       "      <td>NOVA PALESTINA</td>\n",
       "      <td>0</td>\n",
       "      <td>0</td>\n",
       "      <td>0</td>\n",
       "      <td>0</td>\n",
       "      <td>0</td>\n",
       "      <td>0</td>\n",
       "      <td>No</td>\n",
       "    </tr>\n",
       "    <tr>\n",
       "      <th>...</th>\n",
       "      <td>...</td>\n",
       "      <td>...</td>\n",
       "      <td>...</td>\n",
       "      <td>...</td>\n",
       "      <td>...</td>\n",
       "      <td>...</td>\n",
       "      <td>...</td>\n",
       "      <td>...</td>\n",
       "      <td>...</td>\n",
       "      <td>...</td>\n",
       "      <td>...</td>\n",
       "      <td>...</td>\n",
       "      <td>...</td>\n",
       "      <td>...</td>\n",
       "      <td>...</td>\n",
       "      <td>...</td>\n",
       "      <td>...</td>\n",
       "    </tr>\n",
       "    <tr>\n",
       "      <th>110522</th>\n",
       "      <td>2572134369293</td>\n",
       "      <td>5651768</td>\n",
       "      <td>F</td>\n",
       "      <td>2016-05-03 09:15:35+00:00</td>\n",
       "      <td>2016-06-07 00:00:00+00:00</td>\n",
       "      <td>35</td>\n",
       "      <td>days29_over</td>\n",
       "      <td>56</td>\n",
       "      <td>age40_60</td>\n",
       "      <td>MARIA ORTIZ</td>\n",
       "      <td>0</td>\n",
       "      <td>0</td>\n",
       "      <td>0</td>\n",
       "      <td>0</td>\n",
       "      <td>0</td>\n",
       "      <td>1</td>\n",
       "      <td>No</td>\n",
       "    </tr>\n",
       "    <tr>\n",
       "      <th>110523</th>\n",
       "      <td>3596266328735</td>\n",
       "      <td>5650093</td>\n",
       "      <td>F</td>\n",
       "      <td>2016-05-03 07:27:33+00:00</td>\n",
       "      <td>2016-06-07 00:00:00+00:00</td>\n",
       "      <td>35</td>\n",
       "      <td>days29_over</td>\n",
       "      <td>51</td>\n",
       "      <td>age40_60</td>\n",
       "      <td>MARIA ORTIZ</td>\n",
       "      <td>0</td>\n",
       "      <td>0</td>\n",
       "      <td>0</td>\n",
       "      <td>0</td>\n",
       "      <td>0</td>\n",
       "      <td>1</td>\n",
       "      <td>No</td>\n",
       "    </tr>\n",
       "    <tr>\n",
       "      <th>110524</th>\n",
       "      <td>15576631729893</td>\n",
       "      <td>5630692</td>\n",
       "      <td>F</td>\n",
       "      <td>2016-04-27 16:03:52+00:00</td>\n",
       "      <td>2016-06-07 00:00:00+00:00</td>\n",
       "      <td>41</td>\n",
       "      <td>days29_over</td>\n",
       "      <td>21</td>\n",
       "      <td>age19_39</td>\n",
       "      <td>MARIA ORTIZ</td>\n",
       "      <td>0</td>\n",
       "      <td>0</td>\n",
       "      <td>0</td>\n",
       "      <td>0</td>\n",
       "      <td>0</td>\n",
       "      <td>1</td>\n",
       "      <td>No</td>\n",
       "    </tr>\n",
       "    <tr>\n",
       "      <th>110525</th>\n",
       "      <td>92134931435557</td>\n",
       "      <td>5630323</td>\n",
       "      <td>F</td>\n",
       "      <td>2016-04-27 15:09:23+00:00</td>\n",
       "      <td>2016-06-07 00:00:00+00:00</td>\n",
       "      <td>41</td>\n",
       "      <td>days29_over</td>\n",
       "      <td>38</td>\n",
       "      <td>age19_39</td>\n",
       "      <td>MARIA ORTIZ</td>\n",
       "      <td>0</td>\n",
       "      <td>0</td>\n",
       "      <td>0</td>\n",
       "      <td>0</td>\n",
       "      <td>0</td>\n",
       "      <td>1</td>\n",
       "      <td>No</td>\n",
       "    </tr>\n",
       "    <tr>\n",
       "      <th>110526</th>\n",
       "      <td>377511518121127</td>\n",
       "      <td>5629448</td>\n",
       "      <td>F</td>\n",
       "      <td>2016-04-27 13:30:56+00:00</td>\n",
       "      <td>2016-06-07 00:00:00+00:00</td>\n",
       "      <td>41</td>\n",
       "      <td>days29_over</td>\n",
       "      <td>54</td>\n",
       "      <td>age40_60</td>\n",
       "      <td>MARIA ORTIZ</td>\n",
       "      <td>0</td>\n",
       "      <td>0</td>\n",
       "      <td>0</td>\n",
       "      <td>0</td>\n",
       "      <td>0</td>\n",
       "      <td>1</td>\n",
       "      <td>No</td>\n",
       "    </tr>\n",
       "  </tbody>\n",
       "</table>\n",
       "<p>71956 rows × 17 columns</p>\n",
       "</div>"
      ],
      "text/plain": [
       "              PatientId  AppointmentID Gender              ScheduledDay  \\\n",
       "5        95985133231274        5626772      F 2016-04-27 08:36:51+00:00   \n",
       "6       733688164476661        5630279      F 2016-04-27 15:05:12+00:00   \n",
       "7         3449833394123        5630575      F 2016-04-27 15:39:58+00:00   \n",
       "9        78124564369297        5629123      F 2016-04-27 12:48:25+00:00   \n",
       "10      734536231958495        5630213      F 2016-04-27 14:58:11+00:00   \n",
       "...                 ...            ...    ...                       ...   \n",
       "110522    2572134369293        5651768      F 2016-05-03 09:15:35+00:00   \n",
       "110523    3596266328735        5650093      F 2016-05-03 07:27:33+00:00   \n",
       "110524   15576631729893        5630692      F 2016-04-27 16:03:52+00:00   \n",
       "110525   92134931435557        5630323      F 2016-04-27 15:09:23+00:00   \n",
       "110526  377511518121127        5629448      F 2016-04-27 13:30:56+00:00   \n",
       "\n",
       "                  AppointmentDay  DaysBetween DaysBetweenGroup  Age  \\\n",
       "5      2016-04-29 00:00:00+00:00            2          days0_7   76   \n",
       "6      2016-04-29 00:00:00+00:00            2          days0_7   23   \n",
       "7      2016-04-29 00:00:00+00:00            2          days0_7   39   \n",
       "9      2016-04-29 00:00:00+00:00            2          days0_7   19   \n",
       "10     2016-04-29 00:00:00+00:00            2          days0_7   30   \n",
       "...                          ...          ...              ...  ...   \n",
       "110522 2016-06-07 00:00:00+00:00           35      days29_over   56   \n",
       "110523 2016-06-07 00:00:00+00:00           35      days29_over   51   \n",
       "110524 2016-06-07 00:00:00+00:00           41      days29_over   21   \n",
       "110525 2016-06-07 00:00:00+00:00           41      days29_over   38   \n",
       "110526 2016-06-07 00:00:00+00:00           41      days29_over   54   \n",
       "\n",
       "           AgeGroup   Neighbourhood  Scholarship  Hipertension  Diabetes  \\\n",
       "5       age61_above       REPÚBLICA            0             1         0   \n",
       "6          age19_39      GOIABEIRAS            0             0         0   \n",
       "7          age19_39      GOIABEIRAS            0             0         0   \n",
       "9          age19_39       CONQUISTA            0             0         0   \n",
       "10         age19_39  NOVA PALESTINA            0             0         0   \n",
       "...             ...             ...          ...           ...       ...   \n",
       "110522     age40_60     MARIA ORTIZ            0             0         0   \n",
       "110523     age40_60     MARIA ORTIZ            0             0         0   \n",
       "110524     age19_39     MARIA ORTIZ            0             0         0   \n",
       "110525     age19_39     MARIA ORTIZ            0             0         0   \n",
       "110526     age40_60     MARIA ORTIZ            0             0         0   \n",
       "\n",
       "        Alcoholism  Handcap  SMS_received No_show  \n",
       "5                0        0             0      No  \n",
       "6                0        0             0     Yes  \n",
       "7                0        0             0     Yes  \n",
       "9                0        0             0      No  \n",
       "10               0        0             0      No  \n",
       "...            ...      ...           ...     ...  \n",
       "110522           0        0             1      No  \n",
       "110523           0        0             1      No  \n",
       "110524           0        0             1      No  \n",
       "110525           0        0             1      No  \n",
       "110526           0        0             1      No  \n",
       "\n",
       "[71956 rows x 17 columns]"
      ]
     },
     "execution_count": 59,
     "metadata": {},
     "output_type": "execute_result"
    }
   ],
   "source": [
    "# MASK creation and use for generating a DataFrame with only \"Not-Same-Date\" rows; i.e., 'DaysBetween' > 0 \n",
    "# for 'AppointmentDay' date subtract 'ScheduledDay' date.\n",
    "not_same_date = df.DaysBetween > 0\n",
    "print(not_same_date)\n",
    "nsd_df = df[not_same_date]\n",
    "nsd_df"
   ]
  },
  {
   "cell_type": "markdown",
   "metadata": {},
   "source": [
    "**CONCLUSION:** After filtering for \"Not-Same-Date\" ('DaysBetween' > 0) appointments, the nsd_df DataFrame appears to be in good order (110516 - 38560 = 71956 rows)."
   ]
  },
  {
   "cell_type": "code",
   "execution_count": 60,
   "metadata": {},
   "outputs": [
    {
     "name": "stdout",
     "output_type": "stream",
     "text": [
      "<class 'pandas.core.frame.DataFrame'>\n",
      "Int64Index: 71956 entries, 5 to 110526\n",
      "Data columns (total 17 columns):\n",
      " #   Column            Non-Null Count  Dtype              \n",
      "---  ------            --------------  -----              \n",
      " 0   PatientId         71956 non-null  int64              \n",
      " 1   AppointmentID     71956 non-null  int64              \n",
      " 2   Gender            71956 non-null  object             \n",
      " 3   ScheduledDay      71956 non-null  datetime64[ns, UTC]\n",
      " 4   AppointmentDay    71956 non-null  datetime64[ns, UTC]\n",
      " 5   DaysBetween       71956 non-null  int64              \n",
      " 6   DaysBetweenGroup  71956 non-null  category           \n",
      " 7   Age               71956 non-null  int64              \n",
      " 8   AgeGroup          71956 non-null  category           \n",
      " 9   Neighbourhood     71956 non-null  object             \n",
      " 10  Scholarship       71956 non-null  int64              \n",
      " 11  Hipertension      71956 non-null  int64              \n",
      " 12  Diabetes          71956 non-null  int64              \n",
      " 13  Alcoholism        71956 non-null  int64              \n",
      " 14  Handcap           71956 non-null  int64              \n",
      " 15  SMS_received      71956 non-null  int64              \n",
      " 16  No_show           71956 non-null  object             \n",
      "dtypes: category(2), datetime64[ns, UTC](2), int64(10), object(3)\n",
      "memory usage: 8.9+ MB\n"
     ]
    }
   ],
   "source": [
    "# Recheck DataFrame column data types and Non-Null value counts.\n",
    "# Conclusion: Looks good.\n",
    "nsd_df.info()"
   ]
  },
  {
   "cell_type": "code",
   "execution_count": 61,
   "metadata": {},
   "outputs": [
    {
     "data": {
      "text/html": [
       "<div>\n",
       "<style scoped>\n",
       "    .dataframe tbody tr th:only-of-type {\n",
       "        vertical-align: middle;\n",
       "    }\n",
       "\n",
       "    .dataframe tbody tr th {\n",
       "        vertical-align: top;\n",
       "    }\n",
       "\n",
       "    .dataframe thead th {\n",
       "        text-align: right;\n",
       "    }\n",
       "</style>\n",
       "<table border=\"1\" class=\"dataframe\">\n",
       "  <thead>\n",
       "    <tr style=\"text-align: right;\">\n",
       "      <th></th>\n",
       "      <th>PatientId</th>\n",
       "      <th>AppointmentID</th>\n",
       "      <th>DaysBetween</th>\n",
       "      <th>Age</th>\n",
       "      <th>Scholarship</th>\n",
       "      <th>Hipertension</th>\n",
       "      <th>Diabetes</th>\n",
       "      <th>Alcoholism</th>\n",
       "      <th>Handcap</th>\n",
       "      <th>SMS_received</th>\n",
       "    </tr>\n",
       "  </thead>\n",
       "  <tbody>\n",
       "    <tr>\n",
       "      <th>count</th>\n",
       "      <td>7.195600e+04</td>\n",
       "      <td>7.195600e+04</td>\n",
       "      <td>71956.000000</td>\n",
       "      <td>71956.000000</td>\n",
       "      <td>71956.000000</td>\n",
       "      <td>71956.000000</td>\n",
       "      <td>71956.000000</td>\n",
       "      <td>71956.000000</td>\n",
       "      <td>71956.000000</td>\n",
       "      <td>71956.000000</td>\n",
       "    </tr>\n",
       "    <tr>\n",
       "      <th>mean</th>\n",
       "      <td>1.452666e+14</td>\n",
       "      <td>5.655041e+06</td>\n",
       "      <td>15.642490</td>\n",
       "      <td>38.503196</td>\n",
       "      <td>0.092709</td>\n",
       "      <td>0.208905</td>\n",
       "      <td>0.074726</td>\n",
       "      <td>0.025321</td>\n",
       "      <td>0.020026</td>\n",
       "      <td>0.493093</td>\n",
       "    </tr>\n",
       "    <tr>\n",
       "      <th>std</th>\n",
       "      <td>2.535703e+14</td>\n",
       "      <td>7.472252e+04</td>\n",
       "      <td>16.494511</td>\n",
       "      <td>22.925495</td>\n",
       "      <td>0.290027</td>\n",
       "      <td>0.406530</td>\n",
       "      <td>0.262951</td>\n",
       "      <td>0.157099</td>\n",
       "      <td>0.154075</td>\n",
       "      <td>0.499956</td>\n",
       "    </tr>\n",
       "    <tr>\n",
       "      <th>min</th>\n",
       "      <td>5.628261e+06</td>\n",
       "      <td>5.030230e+06</td>\n",
       "      <td>1.000000</td>\n",
       "      <td>0.000000</td>\n",
       "      <td>0.000000</td>\n",
       "      <td>0.000000</td>\n",
       "      <td>0.000000</td>\n",
       "      <td>0.000000</td>\n",
       "      <td>0.000000</td>\n",
       "      <td>0.000000</td>\n",
       "    </tr>\n",
       "    <tr>\n",
       "      <th>25%</th>\n",
       "      <td>3.969538e+12</td>\n",
       "      <td>5.617795e+06</td>\n",
       "      <td>4.000000</td>\n",
       "      <td>19.000000</td>\n",
       "      <td>0.000000</td>\n",
       "      <td>0.000000</td>\n",
       "      <td>0.000000</td>\n",
       "      <td>0.000000</td>\n",
       "      <td>0.000000</td>\n",
       "      <td>0.000000</td>\n",
       "    </tr>\n",
       "    <tr>\n",
       "      <th>50%</th>\n",
       "      <td>2.992563e+13</td>\n",
       "      <td>5.661166e+06</td>\n",
       "      <td>9.000000</td>\n",
       "      <td>39.000000</td>\n",
       "      <td>0.000000</td>\n",
       "      <td>0.000000</td>\n",
       "      <td>0.000000</td>\n",
       "      <td>0.000000</td>\n",
       "      <td>0.000000</td>\n",
       "      <td>0.000000</td>\n",
       "    </tr>\n",
       "    <tr>\n",
       "      <th>75%</th>\n",
       "      <td>9.371858e+13</td>\n",
       "      <td>5.707178e+06</td>\n",
       "      <td>22.000000</td>\n",
       "      <td>57.000000</td>\n",
       "      <td>0.000000</td>\n",
       "      <td>0.000000</td>\n",
       "      <td>0.000000</td>\n",
       "      <td>0.000000</td>\n",
       "      <td>0.000000</td>\n",
       "      <td>1.000000</td>\n",
       "    </tr>\n",
       "    <tr>\n",
       "      <th>max</th>\n",
       "      <td>9.999320e+14</td>\n",
       "      <td>5.784985e+06</td>\n",
       "      <td>179.000000</td>\n",
       "      <td>115.000000</td>\n",
       "      <td>1.000000</td>\n",
       "      <td>1.000000</td>\n",
       "      <td>1.000000</td>\n",
       "      <td>1.000000</td>\n",
       "      <td>4.000000</td>\n",
       "      <td>1.000000</td>\n",
       "    </tr>\n",
       "  </tbody>\n",
       "</table>\n",
       "</div>"
      ],
      "text/plain": [
       "          PatientId  AppointmentID   DaysBetween           Age   Scholarship  \\\n",
       "count  7.195600e+04   7.195600e+04  71956.000000  71956.000000  71956.000000   \n",
       "mean   1.452666e+14   5.655041e+06     15.642490     38.503196      0.092709   \n",
       "std    2.535703e+14   7.472252e+04     16.494511     22.925495      0.290027   \n",
       "min    5.628261e+06   5.030230e+06      1.000000      0.000000      0.000000   \n",
       "25%    3.969538e+12   5.617795e+06      4.000000     19.000000      0.000000   \n",
       "50%    2.992563e+13   5.661166e+06      9.000000     39.000000      0.000000   \n",
       "75%    9.371858e+13   5.707178e+06     22.000000     57.000000      0.000000   \n",
       "max    9.999320e+14   5.784985e+06    179.000000    115.000000      1.000000   \n",
       "\n",
       "       Hipertension      Diabetes    Alcoholism       Handcap  SMS_received  \n",
       "count  71956.000000  71956.000000  71956.000000  71956.000000  71956.000000  \n",
       "mean       0.208905      0.074726      0.025321      0.020026      0.493093  \n",
       "std        0.406530      0.262951      0.157099      0.154075      0.499956  \n",
       "min        0.000000      0.000000      0.000000      0.000000      0.000000  \n",
       "25%        0.000000      0.000000      0.000000      0.000000      0.000000  \n",
       "50%        0.000000      0.000000      0.000000      0.000000      0.000000  \n",
       "75%        0.000000      0.000000      0.000000      0.000000      1.000000  \n",
       "max        1.000000      1.000000      1.000000      4.000000      1.000000  "
      ]
     },
     "execution_count": 61,
     "metadata": {},
     "output_type": "execute_result"
    }
   ],
   "source": [
    "# Recheck overall numeric column statistics.\n",
    "nsd_df.describe()"
   ]
  },
  {
   "cell_type": "code",
   "execution_count": 62,
   "metadata": {},
   "outputs": [
    {
     "data": {
      "image/png": "[encoded data removed]",
      "text/plain": [
       "<Figure size 720x720 with 12 Axes>"
      ]
     },
     "metadata": {
      "needs_background": "light"
     },
     "output_type": "display_data"
    }
   ],
   "source": [
    "# Recheck numeric column histograms.\n",
    "nsd_df.hist(figsize=(10, 10));"
   ]
  },
  {
   "cell_type": "code",
   "execution_count": 63,
   "metadata": {},
   "outputs": [
    {
     "data": {
      "text/plain": [
       "No_show\n",
       "No     51434\n",
       "Yes    20522\n",
       "Name: PatientId, dtype: int64"
      ]
     },
     "execution_count": 63,
     "metadata": {},
     "output_type": "execute_result"
    }
   ],
   "source": [
    "# Recheck overall \"No-Show\" counts in this \"Not-Same-Date\" dataset.\n",
    "nsd_df.groupby('No_show').count()['PatientId']"
   ]
  },
  {
   "cell_type": "markdown",
   "metadata": {},
   "source": [
    "**Conclusions:**\n",
    "* All rechecks look fine.\n",
    "* NOTE that the overall No-Show rate after excluding \"Same-Date\" appointments for this \"Final Cleaned Dataset\" (nsd_df) is substantially higher, 20522 / (20522 + 51434) = 28.5%, than that for the starting dataset, 22319 / (22319 + 88208) = 20.2%."
   ]
  },
  {
   "cell_type": "markdown",
   "metadata": {},
   "source": [
    "<a id='eda'></a>\n",
    "## Exploratory Data Analysis of \"Not-Same-Date\" Appointments\n",
    "\n",
    "### Research Question 1: \n",
    "**Are any features individually associated with decreased or increased relative frequency of being a \"No-Show\"?**"
   ]
  },
  {
   "cell_type": "markdown",
   "metadata": {},
   "source": [
    "#### Overall Relative Frequencies of \"Shows\" and \"No-Shows\" for the entire cleaned \"Not-Same-Date\" appointments dataset (nsd_df)."
   ]
  },
  {
   "cell_type": "code",
   "execution_count": 64,
   "metadata": {},
   "outputs": [
    {
     "name": "stdout",
     "output_type": "stream",
     "text": [
      "No_show\n",
      "No     51434\n",
      "Yes    20522\n",
      "Name: PatientId, dtype: int64 \n",
      "\n",
      "71956\n"
     ]
    },
    {
     "data": {
      "text/plain": [
       "No_show\n",
       "No     0.714798\n",
       "Yes    0.285202\n",
       "Name: PatientId, dtype: float64"
      ]
     },
     "execution_count": 64,
     "metadata": {},
     "output_type": "execute_result"
    }
   ],
   "source": [
    "# Counts of overall \"Shows\" ('No') and \"No-Shows\" ('Yes') divided by the total row count for the entire nsd_df dataset.\n",
    "show_no_show_cts = nsd_df.groupby('No_show').count()\n",
    "print(show_no_show_cts['PatientId'], '\\n')   # For verification.\n",
    "\n",
    "print(nsd_df.No_show.count())                # For verification.\n",
    "\n",
    "overall_rel_freqs = show_no_show_cts['PatientId'] / nsd_df.No_show.count()\n",
    "overall_rel_freqs"
   ]
  },
  {
   "cell_type": "markdown",
   "metadata": {},
   "source": [
    "#### Single Feature-Grouped \"Show\" and \"No-Show\" Relative Frequency Function"
   ]
  },
  {
   "cell_type": "code",
   "execution_count": 65,
   "metadata": {},
   "outputs": [],
   "source": [
    "# Single Feature-grouped \"Show\" and \"No-Show\" Relative Frequencies function.\n",
    "\n",
    "def relative_freqs(col_name):\n",
    "    '''\n",
    "    Groups nsd_df data based on the values within the passed 'col_name' (i.e., feature) \n",
    "    and returns the medical appointment \"Show\" (No) and \"No-Show\" (Yes) relative frequency for each subgroup.\n",
    "\n",
    "    Parameter: col-name,  column name of a nsd_df DataFrame column with groupable (i.e., categorical) data.\n",
    "\n",
    "    Returns: Two-level pandas.core.series.Series with the medical appointment \"Show\" (No) and \"No-Show\" (Yes) \n",
    "    relative frequencies.\n",
    "    '''\n",
    "    two_col_show_cts = nsd_df.groupby([col_name, 'No_show']).count()\n",
    "    print(two_col_show_cts['PatientId'], '\\n')   # For verification.\n",
    "\n",
    "    one_col_cts = nsd_df.groupby(col_name).count()\n",
    "    print(one_col_cts['PatientId'], '\\n')        # For verification.\n",
    "\n",
    "    rel_freqs = two_col_show_cts['PatientId'] / one_col_cts['PatientId']\n",
    "\n",
    "    return rel_freqs"
   ]
  },
  {
   "cell_type": "markdown",
   "metadata": {},
   "source": [
    "__*Gender*__ or __*DaysBetween*__ single feature-grouped \"Show\" and \"No-Show\" relative frequencies:"
   ]
  },
  {
   "cell_type": "code",
   "execution_count": 66,
   "metadata": {},
   "outputs": [
    {
     "name": "stdout",
     "output_type": "stream",
     "text": [
      "Gender  No_show\n",
      "F       No         34394\n",
      "        Yes        13674\n",
      "M       No         17040\n",
      "        Yes         6848\n",
      "Name: PatientId, dtype: int64 \n",
      "\n",
      "Gender\n",
      "F    48068\n",
      "M    23888\n",
      "Name: PatientId, dtype: int64 \n",
      "\n"
     ]
    },
    {
     "data": {
      "text/plain": [
       "Gender  No_show\n",
       "F       No         0.715528\n",
       "        Yes        0.284472\n",
       "M       No         0.713329\n",
       "        Yes        0.286671\n",
       "Name: PatientId, dtype: float64"
      ]
     },
     "execution_count": 66,
     "metadata": {},
     "output_type": "execute_result"
    }
   ],
   "source": [
    "# First test of the  relative_freqs()  function.\n",
    "gender_rel_freqs = relative_freqs('Gender')\n",
    "gender_rel_freqs"
   ]
  },
  {
   "cell_type": "code",
   "execution_count": 67,
   "metadata": {},
   "outputs": [
    {
     "name": "stdout",
     "output_type": "stream",
     "text": [
      "DaysBetweenGroup  No_show\n",
      "days0_7           No         24410\n",
      "                  Yes         7772\n",
      "days8_14          No          8361\n",
      "                  Yes         3664\n",
      "days15_28         No         10460\n",
      "                  Yes         5118\n",
      "days29_over       No          8203\n",
      "                  Yes         3968\n",
      "Name: PatientId, dtype: int64 \n",
      "\n",
      "DaysBetweenGroup\n",
      "days0_7        32182\n",
      "days8_14       12025\n",
      "days15_28      15578\n",
      "days29_over    12171\n",
      "Name: PatientId, dtype: int64 \n",
      "\n"
     ]
    },
    {
     "data": {
      "text/plain": [
       "DaysBetweenGroup  No_show\n",
       "days0_7           No         0.758499\n",
       "                  Yes        0.241501\n",
       "days8_14          No         0.695301\n",
       "                  Yes        0.304699\n",
       "days15_28         No         0.671460\n",
       "                  Yes        0.328540\n",
       "days29_over       No         0.673979\n",
       "                  Yes        0.326021\n",
       "Name: PatientId, dtype: float64"
      ]
     },
     "execution_count": 67,
     "metadata": {},
     "output_type": "execute_result"
    }
   ],
   "source": [
    "# Second test of the  relative_freqs()  function.\n",
    "days_bw_rel_freqs = relative_freqs('DaysBetweenGroup')\n",
    "days_bw_rel_freqs"
   ]
  },
  {
   "cell_type": "markdown",
   "metadata": {},
   "source": [
    "#### Single Feature-Grouped Appointment \"No-Show\" Bar Chart Function"
   ]
  },
  {
   "cell_type": "code",
   "execution_count": 68,
   "metadata": {},
   "outputs": [],
   "source": [
    "# No-Show Bar Chart plotting function.\n",
    "\n",
    "def no_show_bar_chart(feature, two_level_rel_freqs, one_level_rel_freqs):\n",
    "    '''\n",
    "    Plots the \"No-Show\" (Yes) relative frequencies from a two-level MultiIndex \"Show\" (No) and \"No-Show\" (Yes)\n",
    "    pandas Series along with the overall single-level \"No-Show\" relative frequency in a bar chart.\n",
    "    \n",
    "    Parameters:\n",
    "        feature,  a string name of the Level 1 grouped-by feature of the two_level_rel_freqs Series.\n",
    "        two_level_rel_freqs,  a two-level MultiIndex pandas Series of \"Show\" (No) and \"No-Show\" (Yes) relative\n",
    "            frequencies from the relative_freqs(col_name) function.\n",
    "        one_level_rel_freqs,  a single-level pandas Series of \"Show\" (No) and \"No-Show\" (Yes) relative frequencies  \n",
    "            for the 'No_show' column of the starting DataFrame (i.e., nsd_df). \n",
    "    '''\n",
    "    # Pull out the \"No-Show\" relative frequency values with a MultiIndex of ANY Level 1 rows (i.e., start:end)\n",
    "    # AND with a Level 2 index == 'Yes' from the passed Single Feature-grouped \n",
    "    # \"Show\" and \"No-Show\" Relative Frequencies function Series.\n",
    "    two_level_rel_freqs_yes = two_level_rel_freqs.loc[ : , 'Yes',  ]\n",
    "    print(two_level_rel_freqs_yes, '\\n')            # For verification.\n",
    "    \n",
    "    xticks2 = two_level_rel_freqs_yes.index\n",
    "    \n",
    "    \n",
    "    # Pull out the overall \"No-Show\" (Yes) relative frequency value for the starting DataFrame (nsd_df)\n",
    "    # so it can be plotted for comparison to the two-level relative frequencies.\n",
    "    one_level_rel_freqs_yes = one_level_rel_freqs[one_level_rel_freqs.index == 'Yes'] \n",
    "    print(one_level_rel_freqs_yes, '\\n')            # For verification.\n",
    "    \n",
    "    \n",
    "    # Generate a list of the x-axis tick labels\n",
    "    xticks = ['Overall']\n",
    "    \n",
    "    for i in range(0, len(two_level_rel_freqs_yes)):\n",
    "        xticks = xticks + [xticks2[i]]   # list.append() did not work, perhaps because also a np.append() [just below]\n",
    "    \n",
    "    #print(xticks, '\\n')                             # For verification.\n",
    "    \n",
    "    \n",
    "    # BAR CHART THE OVERALL AND SINGLE FEATURE-SPECIFIC RELATIVE FREQUENCIES.\n",
    "\n",
    "    # Bar Chart containing an \"Overall\" standard relative freq bar AND \n",
    "    # relative freq bars from a single grouped-by \"categorical\" column (i.e., feature). \n",
    "    width = 0.30   # Width of the bars.\n",
    "    locations1 = np.arange(len(one_level_rel_freqs_yes))\n",
    "    plt.bar(locations1, one_level_rel_freqs_yes, width, color='r', alpha=0.7, label='Overall')\n",
    "    \n",
    "    locations2 = np.arange(len(two_level_rel_freqs_yes))\n",
    "    locations2 = locations2 + 1\n",
    "    \n",
    "    #print(type(locations2))         # To identify \"locations2\" as <class 'numpy.ndarray'>\n",
    "    locations3 = np.append(locations1, locations2)   # To obtain locators for the xticks.\n",
    "    #print(locations3)               # For verification.\n",
    "    \n",
    "    plt.bar(locations2, two_level_rel_freqs_yes, width, color='b', alpha=0.7, label=feature)\n",
    "    plt.xticks(locations3, xticks)\n",
    "    plt.ylabel('No-Show Relative Frequency', fontsize=14)\n",
    "    plt.title(feature + '-Grouped Appointment \"No-Show\" Rates')\n",
    "    plt.legend()"
   ]
  },
  {
   "cell_type": "markdown",
   "metadata": {},
   "source": [
    "__*Gender*__ or __*DaysBetween*__ single feature-grouped \"No-Show\" bar chart:"
   ]
  },
  {
   "cell_type": "code",
   "execution_count": 69,
   "metadata": {},
   "outputs": [
    {
     "name": "stdout",
     "output_type": "stream",
     "text": [
      "Gender\n",
      "F    0.284472\n",
      "M    0.286671\n",
      "Name: PatientId, dtype: float64 \n",
      "\n",
      "No_show\n",
      "Yes    0.285202\n",
      "Name: PatientId, dtype: float64 \n",
      "\n"
     ]
    },
    {
     "data": {
      "image/png": "[encoded data removed]",
      "text/plain": [
       "<Figure size 432x288 with 1 Axes>"
      ]
     },
     "metadata": {
      "needs_background": "light"
     },
     "output_type": "display_data"
    }
   ],
   "source": [
    "# First test of the  no_show_bar_chart()  function.\n",
    "no_show_bar_chart('Gender', gender_rel_freqs, overall_rel_freqs)"
   ]
  },
  {
   "cell_type": "markdown",
   "metadata": {},
   "source": [
    "**CONCLUSION:** No apparent effect of *Gender* on appointment No-Show rate. "
   ]
  },
  {
   "cell_type": "code",
   "execution_count": 70,
   "metadata": {},
   "outputs": [
    {
     "name": "stdout",
     "output_type": "stream",
     "text": [
      "DaysBetweenGroup\n",
      "days0_7        0.241501\n",
      "days8_14       0.304699\n",
      "days15_28      0.328540\n",
      "days29_over    0.326021\n",
      "Name: PatientId, dtype: float64 \n",
      "\n",
      "No_show\n",
      "Yes    0.285202\n",
      "Name: PatientId, dtype: float64 \n",
      "\n"
     ]
    },
    {
     "data": {
      "image/png": "[encoded data removed]",
      "text/plain": [
       "<Figure size 432x288 with 1 Axes>"
      ]
     },
     "metadata": {
      "needs_background": "light"
     },
     "output_type": "display_data"
    }
   ],
   "source": [
    "# Second test of the  no_show_bar_chart()  function.\n",
    "no_show_bar_chart('Days Between', days_bw_rel_freqs, overall_rel_freqs)"
   ]
  },
  {
   "cell_type": "markdown",
   "metadata": {},
   "source": [
    "**CONCLUSION:** An increasing number of days between the date on which an appointment is scheduled and that on which it is attended (*DaysBetween*) appears to correlate with an increasing appointment No-Show rate over the first 28-day period."
   ]
  },
  {
   "cell_type": "markdown",
   "metadata": {},
   "source": [
    "__*AgeGroup*__ single feature-grouped \"No-Show\" relative frequencies and bar chart:"
   ]
  },
  {
   "cell_type": "code",
   "execution_count": 71,
   "metadata": {},
   "outputs": [
    {
     "name": "stdout",
     "output_type": "stream",
     "text": [
      "AgeGroup     No_show\n",
      "age0_18      No         11496\n",
      "             Yes         5537\n",
      "age19_39     No         13137\n",
      "             Yes         6612\n",
      "age40_60     No         15789\n",
      "             Yes         5540\n",
      "age61_above  No         11012\n",
      "             Yes         2833\n",
      "Name: PatientId, dtype: int64 \n",
      "\n",
      "AgeGroup\n",
      "age0_18        17033\n",
      "age19_39       19749\n",
      "age40_60       21329\n",
      "age61_above    13845\n",
      "Name: PatientId, dtype: int64 \n",
      "\n",
      "AgeGroup\n",
      "age0_18        0.325075\n",
      "age19_39       0.334802\n",
      "age40_60       0.259740\n",
      "age61_above    0.204623\n",
      "Name: PatientId, dtype: float64 \n",
      "\n",
      "No_show\n",
      "Yes    0.285202\n",
      "Name: PatientId, dtype: float64 \n",
      "\n"
     ]
    },
    {
     "data": {
      "image/png": "[encoded data removed]",
      "text/plain": [
       "<Figure size 432x288 with 1 Axes>"
      ]
     },
     "metadata": {
      "needs_background": "light"
     },
     "output_type": "display_data"
    }
   ],
   "source": [
    "age_group_rel_freqs = relative_freqs('AgeGroup')\n",
    "no_show_bar_chart('Age Group', age_group_rel_freqs, overall_rel_freqs)"
   ]
  },
  {
   "cell_type": "markdown",
   "metadata": {},
   "source": [
    "**CONCLUSIONS:** \n",
    "* Appointment No-Show rates appear to be relatively high for younger patients, with a possible peak No-Show rate in the 19- to 39-years old range.\n",
    "* Appointment No-Show rates appear to inversely decrease in patient groups over 40-years old."
   ]
  },
  {
   "cell_type": "markdown",
   "metadata": {},
   "source": [
    "__*Neighbourhood*__ single feature-grouped \"No-Show\" relative frequencies and bar charts:"
   ]
  },
  {
   "cell_type": "code",
   "execution_count": 72,
   "metadata": {},
   "outputs": [
    {
     "name": "stdout",
     "output_type": "stream",
     "text": [
      "Neighbourhood    No_show\n",
      "AEROPORTO        No            4\n",
      "                 Yes           1\n",
      "ANDORINHAS       No         1033\n",
      "                 Yes         491\n",
      "ANTÔNIO HONÓRIO  No          137\n",
      "                            ... \n",
      "TABUAZEIRO       Yes         526\n",
      "UNIVERSITÁRIO    No           81\n",
      "                 Yes          31\n",
      "VILA RUBIM       No          462\n",
      "                 Yes         136\n",
      "Name: PatientId, Length: 159, dtype: int64 \n",
      "\n",
      "Neighbourhood\n",
      "AEROPORTO                 5\n",
      "ANDORINHAS             1524\n",
      "ANTÔNIO HONÓRIO         180\n",
      "ARIOVALDO FAVALESSA     175\n",
      "BARRO VERMELHO          285\n",
      "                       ... \n",
      "SÃO JOSÉ               1376\n",
      "SÃO PEDRO              1584\n",
      "TABUAZEIRO             1924\n",
      "UNIVERSITÁRIO           112\n",
      "VILA RUBIM              598\n",
      "Name: PatientId, Length: 80, dtype: int64 \n",
      "\n"
     ]
    },
    {
     "data": {
      "text/plain": [
       "Neighbourhood    No_show\n",
       "AEROPORTO        No         0.800000\n",
       "                 Yes        0.200000\n",
       "ANDORINHAS       No         0.677822\n",
       "                 Yes        0.322178\n",
       "ANTÔNIO HONÓRIO  No         0.761111\n",
       "                              ...   \n",
       "TABUAZEIRO       Yes        0.273389\n",
       "UNIVERSITÁRIO    No         0.723214\n",
       "                 Yes        0.276786\n",
       "VILA RUBIM       No         0.772575\n",
       "                 Yes        0.227425\n",
       "Name: PatientId, Length: 159, dtype: float64"
      ]
     },
     "execution_count": 72,
     "metadata": {},
     "output_type": "execute_result"
    }
   ],
   "source": [
    "# Limit the 'Neighbourhood' \"Show\" and \"No-Show\" relative frequencies to those neighbourhoods having at least 200 rows.\n",
    "\n",
    "# Generate the 'Neighbourhood' \"Show\" and \"No-Show\" relative frequencies.\n",
    "neighbourhood_rel_freqs = relative_freqs('Neighbourhood')\n",
    "\n",
    "neighbourhood_rel_freqs"
   ]
  },
  {
   "cell_type": "code",
   "execution_count": 73,
   "metadata": {},
   "outputs": [
    {
     "data": {
      "text/plain": [
       "FRADINHOS                      193\n",
       "ANTÔNIO HONÓRIO                180\n",
       "ARIOVALDO FAVALESSA            175\n",
       "MÁRIO CYPRESTE                 173\n",
       "ENSEADA DO SUÁ                 163\n",
       "                              ... \n",
       "PONTAL DE CAMBURI               41\n",
       "ILHA DO BOI                     23\n",
       "ILHA DO FRADE                    8\n",
       "AEROPORTO                        5\n",
       "ILHAS OCEÂNICAS DE TRINDADE      2\n",
       "Name: Neighbourhood, Length: 16, dtype: int64"
      ]
     },
     "execution_count": 73,
     "metadata": {},
     "output_type": "execute_result"
    }
   ],
   "source": [
    "# Identify Neighbourhoods with too few total rows to provide a meaningfully representative \"No-Show\" rate.\n",
    "neighbourhood_cts = nsd_df.Neighbourhood.value_counts()\n",
    "nbh_cts_below100 = neighbourhood_cts[neighbourhood_cts < 200]\n",
    "nbh_cts_below100"
   ]
  },
  {
   "cell_type": "code",
   "execution_count": 74,
   "metadata": {},
   "outputs": [
    {
     "data": {
      "text/plain": [
       "Neighbourhood   No_show\n",
       "ANDORINHAS      No         0.677822\n",
       "                Yes        0.322178\n",
       "BARRO VERMELHO  No         0.722807\n",
       "                Yes        0.277193\n",
       "BELA VISTA      No         0.709793\n",
       "                             ...   \n",
       "SÃO PEDRO       Yes        0.284722\n",
       "TABUAZEIRO      No         0.726611\n",
       "                Yes        0.273389\n",
       "VILA RUBIM      No         0.772575\n",
       "                Yes        0.227425\n",
       "Name: PatientId, Length: 128, dtype: float64"
      ]
     },
     "execution_count": 74,
     "metadata": {},
     "output_type": "execute_result"
    }
   ],
   "source": [
    "# Drop the Neighbourhoods with \"below 200\" rows.\n",
    "neighbourhood_rel_freqs.drop(nbh_cts_below100.index, inplace=True)\n",
    "neighbourhood_rel_freqs"
   ]
  },
  {
   "cell_type": "markdown",
   "metadata": {},
   "source": [
    "**Conclusion:** At this point, the 'neighbourhood_rel_freqs' MultiIndex pandas Series is limited to those neighbourhoods with at least 200 rows of data."
   ]
  },
  {
   "cell_type": "code",
   "execution_count": 75,
   "metadata": {},
   "outputs": [
    {
     "name": "stdout",
     "output_type": "stream",
     "text": [
      "Neighbourhood\n",
      "ANDORINHAS        0.322178\n",
      "BARRO VERMELHO    0.277193\n",
      "BELA VISTA        0.290207\n",
      "BENTO FERREIRA    0.279211\n",
      "BOA VISTA         0.248869\n",
      "BONFIM            0.300351\n",
      "CARATOÍRA         0.319929\n",
      "CENTRO            0.287665\n",
      "COMDUSA           0.232068\n",
      "CONQUISTA         0.298729\n",
      "Name: PatientId, dtype: float64 \n",
      "\n",
      "No_show\n",
      "Yes    0.285202\n",
      "Name: PatientId, dtype: float64 \n",
      "\n"
     ]
    },
    {
     "data": {
      "image/png": "[encoded data removed]",
      "text/plain": [
       "<Figure size 432x288 with 1 Axes>"
      ]
     },
     "metadata": {
      "needs_background": "light"
     },
     "output_type": "display_data"
    }
   ],
   "source": [
    "# Limit the number of neighbourhoods being plotted at one time to 10.\n",
    "no_show_bar_chart('Neighbourhood', neighbourhood_rel_freqs.iloc[0:20], overall_rel_freqs)"
   ]
  },
  {
   "cell_type": "markdown",
   "metadata": {},
   "source": [
    "**CONCLUSIONS:** \n",
    "* The relatively large number of unique neighbourhoods (64 at this point) complicates the plotting of this data with my common \"no_show_bar_chart\" function. Turning the xtick labels to a vertical, rather than a horizontal, orientation could alleviate the problem.\n",
    "* By adjusting the .iloc indexes in the preceding Code cell (by hand or via a 'for' loop), one can see the \"No-Show\" rates for each of the neighbourhoods, and these rates tend to \"bounce around\" the \"Overall\" (red) No-Show rate.\n",
    "* More in-depth comparisons of the 'Neighbourhood' No-Show rates would require an alternative approach to viewing this data."
   ]
  },
  {
   "cell_type": "markdown",
   "metadata": {},
   "source": [
    "#### Alternative Approach of Viewing Neighbourhood No-Show Rates"
   ]
  },
  {
   "cell_type": "code",
   "execution_count": 76,
   "metadata": {},
   "outputs": [
    {
     "name": "stdout",
     "output_type": "stream",
     "text": [
      "Neighbourhood\n",
      "ANDORINHAS        0.322178\n",
      "BARRO VERMELHO    0.277193\n",
      "BELA VISTA        0.290207\n",
      "BENTO FERREIRA    0.279211\n",
      "BOA VISTA         0.248869\n",
      "                    ...   \n",
      "SÃO CRISTÓVÃO     0.271586\n",
      "SÃO JOSÉ          0.271076\n",
      "SÃO PEDRO         0.284722\n",
      "TABUAZEIRO        0.273389\n",
      "VILA RUBIM        0.227425\n",
      "Name: PatientId, Length: 64, dtype: float64 \n",
      "\n"
     ]
    },
    {
     "data": {
      "text/plain": [
       "count    64.000000\n",
       "mean      0.277723\n",
       "std       0.039474\n",
       "min       0.192878\n",
       "25%       0.256737\n",
       "50%       0.276644\n",
       "75%       0.299134\n",
       "max       0.383710\n",
       "Name: PatientId, dtype: float64"
      ]
     },
     "execution_count": 76,
     "metadata": {},
     "output_type": "execute_result"
    }
   ],
   "source": [
    "# ALTERNATIVE APPROACH to look at the 'Neighbourhood' No-Show rates for neighbourhoods having >= 200 appointment rows,\n",
    "neighbourhood_rel_freqs_yes = neighbourhood_rel_freqs.loc[ : , 'Yes',  ]\n",
    "print(neighbourhood_rel_freqs_yes, '\\n')            # For verification and a nice alphabetical listing.\n",
    "\n",
    "# DESCRIPTIVE STATISTICS for the 'Neighbourhood' No-Show rates.\n",
    "neighbourhood_rel_freqs_yes.describe()"
   ]
  },
  {
   "cell_type": "code",
   "execution_count": 77,
   "metadata": {},
   "outputs": [
    {
     "data": {
      "text/plain": [
       "Neighbourhood\n",
       "SOLON BORGES         0.192878\n",
       "DE LOURDES           0.202703\n",
       "MATA DA PRAIA        0.218615\n",
       "DO QUADRO            0.218638\n",
       "DO CABRAL            0.220994\n",
       "                       ...   \n",
       "SANTA CLARA          0.338583\n",
       "SANTOS DUMONT        0.348917\n",
       "ITARARÉ              0.364973\n",
       "JESUS DE NAZARETH    0.374929\n",
       "GURIGICA             0.383710\n",
       "Name: PatientId, Length: 64, dtype: float64"
      ]
     },
     "execution_count": 77,
     "metadata": {},
     "output_type": "execute_result"
    }
   ],
   "source": [
    "# SORT by value (rather than by index) as an alternative listing to see which neighbourhoods have\n",
    "# relatively low or high No-Show rates.\n",
    "neighbourhood_rel_freqs_yes.sort_values()"
   ]
  },
  {
   "cell_type": "code",
   "execution_count": 78,
   "metadata": {},
   "outputs": [
    {
     "data": {
      "image/png": "[encoded data removed]",
      "text/plain": [
       "<Figure size 432x288 with 1 Axes>"
      ]
     },
     "metadata": {
      "needs_background": "light"
     },
     "output_type": "display_data"
    }
   ],
   "source": [
    "# Box plot of the 'Neighbourhood' No-Show rates.\n",
    "plt.boxplot(neighbourhood_rel_freqs_yes)\n",
    "plt.xticks([1], ['Neighbourhoods'])\n",
    "plt.ylabel('No-Show Rate', fontsize=14)\n",
    "plt.title('Neighbourhood No-Show Rate Box Plot');"
   ]
  },
  {
   "cell_type": "markdown",
   "metadata": {},
   "source": [
    "**CONCLUSION:** There are several neighbourhoods with relatively low and high No-Show rates (several being formal \"outliers\").  It could be beneficial to scrutinize these neighbourhoods for features that distinctly contribute to respectively decreasing or increasing their No-Show rates."
   ]
  },
  {
   "cell_type": "markdown",
   "metadata": {},
   "source": [
    "__*Scholarship*__ single feature-grouped \"No-Show\" relative frequencies and bar chart:"
   ]
  },
  {
   "cell_type": "code",
   "execution_count": 79,
   "metadata": {},
   "outputs": [
    {
     "name": "stdout",
     "output_type": "stream",
     "text": [
      "Scholarship  No_show\n",
      "0            No         47096\n",
      "             Yes        18189\n",
      "1            No          4338\n",
      "             Yes         2333\n",
      "Name: PatientId, dtype: int64 \n",
      "\n",
      "Scholarship\n",
      "0    65285\n",
      "1     6671\n",
      "Name: PatientId, dtype: int64 \n",
      "\n",
      "Scholarship\n",
      "0    0.278609\n",
      "1    0.349723\n",
      "Name: PatientId, dtype: float64 \n",
      "\n",
      "No_show\n",
      "Yes    0.285202\n",
      "Name: PatientId, dtype: float64 \n",
      "\n"
     ]
    },
    {
     "data": {
      "image/png": "[encoded data removed]",
      "text/plain": [
       "<Figure size 432x288 with 1 Axes>"
      ]
     },
     "metadata": {
      "needs_background": "light"
     },
     "output_type": "display_data"
    }
   ],
   "source": [
    "scholarship_rel_freqs = relative_freqs('Scholarship')\n",
    "no_show_bar_chart('Scholarship', scholarship_rel_freqs, overall_rel_freqs)"
   ]
  },
  {
   "cell_type": "markdown",
   "metadata": {},
   "source": [
    "**CONCLUSION:** The approximately 9% of appointments involving patients on Brasilian welfare showed an apparent increase in No-Show rate."
   ]
  },
  {
   "cell_type": "markdown",
   "metadata": {},
   "source": [
    "__*Hipertension*__ single feature-grouped \"No-Show\" relative frequencies and bar chart:"
   ]
  },
  {
   "cell_type": "code",
   "execution_count": 80,
   "metadata": {},
   "outputs": [
    {
     "name": "stdout",
     "output_type": "stream",
     "text": [
      "Hipertension  No_show\n",
      "0             No         39938\n",
      "              Yes        16986\n",
      "1             No         11496\n",
      "              Yes         3536\n",
      "Name: PatientId, dtype: int64 \n",
      "\n",
      "Hipertension\n",
      "0    56924\n",
      "1    15032\n",
      "Name: PatientId, dtype: int64 \n",
      "\n",
      "Hipertension\n",
      "0    0.298398\n",
      "1    0.235232\n",
      "Name: PatientId, dtype: float64 \n",
      "\n",
      "No_show\n",
      "Yes    0.285202\n",
      "Name: PatientId, dtype: float64 \n",
      "\n"
     ]
    },
    {
     "data": {
      "image/png": "[encoded data removed]",
      "text/plain": [
       "<Figure size 432x288 with 1 Axes>"
      ]
     },
     "metadata": {
      "needs_background": "light"
     },
     "output_type": "display_data"
    }
   ],
   "source": [
    "hipertension_rel_freqs = relative_freqs('Hipertension')\n",
    "no_show_bar_chart('Hipertension', hipertension_rel_freqs, overall_rel_freqs)"
   ]
  },
  {
   "cell_type": "markdown",
   "metadata": {},
   "source": [
    "**CONCLUSION:** The approximately 20% of appointments involving patients with Hipertension showed an apparent decrease in No-Show rate."
   ]
  },
  {
   "cell_type": "markdown",
   "metadata": {},
   "source": [
    "__*Diabetes*__ single feature-grouped \"No-Show\" relative frequencies and bar chart:"
   ]
  },
  {
   "cell_type": "code",
   "execution_count": 81,
   "metadata": {},
   "outputs": [
    {
     "name": "stdout",
     "output_type": "stream",
     "text": [
      "Diabetes  No_show\n",
      "0         No         47399\n",
      "          Yes        19180\n",
      "1         No          4035\n",
      "          Yes         1342\n",
      "Name: PatientId, dtype: int64 \n",
      "\n",
      "Diabetes\n",
      "0    66579\n",
      "1     5377\n",
      "Name: PatientId, dtype: int64 \n",
      "\n",
      "Diabetes\n",
      "0    0.288079\n",
      "1    0.249582\n",
      "Name: PatientId, dtype: float64 \n",
      "\n",
      "No_show\n",
      "Yes    0.285202\n",
      "Name: PatientId, dtype: float64 \n",
      "\n"
     ]
    },
    {
     "data": {
      "image/png": "[encoded data removed]",
      "text/plain": [
       "<Figure size 432x288 with 1 Axes>"
      ]
     },
     "metadata": {
      "needs_background": "light"
     },
     "output_type": "display_data"
    }
   ],
   "source": [
    "diabetes_rel_freqs = relative_freqs('Diabetes')\n",
    "no_show_bar_chart('Diabetes', diabetes_rel_freqs, overall_rel_freqs)"
   ]
  },
  {
   "cell_type": "markdown",
   "metadata": {},
   "source": [
    "**CONCLUSION:** The approximately 7% of appointments involving patients with Diabetes showed an apparent decrease in No-Show rate."
   ]
  },
  {
   "cell_type": "markdown",
   "metadata": {},
   "source": [
    "__*Alcoholism*__ single feature-grouped \"No-Show\" relative frequencies and bar chart:"
   ]
  },
  {
   "cell_type": "code",
   "execution_count": 82,
   "metadata": {},
   "outputs": [
    {
     "name": "stdout",
     "output_type": "stream",
     "text": [
      "Alcoholism  No_show\n",
      "0           No         50233\n",
      "            Yes        19901\n",
      "1           No          1201\n",
      "            Yes          621\n",
      "Name: PatientId, dtype: int64 \n",
      "\n",
      "Alcoholism\n",
      "0    70134\n",
      "1     1822\n",
      "Name: PatientId, dtype: int64 \n",
      "\n",
      "Alcoholism\n",
      "0    0.283757\n",
      "1    0.340834\n",
      "Name: PatientId, dtype: float64 \n",
      "\n",
      "No_show\n",
      "Yes    0.285202\n",
      "Name: PatientId, dtype: float64 \n",
      "\n"
     ]
    },
    {
     "data": {
      "image/png": "[encoded data removed]",
      "text/plain": [
       "<Figure size 432x288 with 1 Axes>"
      ]
     },
     "metadata": {
      "needs_background": "light"
     },
     "output_type": "display_data"
    }
   ],
   "source": [
    "alcoholism_rel_freqs = relative_freqs('Alcoholism')\n",
    "no_show_bar_chart('Alcoholism', alcoholism_rel_freqs, overall_rel_freqs)"
   ]
  },
  {
   "cell_type": "markdown",
   "metadata": {},
   "source": [
    "**CONCLUSION:** The 2.5% of appointments involving patients with Alcoholism showed an apparent increase in No-Show rate."
   ]
  },
  {
   "cell_type": "markdown",
   "metadata": {},
   "source": [
    "__*Handcap*__ single feature-grouped \"No-Show\" relative frequencies and bar chart:"
   ]
  },
  {
   "cell_type": "code",
   "execution_count": 83,
   "metadata": {},
   "outputs": [
    {
     "name": "stdout",
     "output_type": "stream",
     "text": [
      "Handcap  No_show\n",
      "0        No         50461\n",
      "         Yes        20188\n",
      "1        No           888\n",
      "         Yes          297\n",
      "2        No            78\n",
      "         Yes           34\n",
      "3        No             6\n",
      "         Yes            2\n",
      "4        No             1\n",
      "         Yes            1\n",
      "Name: PatientId, dtype: int64 \n",
      "\n",
      "Handcap\n",
      "0    70649\n",
      "1     1185\n",
      "2      112\n",
      "3        8\n",
      "4        2\n",
      "Name: PatientId, dtype: int64 \n",
      "\n",
      "Handcap\n",
      "0    0.285751\n",
      "1    0.250633\n",
      "2    0.303571\n",
      "3    0.250000\n",
      "4    0.500000\n",
      "Name: PatientId, dtype: float64 \n",
      "\n",
      "No_show\n",
      "Yes    0.285202\n",
      "Name: PatientId, dtype: float64 \n",
      "\n"
     ]
    },
    {
     "data": {
      "image/png": "[encoded data removed]",
      "text/plain": [
       "<Figure size 432x288 with 1 Axes>"
      ]
     },
     "metadata": {
      "needs_background": "light"
     },
     "output_type": "display_data"
    }
   ],
   "source": [
    "handcap_rel_freqs = relative_freqs('Handcap')\n",
    "no_show_bar_chart('Handcap', handcap_rel_freqs, overall_rel_freqs)"
   ]
  },
  {
   "cell_type": "markdown",
   "metadata": {},
   "source": [
    "**CONCLUSION:** The 'Handcap' (handicapped) patient appointment subgroups having a sufficient number of total rows, i.e., level 0 (no handicap) to level 2, had No-Show rates around that of the Overall dataset."
   ]
  },
  {
   "cell_type": "markdown",
   "metadata": {},
   "source": [
    "__*SMS_received*__ single feature-grouped \"No-Show\" relative frequencies and bar chart:"
   ]
  },
  {
   "cell_type": "code",
   "execution_count": 84,
   "metadata": {},
   "outputs": [
    {
     "name": "stdout",
     "output_type": "stream",
     "text": [
      "SMS_received  No_show\n",
      "0             No         25737\n",
      "              Yes        10738\n",
      "1             No         25697\n",
      "              Yes         9784\n",
      "Name: PatientId, dtype: int64 \n",
      "\n",
      "SMS_received\n",
      "0    36475\n",
      "1    35481\n",
      "Name: PatientId, dtype: int64 \n",
      "\n",
      "SMS_received\n",
      "0    0.294393\n",
      "1    0.275753\n",
      "Name: PatientId, dtype: float64 \n",
      "\n",
      "No_show\n",
      "Yes    0.285202\n",
      "Name: PatientId, dtype: float64 \n",
      "\n"
     ]
    },
    {
     "data": {
      "image/png": "[encoded data removed]",
      "text/plain": [
       "<Figure size 432x288 with 1 Axes>"
      ]
     },
     "metadata": {
      "needs_background": "light"
     },
     "output_type": "display_data"
    }
   ],
   "source": [
    "SMS_received_rel_freqs = relative_freqs('SMS_received')\n",
    "no_show_bar_chart('SMS_received', SMS_received_rel_freqs, overall_rel_freqs)"
   ]
  },
  {
   "cell_type": "markdown",
   "metadata": {},
   "source": [
    "**CONCLUSION:** The approximately one-half of appointments involving patients that did not (0) and did (1) receive an SMS reminder only showed a slight increase and slight decrease in No-Show rate, respectively, compared to the Overall No-Show rate."
   ]
  },
  {
   "cell_type": "markdown",
   "metadata": {},
   "source": [
    "### Research Question 2:\n",
    "**Are there individual features associated with high-frequency \"No-Show\" patients?**"
   ]
  },
  {
   "cell_type": "code",
   "execution_count": 85,
   "metadata": {},
   "outputs": [
    {
     "data": {
      "text/plain": [
       "45837"
      ]
     },
     "execution_count": 85,
     "metadata": {},
     "output_type": "execute_result"
    }
   ],
   "source": [
    "# First, check for the number of unique 'PatientId' values among the 71956 records.  \n",
    "nsd_df['PatientId'].nunique()"
   ]
  },
  {
   "cell_type": "markdown",
   "metadata": {},
   "source": [
    "**CONCLUSION:** The large percentage (over 50%) of unique 'PatientId' values (and the short time period of the appointments in this dataset) suggests that there are too few appointments per patient to meaningfully identify a large subset of high-frequency \"No-Show\" patients.  So, the answer to this question will not be pursued here."
   ]
  },
  {
   "cell_type": "markdown",
   "metadata": {},
   "source": [
    "### Research Question 3:\n",
    "**Are there combinations of 2 or more features that are particularly associated with patient No-Show rates?** \n",
    "\n",
    "For example, does receiving an SMS message influence the \"No-Show\" rate with increasing duration between the 'ScheduledDay' and the 'AppointmentDay' (i.e., 'DaysBetweenGroup')?"
   ]
  },
  {
   "cell_type": "code",
   "execution_count": 86,
   "metadata": {},
   "outputs": [
    {
     "data": {
      "text/plain": [
       "DaysBetweenGroup  SMS_received  No_show\n",
       "days0_7           0             No         15607\n",
       "                                Yes         5028\n",
       "                  1             No          8803\n",
       "                                Yes         2744\n",
       "days8_14          0             No          3326\n",
       "                                           ...  \n",
       "days15_28         1             Yes         2813\n",
       "days29_over       0             No          2933\n",
       "                                Yes         1710\n",
       "                  1             No          5270\n",
       "                                Yes         2258\n",
       "Name: PatientId, Length: 16, dtype: int64"
      ]
     },
     "execution_count": 86,
     "metadata": {},
     "output_type": "execute_result"
    }
   ],
   "source": [
    "# Generate the \"Show\" and \"No-Show\" counts after grouping by 'DaysBetweenGroup' and 'SMS_received'.\n",
    "three_col_show_cts = nsd_df.groupby(['DaysBetweenGroup', 'SMS_received', 'No_show']).count()\n",
    "three_col_show_cts = three_col_show_cts['PatientId']\n",
    "three_col_show_cts"
   ]
  },
  {
   "cell_type": "code",
   "execution_count": 87,
   "metadata": {},
   "outputs": [
    {
     "data": {
      "text/plain": [
       "DaysBetweenGroup  SMS_received\n",
       "days0_7           0               20635\n",
       "                  1               11547\n",
       "days8_14          0                5021\n",
       "                  1                7004\n",
       "days15_28         0                6176\n",
       "                  1                9402\n",
       "days29_over       0                4643\n",
       "                  1                7528\n",
       "Name: PatientId, dtype: int64"
      ]
     },
     "execution_count": 87,
     "metadata": {},
     "output_type": "execute_result"
    }
   ],
   "source": [
    "# Generate the total counts after grouping by 'DaysBetweenGroup' and 'SMS_received'.\n",
    "two_col_total_cts = nsd_df.groupby(['DaysBetweenGroup', 'SMS_received']).count()\n",
    "two_col_total_cts = two_col_total_cts['PatientId']\n",
    "two_col_total_cts"
   ]
  },
  {
   "cell_type": "code",
   "execution_count": 88,
   "metadata": {},
   "outputs": [
    {
     "data": {
      "text/plain": [
       "DaysBetweenGroup  SMS_received  No_show\n",
       "days0_7           0             No         0.756336\n",
       "                                Yes        0.243664\n",
       "                  1             No         0.762363\n",
       "                                Yes        0.237637\n",
       "days8_14          0             No         0.662418\n",
       "                                             ...   \n",
       "days15_28         1             Yes        0.299192\n",
       "days29_over       0             No         0.631704\n",
       "                                Yes        0.368296\n",
       "                  1             No         0.700053\n",
       "                                Yes        0.299947\n",
       "Name: PatientId, Length: 16, dtype: float64"
      ]
     },
     "execution_count": 88,
     "metadata": {},
     "output_type": "execute_result"
    }
   ],
   "source": [
    "# Generate the \"Show\" and \"No-Show\" relative frequencies for the two feature-grouped data.\n",
    "dbg_sms_rel_freqs = three_col_show_cts / two_col_total_cts\n",
    "dbg_sms_rel_freqs"
   ]
  },
  {
   "cell_type": "code",
   "execution_count": 89,
   "metadata": {},
   "outputs": [
    {
     "data": {
      "text/plain": [
       "DaysBetweenGroup  SMS_received\n",
       "days0_7           0               0.243664\n",
       "                  1               0.237637\n",
       "days8_14          0               0.337582\n",
       "                  1               0.281125\n",
       "days15_28         0               0.373219\n",
       "                  1               0.299192\n",
       "days29_over       0               0.368296\n",
       "                  1               0.299947\n",
       "Name: PatientId, dtype: float64"
      ]
     },
     "execution_count": 89,
     "metadata": {},
     "output_type": "execute_result"
    }
   ],
   "source": [
    "# Pull out the No-Show (Yes) relative frequencies.\n",
    "dbg_sms_no_show_rates = dbg_sms_rel_freqs.loc[ : , : , 'Yes', ]\n",
    "dbg_sms_no_show_rates"
   ]
  },
  {
   "cell_type": "code",
   "execution_count": 90,
   "metadata": {},
   "outputs": [
    {
     "name": "stdout",
     "output_type": "stream",
     "text": [
      "[-0.1  0.9  1.9  2.9]\n",
      "DaysBetweenGroup\n",
      "days0_7        0.243664\n",
      "days8_14       0.337582\n",
      "days15_28      0.373219\n",
      "days29_over    0.368296\n",
      "Name: PatientId, dtype: float64\n",
      "[0.1 1.1 2.1 3.1]\n",
      "DaysBetweenGroup\n",
      "days0_7        0.237637\n",
      "days8_14       0.281125\n",
      "days15_28      0.299192\n",
      "days29_over    0.299947\n",
      "Name: PatientId, dtype: float64\n"
     ]
    },
    {
     "data": {
      "image/png": "[encoded data removed]",
      "text/plain": [
       "<Figure size 432x288 with 1 Axes>"
      ]
     },
     "metadata": {
      "needs_background": "light"
     },
     "output_type": "display_data"
    }
   ],
   "source": [
    "# Generate a bar chart for the two feature-grouped \"No-Show\" (Yes) relative frequencies.\n",
    "width = 0.20\n",
    "\n",
    "locations_woS = np.arange(len(dbg_sms_no_show_rates)/2) - width/2\n",
    "print(locations_woS)\n",
    "heights_woS = dbg_sms_no_show_rates.loc[ : , 0, ]\n",
    "print(heights_woS)\n",
    "\n",
    "locations_wS = np.arange(len(dbg_sms_no_show_rates)/2) + width/2\n",
    "print(locations_wS)\n",
    "heights_wS = dbg_sms_no_show_rates.loc[ : , 1, ]\n",
    "print(heights_wS)\n",
    "\n",
    "plt.bar(locations_woS, heights_woS, width, color='y', alpha=0.7, label=\"without SMS\")\n",
    "plt.bar(locations_wS, heights_wS, width, color='g', alpha=0.7, label=\"with SMS\")\n",
    "\n",
    "xticks = ['Days_b/w_1-7', 'Days_b/w_8-14', 'Days_b/w_15-28', 'Days_b/w_29+']\n",
    "plt.xticks(np.arange(len(dbg_sms_no_show_rates)/2), xticks)\n",
    "\n",
    "plt.ylabel('No-Show Relative Frequency', fontsize=14)\n",
    "plt.title('Two Feature-Grouped Appointment \"No-Show\" Rates')\n",
    "plt.legend();"
   ]
  },
  {
   "cell_type": "markdown",
   "metadata": {},
   "source": [
    "**CONCLUSIONS:** \n",
    "* Although both the single feature(SMS)-grouped data (end of \"Research Question 1\" section) and the two feature-grouped data for 1 to 7 days between appointment scheduling and attendance (left-most pair of bars in preceding bar chart) appear to show only a slight reduction in No-Show rate with receipt of an SMS message, the potential benefit of SMS message appointment reminders is more strongly suggested for appointments scheduled more than 7 days in advance.\n",
    "* The reduction in No-Show rate with receipt of an SMS message for appointments scheduled more than 7 days in advance appears to be relatively constant."
   ]
  },
  {
   "cell_type": "markdown",
   "metadata": {},
   "source": [
    "<a id='conclusions'></a>\n",
    "## Summary of Conclusions"
   ]
  },
  {
   "cell_type": "markdown",
   "metadata": {},
   "source": [
    "For this set of medical appointments, which were not scheduled and attended on the same date:\n",
    "\n",
    "\n",
    "> 1) Over the first 28 days, No-Show rates increased with the number of days between the appointment scheduling and attendance dates.  NOTE: Perhaps logistic regression to statistically analyze?\n",
    "\n",
    "> 2) The No-Show rate was relatively high in the 0- to 18-year old group, peaked in the 19- to 39-year old group, and declined with age thereafter.\n",
    "\n",
    "> 3) There were several neighbourhoods with particularly low or high No-Show rates that could be analyzed more deeply in an attempt to identify features contributing to their notable No-Show rates.\n",
    "\n",
    "> 4) Grouping the data by a single \"binary\" feature resulted in decreased (Hipertension and Diabetes) or increased (Scholarship and Alcoholism) No-Show rates.  NOTE: Perhaps Chi-squared analyses to statisticallly analyze?\n",
    "\n",
    "> 5) A relatively constant decrease in No-Show rate was observed for patients sent SMS reminders, but only when their appointments were scheduled more than 7 days in advance."
   ]
  },
  {
   "cell_type": "markdown",
   "metadata": {},
   "source": [
    "**Limitations:** \n",
    "* The single city source (Vitoria, Brazil, apparently) of this data limits the preceding observations to Vitoria and not to the whole of the Brazil population. \n",
    "\n",
    "\n",
    "* The short time period of this data is another limitation.  \n",
    "  * As mentioned in \"Research Question 2\", above, this precluded the alternative approach of identifying high- and low-frequency \"No-Show\" patients and attempting to determine contributing features to these individuals' respective high and low No-Show rates.\n",
    "  * Also, the extension of any of the preceding observations to the entire year in Vitoria may not be valid.\n",
    "  \n",
    "  \n",
    "* The apparent date-only (i.e., time always 00:00:00) data for 'AppointmentDay' also led to exclusion of all \"same-date\" appointments, even those appointments that may have formally been scheduled earlier in the day for later on that same date.  Thus, the preceding No-Show rate observations only apply to appointments scheduled for the consecutive date or later.  \n",
    "\n",
    "\n",
    "* Any observations involving relatively small subgroups should, at best, be considered with caution (e.g., neighbourhood-specific data having <200 rows, 'Handcap' level 3 and 4 data, and, perhaps, 'Alcoholism' = 1 data).\n",
    "\n",
    "\n",
    "* A potential limitation is the apparently unclear format of the 'PatientId' values, with the concern that this could be a complicating factor for patient-specific data analysis."
   ]
  },
  {
   "cell_type": "code",
   "execution_count": null,
   "metadata": {},
   "outputs": [],
   "source": []
  }
 ],
 "metadata": {
  "kernelspec": {
   "display_name": "Python 3",
   "language": "python",
   "name": "python3"
  },
  "language_info": {
   "codemirror_mode": {
    "name": "ipython",
    "version": 3
   },
   "file_extension": ".py",
   "mimetype": "text/x-python",
   "name": "python",
   "nbconvert_exporter": "python",
   "pygments_lexer": "ipython3",
   "version": "3.7.9"
  }
 },
 "nbformat": 4,
 "nbformat_minor": 2
}
